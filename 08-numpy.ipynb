{
  "cells": [
    {
      "cell_type": "markdown",
      "metadata": {
        "id": "v2C29bjF2p7J"
      },
      "source": [
        "# Introducción a las ciencias de la computación *y programación en Python*\n",
        "\n",
        "*Banco de Guatemala*  \n",
        "*PES 2025-2026*  \n",
        "*Programación I*  \n",
        "*Septiembre de 2025*  "
      ]
    },
    {
      "cell_type": "markdown",
      "metadata": {
        "id": "WGtnnER52p7L"
      },
      "source": [
        "## Abstract\n",
        "\n",
        "> \"*I do not fear computers. I fear lack of them.*\" **Isaac Asimov**\n",
        "\n",
        "- Paquete de computación científica NumPy\n",
        "\n",
        "    - Introducción\n",
        "    \n",
        "    - Conceptos básicos de utilización\n",
        "    \n",
        "    - Ejercicios"
      ]
    },
    {
      "cell_type": "markdown",
      "metadata": {
        "id": "U_E1QbfP2p7L"
      },
      "source": [
        "# NumPy\n",
        "\n",
        "- Paquete de Python para **computación científica** de **alto desempeño** sobre vectores, matrices y estructuras de mayores dimensiones (tensores).\n",
        "\n",
        "- Implementado en C y Fortran, por lo que cuando se **vectorizan** las oepraciones, el desempeño es muy bueno.\n",
        "\n",
        "- Ofrece una estructura de datos `ndarray` para procesar de forma **eficiente** datos homogéneos.\n",
        "\n",
        "- Capacidades de algebra lineal, transformada de Fourier y generación de números aleatorios."
      ]
    },
    {
      "cell_type": "markdown",
      "metadata": {
        "id": "TDWAHx7G2p7M"
      },
      "source": [
        "## Pero, ¿y las listas de Python?\n",
        "\n",
        "- Las listas son muy generales, pueden contener cualquier tipo de objeto.\n",
        "\n",
        "    - Implementan tipos dinámicos.\n",
        "    \n",
        "    - No permiten operaciones matemáticas como la *multiplicación matricial* o *producto punto*.\n",
        "    \n",
        "- Los vectores de NumPy son de tipado estático y homogéneo. El tipo del arreglo se determina cuando se crea el vector.\n",
        "\n",
        "    - Son eficientes en memoria.\n",
        "    \n",
        "    - Es posible implementar **funciones universales** (ufuncs).\n",
        "    \n",
        "    - El tipado estático permite implementar operaciones matemáticas de forma eficiente a través de C y Fortran.\n",
        "    "
      ]
    },
    {
      "cell_type": "markdown",
      "metadata": {
        "id": "fmS36ZJ_2p7M"
      },
      "source": [
        "### Comparación entre lenguajes de programación"
      ]
    },
    {
      "cell_type": "markdown",
      "metadata": {
        "id": "4UKoIP6n2p7M"
      },
      "source": [
        "![julia-benchmarks.svg](https://github.com/PES-BG-2025/notebooks/blob/main/figs/numpy/julia-benchmarks.svg?raw=1)\n",
        "\n",
        "[5 Razones para aprender NumPy](https://insights.dice.com/2016/09/01/5-reasons-know-numpy/):\n",
        "\n",
        "    It's fast\n",
        "    It works very well with SciPy and other Libraries\n",
        "    It lets you do matrix arithmetic\n",
        "    It has lots of built-in functions\n",
        "    It has universal functions\n"
      ]
    },
    {
      "cell_type": "markdown",
      "metadata": {
        "id": "00rdhh_M2p7M"
      },
      "source": [
        "## Importando NumPy"
      ]
    },
    {
      "cell_type": "code",
      "execution_count": 13,
      "metadata": {
        "id": "JoBU19bJ2p7M"
      },
      "outputs": [],
      "source": [
        "import numpy as np"
      ]
    },
    {
      "cell_type": "markdown",
      "metadata": {
        "id": "NiP5KmW52p7N"
      },
      "source": [
        "- Revisamos la versión de NumPy (importante al ver la documentación)"
      ]
    },
    {
      "cell_type": "code",
      "execution_count": 14,
      "metadata": {
        "colab": {
          "base_uri": "https://localhost:8080/",
          "height": 35
        },
        "id": "EmtzXAwA2p7N",
        "outputId": "f85550a9-be0f-40a5-b742-6c7f67ac82e2"
      },
      "outputs": [
        {
          "output_type": "execute_result",
          "data": {
            "text/plain": [
              "'2.0.2'"
            ],
            "application/vnd.google.colaboratory.intrinsic+json": {
              "type": "string"
            }
          },
          "metadata": {},
          "execution_count": 14
        }
      ],
      "source": [
        "np.__version__\n"
      ]
    },
    {
      "cell_type": "code",
      "source": [
        "#numpy ver la version, sin usar alias\n",
        "numpy.__version__\n",
        "# no salga si ya es un alias"
      ],
      "metadata": {
        "colab": {
          "base_uri": "https://localhost:8080/",
          "height": 35
        },
        "id": "7ULOJ4it6f90",
        "outputId": "d998660b-2d09-43fc-a545-d06ecb3c53c9"
      },
      "execution_count": 12,
      "outputs": [
        {
          "output_type": "execute_result",
          "data": {
            "text/plain": [
              "'2.0.2'"
            ],
            "application/vnd.google.colaboratory.intrinsic+json": {
              "type": "string"
            }
          },
          "metadata": {},
          "execution_count": 12
        }
      ]
    },
    {
      "cell_type": "markdown",
      "metadata": {
        "id": "xUjWb79h2p7N"
      },
      "source": [
        "### Obteniendo ayuda"
      ]
    },
    {
      "cell_type": "code",
      "execution_count": 15,
      "metadata": {
        "id": "FiA3KtuP2p7N"
      },
      "outputs": [],
      "source": [
        "# Obtiene una ventana de ayuda\n",
        "np.ndarray?"
      ]
    },
    {
      "cell_type": "code",
      "execution_count": 17,
      "metadata": {
        "colab": {
          "base_uri": "https://localhost:8080/"
        },
        "id": "erbS6Lwy2p7O",
        "outputId": "b0c9b1e6-e342-4294-a251-948a0526bc23"
      },
      "outputs": [
        {
          "output_type": "stream",
          "name": "stdout",
          "text": [
            "Help on built-in function array in module numpy:\n",
            "\n",
            "array(...)\n",
            "    array(object, dtype=None, *, copy=True, order='K', subok=False, ndmin=0,\n",
            "          like=None)\n",
            "\n",
            "    Create an array.\n",
            "\n",
            "    Parameters\n",
            "    ----------\n",
            "    object : array_like\n",
            "        An array, any object exposing the array interface, an object whose\n",
            "        ``__array__`` method returns an array, or any (nested) sequence.\n",
            "        If object is a scalar, a 0-dimensional array containing object is\n",
            "        returned.\n",
            "    dtype : data-type, optional\n",
            "        The desired data-type for the array. If not given, NumPy will try to use\n",
            "        a default ``dtype`` that can represent the values (by applying promotion\n",
            "        rules when necessary.)\n",
            "    copy : bool, optional\n",
            "        If ``True`` (default), then the array data is copied. If ``None``,\n",
            "        a copy will only be made if ``__array__`` returns a copy, if obj is\n",
            "        a nested sequence, or if a copy is needed to satisfy any of the other\n",
            "        requirements (``dtype``, ``order``, etc.). Note that any copy of\n",
            "        the data is shallow, i.e., for arrays with object dtype, the new\n",
            "        array will point to the same objects. See Examples for `ndarray.copy`.\n",
            "        For ``False`` it raises a ``ValueError`` if a copy cannot be avoided.\n",
            "        Default: ``True``.\n",
            "    order : {'K', 'A', 'C', 'F'}, optional\n",
            "        Specify the memory layout of the array. If object is not an array, the\n",
            "        newly created array will be in C order (row major) unless 'F' is\n",
            "        specified, in which case it will be in Fortran order (column major).\n",
            "        If object is an array the following holds.\n",
            "\n",
            "        ===== ========= ===================================================\n",
            "        order  no copy                     copy=True\n",
            "        ===== ========= ===================================================\n",
            "        'K'   unchanged F & C order preserved, otherwise most similar order\n",
            "        'A'   unchanged F order if input is F and not C, otherwise C order\n",
            "        'C'   C order   C order\n",
            "        'F'   F order   F order\n",
            "        ===== ========= ===================================================\n",
            "\n",
            "        When ``copy=None`` and a copy is made for other reasons, the result is\n",
            "        the same as if ``copy=True``, with some exceptions for 'A', see the\n",
            "        Notes section. The default order is 'K'.\n",
            "    subok : bool, optional\n",
            "        If True, then sub-classes will be passed-through, otherwise\n",
            "        the returned array will be forced to be a base-class array (default).\n",
            "    ndmin : int, optional\n",
            "        Specifies the minimum number of dimensions that the resulting\n",
            "        array should have.  Ones will be prepended to the shape as\n",
            "        needed to meet this requirement.\n",
            "    like : array_like, optional\n",
            "        Reference object to allow the creation of arrays which are not\n",
            "        NumPy arrays. If an array-like passed in as ``like`` supports\n",
            "        the ``__array_function__`` protocol, the result will be defined\n",
            "        by it. In this case, it ensures the creation of an array object\n",
            "        compatible with that passed in via this argument.\n",
            "\n",
            "        .. versionadded:: 1.20.0\n",
            "\n",
            "    Returns\n",
            "    -------\n",
            "    out : ndarray\n",
            "        An array object satisfying the specified requirements.\n",
            "\n",
            "    See Also\n",
            "    --------\n",
            "    empty_like : Return an empty array with shape and type of input.\n",
            "    ones_like : Return an array of ones with shape and type of input.\n",
            "    zeros_like : Return an array of zeros with shape and type of input.\n",
            "    full_like : Return a new array with shape of input filled with value.\n",
            "    empty : Return a new uninitialized array.\n",
            "    ones : Return a new array setting values to one.\n",
            "    zeros : Return a new array setting values to zero.\n",
            "    full : Return a new array of given shape filled with value.\n",
            "    copy: Return an array copy of the given object.\n",
            "\n",
            "\n",
            "    Notes\n",
            "    -----\n",
            "    When order is 'A' and ``object`` is an array in neither 'C' nor 'F' order,\n",
            "    and a copy is forced by a change in dtype, then the order of the result is\n",
            "    not necessarily 'C' as expected. This is likely a bug.\n",
            "\n",
            "    Examples\n",
            "    --------\n",
            "    >>> np.array([1, 2, 3])\n",
            "    array([1, 2, 3])\n",
            "\n",
            "    Upcasting:\n",
            "\n",
            "    >>> np.array([1, 2, 3.0])\n",
            "    array([ 1.,  2.,  3.])\n",
            "\n",
            "    More than one dimension:\n",
            "\n",
            "    >>> np.array([[1, 2], [3, 4]])\n",
            "    array([[1, 2],\n",
            "           [3, 4]])\n",
            "\n",
            "    Minimum dimensions 2:\n",
            "\n",
            "    >>> np.array([1, 2, 3], ndmin=2)\n",
            "    array([[1, 2, 3]])\n",
            "\n",
            "    Type provided:\n",
            "\n",
            "    >>> np.array([1, 2, 3], dtype=complex)\n",
            "    array([ 1.+0.j,  2.+0.j,  3.+0.j])\n",
            "\n",
            "    Data-type consisting of more than one element:\n",
            "\n",
            "    >>> x = np.array([(1,2),(3,4)],dtype=[('a','<i4'),('b','<i4')])\n",
            "    >>> x['a']\n",
            "    array([1, 3])\n",
            "\n",
            "    Creating an array from sub-classes:\n",
            "\n",
            "    >>> np.array(np.asmatrix('1 2; 3 4'))\n",
            "    array([[1, 2],\n",
            "           [3, 4]])\n",
            "\n",
            "    >>> np.array(np.asmatrix('1 2; 3 4'), subok=True)\n",
            "    matrix([[1, 2],\n",
            "            [3, 4]])\n",
            "\n"
          ]
        }
      ],
      "source": [
        "# Función help para una función\n",
        "help(np.array)"
      ]
    },
    {
      "cell_type": "markdown",
      "metadata": {
        "id": "IgLjbjP52p7O"
      },
      "source": [
        "***\n",
        "## La clase `ndarray`"
      ]
    },
    {
      "cell_type": "markdown",
      "metadata": {
        "id": "mIBfv56z2p7O"
      },
      "source": [
        "- La clase básica de NumPy se llama `ndarray` (alias `array`). Sus atributos más importantes son:\n",
        "\n",
        "    - `ndarray.ndim` : número de dimensiones del arreglo.\n",
        "\n",
        "    - `ndarray.shape` : dimensiones del arreglo. Esta es una **tupla de enteros** que indica el tamaño de la matriz en cada dimensión. Para una matriz con $n$ filas y $m$ columnas, la forma será $(n, m)$. La longitud de la tupla de forma es, por lo tanto, el número de ejes, `ndim`.\n",
        "\n",
        "    - `darray.size` : el número total de elementos del arreglo. Es igual al producto de los elementos de la tupla `shape`.\n",
        "\n",
        "    - `ndarray.dtype` : un **objeto** que describe el **tipo** de los elementos en el arreglo. Es posible crear y especificar `dtypes` propios.\n",
        "        - Adicionalmente, NumPy provee algunos tipos propios muy utilizados: `numpy.int32`, `numpy.int16`, and `numpy.float64`.\n",
        "\n",
        "    - `ndarray.itemsize` : el tamaño en bytes de cada elemento en el arreglo. Por ejemplo, un arreglo de tipo `float64` tiene tamaño en bytes de $8 (=64/8)$. Equivalente a `ndarray.dtype.itemsize`.\n",
        "\n",
        "    - `ndarray.data` : el búfer que contiene los elementos del arreglo. Aunque normalmente, no accedemos al atributo directamente, ya que hacemos uso de los elementos con *slicing*.\n",
        "\n"
      ]
    },
    {
      "cell_type": "code",
      "execution_count": 20,
      "metadata": {
        "colab": {
          "base_uri": "https://localhost:8080/"
        },
        "id": "ZEgO9WpU2p7O",
        "outputId": "f918c8e1-7728-4d45-c2ed-e73fb3bd79b8"
      },
      "outputs": [
        {
          "output_type": "execute_result",
          "data": {
            "text/plain": [
              "array([[ 0,  1,  2,  3,  4],\n",
              "       [ 5,  6,  7,  8,  9],\n",
              "       [10, 11, 12, 13, 14]])"
            ]
          },
          "metadata": {},
          "execution_count": 20
        }
      ],
      "source": [
        "a = np.arange(15).reshape(3, 5)\n",
        "a"
      ]
    },
    {
      "cell_type": "code",
      "execution_count": 21,
      "metadata": {
        "colab": {
          "base_uri": "https://localhost:8080/"
        },
        "id": "IU_t5cvI2p7O",
        "outputId": "017748b4-14b4-41f6-db50-4101fbc26cd2"
      },
      "outputs": [
        {
          "output_type": "execute_result",
          "data": {
            "text/plain": [
              "(3, 5)"
            ]
          },
          "metadata": {},
          "execution_count": 21
        }
      ],
      "source": [
        "a.shape #La dimension del arreglo"
      ]
    },
    {
      "cell_type": "code",
      "execution_count": 23,
      "metadata": {
        "colab": {
          "base_uri": "https://localhost:8080/"
        },
        "id": "QMZMC-Cf2p7O",
        "outputId": "d2405e2b-84d2-4b64-d726-5ba781e2d79b"
      },
      "outputs": [
        {
          "output_type": "execute_result",
          "data": {
            "text/plain": [
              "2"
            ]
          },
          "metadata": {},
          "execution_count": 23
        }
      ],
      "source": [
        "a.ndim #numero de dimension del arreglo"
      ]
    },
    {
      "cell_type": "code",
      "execution_count": 25,
      "metadata": {
        "colab": {
          "base_uri": "https://localhost:8080/"
        },
        "id": "eMt9f1aZ2p7O",
        "outputId": "7cc69c07-e2ea-45b0-9b2d-62b8827460cf"
      },
      "outputs": [
        {
          "output_type": "execute_result",
          "data": {
            "text/plain": [
              "numpy.dtypes.Int64DType"
            ]
          },
          "metadata": {},
          "execution_count": 25
        }
      ],
      "source": [
        "a.dtype # de que tipo de arreglo es\n",
        "type(a.dtype)"
      ]
    },
    {
      "cell_type": "code",
      "source": [
        "a = np.arange(15, dtype=np.float64).reshape(3, 5)\n",
        "a.dtype.name"
      ],
      "metadata": {
        "colab": {
          "base_uri": "https://localhost:8080/",
          "height": 35
        },
        "id": "xW2b9GLT8Bnk",
        "outputId": "b415cbe4-d239-4693-bc08-9c052f462137"
      },
      "execution_count": 26,
      "outputs": [
        {
          "output_type": "execute_result",
          "data": {
            "text/plain": [
              "'float64'"
            ],
            "application/vnd.google.colaboratory.intrinsic+json": {
              "type": "string"
            }
          },
          "metadata": {},
          "execution_count": 26
        }
      ]
    },
    {
      "cell_type": "code",
      "execution_count": 27,
      "metadata": {
        "colab": {
          "base_uri": "https://localhost:8080/",
          "height": 35
        },
        "id": "bSXJ9TIF2p7O",
        "outputId": "da5412ef-df54-4e07-9085-9651f95c7d4e"
      },
      "outputs": [
        {
          "output_type": "execute_result",
          "data": {
            "text/plain": [
              "'float64'"
            ],
            "application/vnd.google.colaboratory.intrinsic+json": {
              "type": "string"
            }
          },
          "metadata": {},
          "execution_count": 27
        }
      ],
      "source": [
        "a.dtype.name"
      ]
    },
    {
      "cell_type": "code",
      "execution_count": 28,
      "metadata": {
        "colab": {
          "base_uri": "https://localhost:8080/"
        },
        "id": "aP981g3c2p7O",
        "outputId": "15781cc3-096c-4977-b62c-7a5f525df889"
      },
      "outputs": [
        {
          "output_type": "execute_result",
          "data": {
            "text/plain": [
              "8"
            ]
          },
          "metadata": {},
          "execution_count": 28
        }
      ],
      "source": [
        "a.itemsize #cuantos bits es, como es 64 para nuestro caso, da 8 bit"
      ]
    },
    {
      "cell_type": "code",
      "source": [
        "a.data"
      ],
      "metadata": {
        "colab": {
          "base_uri": "https://localhost:8080/"
        },
        "id": "WQD60Qln8eIE",
        "outputId": "1d538a12-5f1a-4c02-de6a-3e2390173978"
      },
      "execution_count": 30,
      "outputs": [
        {
          "output_type": "execute_result",
          "data": {
            "text/plain": [
              "<memory at 0x7866e9033ac0>"
            ]
          },
          "metadata": {},
          "execution_count": 30
        }
      ]
    },
    {
      "cell_type": "code",
      "execution_count": null,
      "metadata": {
        "id": "Y8bIGgIf2p7O"
      },
      "outputs": [],
      "source": [
        "a.size"
      ]
    },
    {
      "cell_type": "code",
      "execution_count": 33,
      "metadata": {
        "colab": {
          "base_uri": "https://localhost:8080/"
        },
        "id": "MQ73wWYX2p7O",
        "outputId": "8e1a663b-197b-4237-82ce-f6debde61c22"
      },
      "outputs": [
        {
          "output_type": "execute_result",
          "data": {
            "text/plain": [
              "numpy.ndarray"
            ]
          },
          "metadata": {},
          "execution_count": 33
        }
      ],
      "source": [
        "type(a)"
      ]
    },
    {
      "cell_type": "markdown",
      "metadata": {
        "id": "SLHLgaBP2p7P"
      },
      "source": [
        "***\n",
        "# Creando arreglos N-dimensionales de NumPy\n",
        "\n",
        "- Hay varias formas de inicializar nuevas matrices numpy, por ejemplo desde\n",
        "\n",
        "    - Una lista de Python o tuplas.\n",
        "    \n",
        "    - Utilizando funciones dedicadas a **generar** arreglos de NumPy.\n",
        "\n",
        "      - Es común inicializar vectores de ceros o con valores aleatorios.\n",
        "    \n",
        "    - Leer información de archivos."
      ]
    },
    {
      "cell_type": "code",
      "execution_count": 34,
      "metadata": {
        "colab": {
          "base_uri": "https://localhost:8080/"
        },
        "id": "0yCe2bCB2p7P",
        "outputId": "b5ed785b-efef-40b0-f647-de3e53d6a9e8"
      },
      "outputs": [
        {
          "output_type": "execute_result",
          "data": {
            "text/plain": [
              "array([2, 3, 4])"
            ]
          },
          "metadata": {},
          "execution_count": 34
        }
      ],
      "source": [
        "a = np.array([2,3,4])\n",
        "a"
      ]
    },
    {
      "cell_type": "code",
      "execution_count": 35,
      "metadata": {
        "colab": {
          "base_uri": "https://localhost:8080/"
        },
        "id": "Cad7JIer2p7P",
        "outputId": "5b6685f0-a8ca-4830-b6e1-c1fd5aff494b"
      },
      "outputs": [
        {
          "output_type": "execute_result",
          "data": {
            "text/plain": [
              "dtype('int64')"
            ]
          },
          "metadata": {},
          "execution_count": 35
        }
      ],
      "source": [
        "a.dtype"
      ]
    },
    {
      "cell_type": "code",
      "execution_count": 36,
      "metadata": {
        "colab": {
          "base_uri": "https://localhost:8080/"
        },
        "id": "3_CGJHn62p7P",
        "outputId": "28188d92-7a61-460c-c121-94651947d37c"
      },
      "outputs": [
        {
          "output_type": "execute_result",
          "data": {
            "text/plain": [
              "array([1.2, 3.5, 5.1])"
            ]
          },
          "metadata": {},
          "execution_count": 36
        }
      ],
      "source": [
        "b = np.array([1.2, 3.5, 5.1])\n",
        "b"
      ]
    },
    {
      "cell_type": "code",
      "execution_count": 37,
      "metadata": {
        "colab": {
          "base_uri": "https://localhost:8080/"
        },
        "id": "O2ZMiePJ2p7P",
        "outputId": "0fdde149-0b1f-4f71-86e2-8e6fee4b211e"
      },
      "outputs": [
        {
          "output_type": "execute_result",
          "data": {
            "text/plain": [
              "dtype('float64')"
            ]
          },
          "metadata": {},
          "execution_count": 37
        }
      ],
      "source": [
        "b.dtype"
      ]
    },
    {
      "cell_type": "markdown",
      "metadata": {
        "id": "NqwmexdZ2p7P"
      },
      "source": [
        "### Error frecuente\n",
        "\n",
        "Crear el arreglo con varios argumentos en vez de proveer una sola lista o secuencia como argumento"
      ]
    },
    {
      "cell_type": "code",
      "execution_count": 40,
      "metadata": {
        "id": "WVQB2Pcy2p7P"
      },
      "outputs": [],
      "source": [
        "# Error frecuente\n",
        "a = np.array([1,2,3,4], dtype=\"int64\")"
      ]
    },
    {
      "cell_type": "markdown",
      "metadata": {
        "id": "Vw1ePM912p7P"
      },
      "source": [
        "## A partir de listas o tuplas\n",
        "`ndarray` transforma secuencias de secuencias en matrices bidimensionales, secuencias de secuencias de secuencias en matrices tridimensionales, etc."
      ]
    },
    {
      "cell_type": "code",
      "execution_count": 41,
      "metadata": {
        "colab": {
          "base_uri": "https://localhost:8080/"
        },
        "id": "iYbSLmls2p7P",
        "outputId": "af97b979-210a-46a8-f48b-bf0d9fac8a61"
      },
      "outputs": [
        {
          "output_type": "execute_result",
          "data": {
            "text/plain": [
              "array([[1.5, 2. , 3. ],\n",
              "       [4. , 5. , 6. ]])"
            ]
          },
          "metadata": {},
          "execution_count": 41
        }
      ],
      "source": [
        "b = np.array([[1.5,2,3], [4,5,6]])\n",
        "b"
      ]
    },
    {
      "cell_type": "code",
      "source": [
        "\n",
        "#una matriz que tenga dimension atras de otra lista, usar lista de listas de listas\n",
        "b = np.array([[[1.5,2,3], [4,5,6]],[[1.5,2,3], [4,5,7]]])\n",
        "b"
      ],
      "metadata": {
        "colab": {
          "base_uri": "https://localhost:8080/"
        },
        "id": "HVwFkr6j9kHc",
        "outputId": "0b600813-3673-4c03-b2fa-69bdfcbd9099"
      },
      "execution_count": 44,
      "outputs": [
        {
          "output_type": "execute_result",
          "data": {
            "text/plain": [
              "array([[[1.5, 2. , 3. ],\n",
              "        [4. , 5. , 6. ]],\n",
              "\n",
              "       [[1.5, 2. , 3. ],\n",
              "        [4. , 5. , 7. ]]])"
            ]
          },
          "metadata": {},
          "execution_count": 44
        }
      ]
    },
    {
      "cell_type": "code",
      "source": [
        "#una matriz que tenga dimension atras de otra lista, usar lista de listas de listas, 4 dimensiones\n",
        "b = np.array([[[[1.5,2,3], [4,5,6]],[[1.5,2,3], [4,5,7]]],[[[1.5,2,3], [4,5,6]],[[1.5,2,3], [4,5,8]]]])\n",
        "b"
      ],
      "metadata": {
        "colab": {
          "base_uri": "https://localhost:8080/"
        },
        "id": "97bEBwD2-Mgu",
        "outputId": "fdac64aa-4c39-4e70-c038-c0f8ed22873f"
      },
      "execution_count": 47,
      "outputs": [
        {
          "output_type": "execute_result",
          "data": {
            "text/plain": [
              "array([[[[1.5, 2. , 3. ],\n",
              "         [4. , 5. , 6. ]],\n",
              "\n",
              "        [[1.5, 2. , 3. ],\n",
              "         [4. , 5. , 7. ]]],\n",
              "\n",
              "\n",
              "       [[[1.5, 2. , 3. ],\n",
              "         [4. , 5. , 6. ]],\n",
              "\n",
              "        [[1.5, 2. , 3. ],\n",
              "         [4. , 5. , 8. ]]]])"
            ]
          },
          "metadata": {},
          "execution_count": 47
        }
      ]
    },
    {
      "cell_type": "markdown",
      "metadata": {
        "id": "o6agS9Xx2p7P"
      },
      "source": [
        "El tipo de matriz también se puede especificar explícitamente en el momento de la creación:"
      ]
    },
    {
      "cell_type": "code",
      "execution_count": 48,
      "metadata": {
        "colab": {
          "base_uri": "https://localhost:8080/"
        },
        "id": "tS4Fnl8B2p7P",
        "outputId": "1461e4d5-d8e7-4111-8571-0e92977e6f5f"
      },
      "outputs": [
        {
          "output_type": "execute_result",
          "data": {
            "text/plain": [
              "array([[1.+0.j, 2.+0.j],\n",
              "       [3.+0.j, 4.+0.j]])"
            ]
          },
          "metadata": {},
          "execution_count": 48
        }
      ],
      "source": [
        "c = np.array( [ [1,2], [3,4] ], dtype=complex )\n",
        "c"
      ]
    },
    {
      "cell_type": "markdown",
      "metadata": {
        "id": "CJa7D-MA2p7P"
      },
      "source": [
        "## Funciones de generación de arreglos"
      ]
    },
    {
      "cell_type": "code",
      "execution_count": 51,
      "metadata": {
        "colab": {
          "base_uri": "https://localhost:8080/"
        },
        "id": "83X97hVV2p7P",
        "outputId": "5e4e9a68-af6d-404d-f162-d90a3d37908d"
      },
      "outputs": [
        {
          "output_type": "execute_result",
          "data": {
            "text/plain": [
              "array([10, 15, 20, 25])"
            ]
          },
          "metadata": {},
          "execution_count": 51
        }
      ],
      "source": [
        "np.arange(10, 30, 5)"
      ]
    },
    {
      "cell_type": "code",
      "execution_count": 53,
      "metadata": {
        "colab": {
          "base_uri": "https://localhost:8080/"
        },
        "id": "ddeX3qrp2p7P",
        "outputId": "cfb3c479-adbb-4ae0-fcb9-2d055fb228b5"
      },
      "outputs": [
        {
          "output_type": "execute_result",
          "data": {
            "text/plain": [
              "array([0. , 0.3, 0.6, 0.9, 1.2, 1.5, 1.8])"
            ]
          },
          "metadata": {},
          "execution_count": 53
        }
      ],
      "source": [
        "# A diferencia de range\n",
        "np.arange(0, 2, 0.3)"
      ]
    },
    {
      "cell_type": "code",
      "source": [
        "np.ones((2,3,2)) #arreglos de 1 con dimensiones columnaxfila, dimension"
      ],
      "metadata": {
        "id": "3BQQLRiM_llk",
        "outputId": "2f7d1924-a4f7-453b-e4cb-3d95373d5e4e",
        "colab": {
          "base_uri": "https://localhost:8080/"
        }
      },
      "execution_count": 57,
      "outputs": [
        {
          "output_type": "execute_result",
          "data": {
            "text/plain": [
              "array([[[1., 1.],\n",
              "        [1., 1.],\n",
              "        [1., 1.]],\n",
              "\n",
              "       [[1., 1.],\n",
              "        [1., 1.],\n",
              "        [1., 1.]]])"
            ]
          },
          "metadata": {},
          "execution_count": 57
        }
      ]
    },
    {
      "cell_type": "markdown",
      "metadata": {
        "id": "nVTFF68N2p7P"
      },
      "source": [
        "#### Evaluación de funciones\n",
        "\n",
        "Notar que la evaluación de funciones es \"vectorizada\", es decir, sobre todos los elementos del arreglo a la vez.\n",
        "\n",
        "- ¡Evitamos los ciclos `for` de Python porque son más lentos!"
      ]
    },
    {
      "cell_type": "code",
      "execution_count": 67,
      "metadata": {
        "colab": {
          "base_uri": "https://localhost:8080/"
        },
        "id": "Ax9q6ll-2p7P",
        "outputId": "0029493b-fced-4be3-ed0d-108529e85301"
      },
      "outputs": [
        {
          "output_type": "execute_result",
          "data": {
            "text/plain": [
              "array([0.        , 0.12822827, 0.25645654, 0.38468481, 0.51291309,\n",
              "       0.64114136, 0.76936963, 0.8975979 , 1.02582617, 1.15405444,\n",
              "       1.28228272, 1.41051099, 1.53873926, 1.66696753, 1.7951958 ,\n",
              "       1.92342407, 2.05165235, 2.17988062, 2.30810889, 2.43633716,\n",
              "       2.56456543, 2.6927937 , 2.82102197, 2.94925025, 3.07747852,\n",
              "       3.20570679, 3.33393506, 3.46216333, 3.5903916 , 3.71861988,\n",
              "       3.84684815, 3.97507642, 4.10330469, 4.23153296, 4.35976123,\n",
              "       4.48798951, 4.61621778, 4.74444605, 4.87267432, 5.00090259,\n",
              "       5.12913086, 5.25735913, 5.38558741, 5.51381568, 5.64204395,\n",
              "       5.77027222, 5.89850049, 6.02672876, 6.15495704, 6.28318531])"
            ]
          },
          "metadata": {},
          "execution_count": 67
        }
      ],
      "source": [
        "x = np.linspace(0, 2*np.pi, 50)\n",
        "x"
      ]
    },
    {
      "cell_type": "code",
      "execution_count": 70,
      "metadata": {
        "colab": {
          "base_uri": "https://localhost:8080/"
        },
        "id": "40M587nU2p7S",
        "outputId": "6b07e528-3eb5-43fc-c14a-b14981e3d82e"
      },
      "outputs": [
        {
          "output_type": "stream",
          "name": "stdout",
          "text": [
            "1.5 µs ± 377 ns per loop (mean ± std. dev. of 7 runs, 1000000 loops each)\n"
          ]
        }
      ],
      "source": [
        "%%timeit #mide el tiempo de ejecucion de la celda\n",
        "y = np.sin(x)\n",
        "y"
      ]
    },
    {
      "cell_type": "code",
      "source": [
        "%%timeit #mide el tiempo de ejecucion de la celda\n",
        "y2 = np.zeros(50)\n",
        "for i in range(50):\n",
        "    y2[i] = np.sin(x[i])\n",
        "y2"
      ],
      "metadata": {
        "id": "2ytDTgGmAUVs",
        "outputId": "cf5d1496-2716-4a1b-91b3-01069da227f4",
        "colab": {
          "base_uri": "https://localhost:8080/"
        }
      },
      "execution_count": 71,
      "outputs": [
        {
          "output_type": "stream",
          "name": "stdout",
          "text": [
            "56.8 µs ± 1.2 µs per loop (mean ± std. dev. of 7 runs, 10000 loops each)\n"
          ]
        }
      ]
    },
    {
      "cell_type": "code",
      "source": [
        "T"
      ],
      "metadata": {
        "id": "E3YAsgdcAzhO"
      },
      "execution_count": null,
      "outputs": []
    },
    {
      "cell_type": "markdown",
      "metadata": {
        "id": "sRn-SP5O2p7T"
      },
      "source": [
        "##  Variables aleatorias"
      ]
    },
    {
      "cell_type": "code",
      "execution_count": null,
      "metadata": {
        "id": "PHeyUP6s2p7T"
      },
      "outputs": [],
      "source": [
        "b = np.random.random((5, 5))\n",
        "b"
      ]
    },
    {
      "cell_type": "markdown",
      "metadata": {
        "id": "c2pvs0YJ2p7T"
      },
      "source": [
        "## Unos, ceros"
      ]
    },
    {
      "cell_type": "code",
      "execution_count": null,
      "metadata": {
        "id": "NMFsOoIc2p7T"
      },
      "outputs": [],
      "source": [
        "np.zeros([10, 10])"
      ]
    },
    {
      "cell_type": "code",
      "execution_count": null,
      "metadata": {
        "id": "A_eQlLDq2p7T"
      },
      "outputs": [],
      "source": [
        "np.ones([5, 5])"
      ]
    },
    {
      "cell_type": "code",
      "execution_count": null,
      "metadata": {
        "id": "_U-Sf_Ec2p7T"
      },
      "outputs": [],
      "source": [
        "# Copiando la forma de x\n",
        "np.ones_like(x)"
      ]
    },
    {
      "cell_type": "code",
      "execution_count": null,
      "metadata": {
        "id": "sGUAR5YU2p7T"
      },
      "outputs": [],
      "source": [
        "np.identity(5)"
      ]
    },
    {
      "cell_type": "markdown",
      "metadata": {
        "id": "vNWLMnWO2p7T"
      },
      "source": [
        "## Desde archivos"
      ]
    },
    {
      "cell_type": "code",
      "execution_count": null,
      "metadata": {
        "id": "U-mTPETt2p7T"
      },
      "outputs": [],
      "source": [
        "data = np.loadtxt(\"data/data.csv\", delimiter=',', skiprows=1)\n",
        "data"
      ]
    },
    {
      "cell_type": "markdown",
      "metadata": {
        "id": "qkjs7gUr2p7T"
      },
      "source": [
        "***\n",
        "# Impresión de arreglos\n",
        "\n",
        "Cuando imprimes una matriz, NumPy la muestra de forma similar a las listas anidadas, pero con el siguiente diseño:\n",
        "\n",
        "- el último eje se imprime de izquierda a derecha,\n",
        "\n",
        "- el penúltimo se imprime de arriba a abajo,\n",
        "\n",
        "- el resto también se imprime de arriba a abajo, con cada corte separado del siguiente por una línea vacía.\n",
        "\n",
        "Las matrices unidimensionales se imprimen como filas, bidimensionales como matrices y tridimensionales como listas de matrices."
      ]
    },
    {
      "cell_type": "code",
      "execution_count": null,
      "metadata": {
        "id": "XWrNzZ512p7T"
      },
      "outputs": [],
      "source": [
        "a = np.arange(6)\n",
        "print(a)"
      ]
    },
    {
      "cell_type": "code",
      "execution_count": null,
      "metadata": {
        "id": "4Tbod3Me2p7T"
      },
      "outputs": [],
      "source": [
        "b = np.arange(12).reshape(4,3)\n",
        "print(b)"
      ]
    },
    {
      "cell_type": "code",
      "execution_count": null,
      "metadata": {
        "id": "FvDrrewi2p7T"
      },
      "outputs": [],
      "source": [
        "c = np.arange(24).reshape(2,3,4)\n",
        "print(c)"
      ]
    },
    {
      "cell_type": "code",
      "execution_count": null,
      "metadata": {
        "id": "U0hD1QTG2p7T"
      },
      "outputs": [],
      "source": [
        "# Si es muy grande, se suprime parte de la salida\n",
        "print(np.arange(10000))"
      ]
    },
    {
      "cell_type": "code",
      "execution_count": null,
      "metadata": {
        "id": "AKKcu5JB2p7T"
      },
      "outputs": [],
      "source": [
        "print(np.arange(10000).reshape(100,100))"
      ]
    },
    {
      "cell_type": "markdown",
      "metadata": {
        "id": "Uf8uypd_2p7U"
      },
      "source": [
        "***\n",
        "# Operaciones básicas\n",
        "\n",
        "Las operaciones básicas son aplicadas elemento a elemento (*elementwise*). Se crea un nuevo arreglo lleno con el resultado"
      ]
    },
    {
      "cell_type": "code",
      "execution_count": null,
      "metadata": {
        "id": "szag6-7M2p7U"
      },
      "outputs": [],
      "source": [
        "a = np.array( [20,30,40,50] )\n",
        "b = np.arange(4)\n",
        "a, b"
      ]
    },
    {
      "cell_type": "code",
      "execution_count": null,
      "metadata": {
        "id": "x07HZ7yc2p7U"
      },
      "outputs": [],
      "source": [
        "c = a - b\n",
        "c"
      ]
    },
    {
      "cell_type": "markdown",
      "metadata": {
        "id": "0IS6d3XY2p7U"
      },
      "source": [
        "`*` opera en sentido elemento a elemento sobre los arreglos."
      ]
    },
    {
      "cell_type": "code",
      "execution_count": null,
      "metadata": {
        "id": "sxpgnRXm2p7U"
      },
      "outputs": [],
      "source": [
        "# Constante por arreglo\n",
        "10 * np.sin(a)"
      ]
    },
    {
      "cell_type": "code",
      "execution_count": null,
      "metadata": {
        "id": "i3bw4kVc2p7U"
      },
      "outputs": [],
      "source": [
        "# Arreglos lógicos\n",
        "a < 35"
      ]
    },
    {
      "cell_type": "markdown",
      "metadata": {
        "id": "NDM_skbp2p7U"
      },
      "source": [
        "La multiplicación matricial puede hacerse utilizando `@` o el método `dot`"
      ]
    },
    {
      "cell_type": "code",
      "execution_count": null,
      "metadata": {
        "id": "FcU_v1Iy2p7U"
      },
      "outputs": [],
      "source": [
        "A = np.array( [[1, 1], [0, 1]] )\n",
        "B = np.array( [[2, 0], [3, 4]] )"
      ]
    },
    {
      "cell_type": "code",
      "execution_count": null,
      "metadata": {
        "id": "PEeGuXhQ2p7U"
      },
      "outputs": [],
      "source": [
        "A * B"
      ]
    },
    {
      "cell_type": "code",
      "execution_count": null,
      "metadata": {
        "id": "vPUmkijq2p7U"
      },
      "outputs": [],
      "source": [
        "A @ B"
      ]
    },
    {
      "cell_type": "code",
      "execution_count": null,
      "metadata": {
        "id": "WsGoDajL2p7U"
      },
      "outputs": [],
      "source": [
        "A.dot(B)"
      ]
    },
    {
      "cell_type": "code",
      "execution_count": null,
      "metadata": {
        "scrolled": true,
        "id": "jdwWsdJM2p7U"
      },
      "outputs": [],
      "source": [
        "np.matmul(A, B)"
      ]
    },
    {
      "cell_type": "code",
      "execution_count": null,
      "metadata": {
        "id": "UG_NC-y62p7U"
      },
      "outputs": [],
      "source": [
        "b = np.random.random((2,3))\n",
        "b"
      ]
    },
    {
      "cell_type": "markdown",
      "metadata": {
        "id": "nLMi01G12p7U"
      },
      "source": [
        "Operadores `+=` y `*=` son válidos para modificar arreglos existentes."
      ]
    },
    {
      "cell_type": "code",
      "execution_count": null,
      "metadata": {
        "id": "Osjx49_p2p7U"
      },
      "outputs": [],
      "source": [
        "a = np.ones((2,3), dtype=int)\n",
        "a *= 3\n",
        "a"
      ]
    },
    {
      "cell_type": "code",
      "execution_count": null,
      "metadata": {
        "id": "FlgDd7lb2p7U"
      },
      "outputs": [],
      "source": [
        "b = np.random.random((2,3))\n",
        "b +=a\n",
        "b"
      ]
    },
    {
      "cell_type": "markdown",
      "metadata": {
        "id": "A9RQgCpM2p7U"
      },
      "source": [
        "## Métodos útiles"
      ]
    },
    {
      "cell_type": "code",
      "execution_count": null,
      "metadata": {
        "id": "kjlueTJc2p7U"
      },
      "outputs": [],
      "source": [
        "a = np.random.random((2, 3))\n",
        "a"
      ]
    },
    {
      "cell_type": "code",
      "execution_count": null,
      "metadata": {
        "id": "5FCGh3_Q2p7U"
      },
      "outputs": [],
      "source": [
        "a.sum() # equivalente a np.sum(a)"
      ]
    },
    {
      "cell_type": "code",
      "execution_count": null,
      "metadata": {
        "id": "IMTKP5Av2p7V"
      },
      "outputs": [],
      "source": [
        "a.min()"
      ]
    },
    {
      "cell_type": "code",
      "execution_count": null,
      "metadata": {
        "id": "wNlztRWL2p7V"
      },
      "outputs": [],
      "source": [
        "a.max()"
      ]
    },
    {
      "cell_type": "markdown",
      "metadata": {
        "id": "lvyyOZGv2p7V"
      },
      "source": [
        "Por defecto operan sobre el arreglo como si fueran una lista de números. Es posible especificar el eje sobre el cuál se desea aplicar la operación con el parámetro `axis`"
      ]
    },
    {
      "cell_type": "code",
      "execution_count": null,
      "metadata": {
        "id": "7sI1sSmB2p7V"
      },
      "outputs": [],
      "source": [
        "b = np.arange(12).reshape(3,4)\n",
        "b"
      ]
    },
    {
      "cell_type": "code",
      "execution_count": null,
      "metadata": {
        "id": "T3bT0HQM2p7V"
      },
      "outputs": [],
      "source": [
        "# Suma de las columnas\n",
        "b.sum(axis=0)"
      ]
    },
    {
      "cell_type": "code",
      "execution_count": null,
      "metadata": {
        "id": "92ELrr7f2p7V"
      },
      "outputs": [],
      "source": [
        "# Mínimo de cada fila\n",
        "b.min(axis=1)"
      ]
    },
    {
      "cell_type": "code",
      "execution_count": null,
      "metadata": {
        "id": "T-4FgUqN2p7V"
      },
      "outputs": [],
      "source": [
        "# Suma acumulada en las columnas\n",
        "b.cumsum(axis=1)"
      ]
    },
    {
      "cell_type": "markdown",
      "metadata": {
        "id": "2n4ZEGvp2p7V"
      },
      "source": [
        "***\n",
        "## Funciones universales (*ufuncs*)"
      ]
    },
    {
      "cell_type": "code",
      "execution_count": null,
      "metadata": {
        "id": "11sWfB642p7V"
      },
      "outputs": [],
      "source": [
        "a = np.arange(5)\n",
        "a"
      ]
    },
    {
      "cell_type": "code",
      "execution_count": null,
      "metadata": {
        "id": "cR6iUOKx2p7V"
      },
      "outputs": [],
      "source": [
        "np.exp(a)"
      ]
    },
    {
      "cell_type": "code",
      "execution_count": null,
      "metadata": {
        "id": "2jRqAomJ2p7V"
      },
      "outputs": [],
      "source": [
        "np.sqrt(a)"
      ]
    },
    {
      "cell_type": "markdown",
      "metadata": {
        "id": "by8Yf_I32p7V"
      },
      "source": [
        "Podemos definir funciones de usuario que sean universales: $$ f(x) = 2x + e^x - \\sqrt{x} $$"
      ]
    },
    {
      "cell_type": "code",
      "execution_count": null,
      "metadata": {
        "id": "o7p-mwqJ2p7V"
      },
      "outputs": [],
      "source": [
        "def f(x):\n",
        "    return 2*x + np.exp(x) - np.sqrt(x)"
      ]
    },
    {
      "cell_type": "code",
      "execution_count": null,
      "metadata": {
        "id": "gJsPwA3P2p7V"
      },
      "outputs": [],
      "source": [
        "f(a)"
      ]
    },
    {
      "cell_type": "markdown",
      "metadata": {
        "id": "9UyZTv8X2p7V"
      },
      "source": [
        "***\n",
        "## Indexing, Slicing and Iterating\n",
        "\n",
        "Los arreglos unidimensionales se pueden indexar, dividir e iterar, al igual que las listas y otras secuencias de Python."
      ]
    },
    {
      "cell_type": "code",
      "execution_count": null,
      "metadata": {
        "id": "ssSOLhlq2p7V"
      },
      "outputs": [],
      "source": [
        "a = np.arange(10)**3\n",
        "a"
      ]
    },
    {
      "cell_type": "code",
      "execution_count": null,
      "metadata": {
        "id": "2oWAprEB2p7V"
      },
      "outputs": [],
      "source": [
        "a[2]"
      ]
    },
    {
      "cell_type": "code",
      "execution_count": null,
      "metadata": {
        "id": "ITwGLSeC2p7V"
      },
      "outputs": [],
      "source": [
        "a[2:5]"
      ]
    },
    {
      "cell_type": "code",
      "execution_count": null,
      "metadata": {
        "id": "CmeUE4SB2p7V"
      },
      "outputs": [],
      "source": [
        "# Asignación múltiple\n",
        "a[0:6:2] = -1000\n",
        "a"
      ]
    },
    {
      "cell_type": "code",
      "execution_count": null,
      "metadata": {
        "id": "_0toByLF2p7V"
      },
      "outputs": [],
      "source": [
        "def f(x,y):\n",
        "    return 10*x + y"
      ]
    },
    {
      "cell_type": "code",
      "execution_count": null,
      "metadata": {
        "id": "xeKQ5dqR2p7W"
      },
      "outputs": [],
      "source": [
        "b = np.fromfunction(f, (5,4), dtype=int)\n",
        "b"
      ]
    },
    {
      "cell_type": "code",
      "execution_count": null,
      "metadata": {
        "id": "WZyEW_032p7W"
      },
      "outputs": [],
      "source": [
        "b[2, 3]"
      ]
    },
    {
      "cell_type": "code",
      "execution_count": null,
      "metadata": {
        "id": "P8RJPV8M2p7W"
      },
      "outputs": [],
      "source": [
        "b[0:5, 1]"
      ]
    },
    {
      "cell_type": "code",
      "execution_count": null,
      "metadata": {
        "id": "zB67lFwW2p7W"
      },
      "outputs": [],
      "source": [
        "b[:, 1]"
      ]
    },
    {
      "cell_type": "markdown",
      "metadata": {
        "id": "VOf5H5Hs2p7W"
      },
      "source": [
        "Cuando se proporcionan menos índices que el número de ejes, los índices faltantes se consideran segmentos completos `:`"
      ]
    },
    {
      "cell_type": "code",
      "execution_count": null,
      "metadata": {
        "id": "KHKvRtAm2p7W"
      },
      "outputs": [],
      "source": [
        "# Ultima fila, todas las columnas\n",
        "b[-1]"
      ]
    },
    {
      "cell_type": "code",
      "execution_count": null,
      "metadata": {
        "id": "WBJwhabC2p7W"
      },
      "outputs": [],
      "source": [
        "np.ones((4,3,2,1))"
      ]
    },
    {
      "cell_type": "markdown",
      "metadata": {
        "id": "u6K214Cu2p7W"
      },
      "source": [
        "La iteración sobre arreglos multidimensionales se realiza con respecto al primer eje"
      ]
    },
    {
      "cell_type": "code",
      "execution_count": null,
      "metadata": {
        "id": "s9Dl5gZ12p7W"
      },
      "outputs": [],
      "source": [
        "for row in b:\n",
        "    print(row)"
      ]
    },
    {
      "cell_type": "markdown",
      "metadata": {
        "id": "cLQN6O2A2p7W"
      },
      "source": [
        "Sin embargo, si se desea realizar una operación en cada elemento de la matriz, se puede usar el atributo `flat` que es un iterador sobre todos los elementos de la matriz:"
      ]
    },
    {
      "cell_type": "code",
      "execution_count": null,
      "metadata": {
        "id": "e1k5U03C2p7W"
      },
      "outputs": [],
      "source": [
        "for element in b.flat:\n",
        "    print(element)"
      ]
    },
    {
      "cell_type": "code",
      "execution_count": null,
      "metadata": {
        "id": "Up2CkCQQ2p7W"
      },
      "outputs": [],
      "source": [
        "b.flatten()"
      ]
    },
    {
      "cell_type": "markdown",
      "metadata": {
        "id": "IYqwvkLM2p7W"
      },
      "source": [
        "***\n",
        "## Manipulación del `shape` (forma) del arreglo\n",
        "\n",
        "Una matriz tiene una forma dada por el número de elementos a lo largo de cada eje:"
      ]
    },
    {
      "cell_type": "code",
      "execution_count": null,
      "metadata": {
        "id": "TUqcOKQW2p7W"
      },
      "outputs": [],
      "source": [
        "a = np.floor ( 10 * np.random.random (( 3 , 4 )))\n",
        "a"
      ]
    },
    {
      "cell_type": "code",
      "execution_count": null,
      "metadata": {
        "id": "rff-oocz2p7W"
      },
      "outputs": [],
      "source": [
        "a.shape"
      ]
    },
    {
      "cell_type": "markdown",
      "metadata": {
        "id": "csBxnH9r2p7W"
      },
      "source": [
        "La forma de una matriz se puede cambiar con varios comandos. Tenga en cuenta que los siguientes tres comandos devuelven una matriz modificada, pero **no cambian la matriz original**:"
      ]
    },
    {
      "cell_type": "code",
      "execution_count": null,
      "metadata": {
        "id": "ZKAuzJ1K2p7W"
      },
      "outputs": [],
      "source": [
        "a.ravel()  # returns the array, flattened"
      ]
    },
    {
      "cell_type": "code",
      "execution_count": null,
      "metadata": {
        "id": "XfGC8v1c2p7W"
      },
      "outputs": [],
      "source": [
        "a.flatten()"
      ]
    },
    {
      "cell_type": "code",
      "execution_count": null,
      "metadata": {
        "id": "vlAUd-dA2p7W"
      },
      "outputs": [],
      "source": [
        "a.reshape(6,2)  # returns the array with a modified shape"
      ]
    },
    {
      "cell_type": "code",
      "execution_count": null,
      "metadata": {
        "id": "FAgjdjiu2p7W"
      },
      "outputs": [],
      "source": [
        "a.T"
      ]
    },
    {
      "cell_type": "code",
      "execution_count": null,
      "metadata": {
        "id": "5QYWJEte2p7W"
      },
      "outputs": [],
      "source": [
        "a.T.shape"
      ]
    },
    {
      "cell_type": "markdown",
      "metadata": {
        "id": "X0l_gXHm2p7W"
      },
      "source": [
        "- El orden de los elementos en la matriz resultante de `ravel()` es normalmente \"estilo `C`\", es decir, el índice de la derecha \"cambia más rápido\", por lo que el elemento después de un `[0,0]` es un `[0,1]`.\n",
        "\n",
        "- Si la matriz se reforma a otra forma, nuevamente la matriz se trata como \"estilo `C`\". NumPy normalmente crea matrices almacenadas en este orden, por lo que `ravel()` generalmente no necesitará copiar su argumento, pero si la matriz se hizo tomando segmentos de otra matriz o se creó con opciones inusuales, es posible que deba copiarse.\n",
        "\n",
        "- Las funciones `ravel()` y `reshape()` también se pueden instruir, utilizando un argumento opcional, para usar matrices de estilo FORTRAN, en las que el índice más a la izquierda cambia más rápido."
      ]
    },
    {
      "cell_type": "markdown",
      "metadata": {
        "id": "XHyYFLHk2p7X"
      },
      "source": [
        "La función de `reshape` devuelve su argumento con una forma modificada, mientras que el método `ndarray.resize` modifica la matriz en sí:"
      ]
    },
    {
      "cell_type": "code",
      "execution_count": null,
      "metadata": {
        "id": "j7bqaWp22p7X"
      },
      "outputs": [],
      "source": [
        "a"
      ]
    },
    {
      "cell_type": "code",
      "execution_count": null,
      "metadata": {
        "id": "VkDofLck2p7X"
      },
      "outputs": [],
      "source": [
        "a.resize((2, 6))\n",
        "a"
      ]
    },
    {
      "cell_type": "markdown",
      "metadata": {
        "id": "ohlXldkE2p7X"
      },
      "source": [
        "***\n",
        "## Concatenación de arreglos\n",
        "Se pueden apilar varios arreglos a lo largo de diferentes ejes:"
      ]
    },
    {
      "cell_type": "code",
      "execution_count": null,
      "metadata": {
        "id": "fwroIeSW2p7X"
      },
      "outputs": [],
      "source": [
        "a = np.floor(10*np.random.random((2,2)))\n",
        "a"
      ]
    },
    {
      "cell_type": "code",
      "execution_count": null,
      "metadata": {
        "id": "J1d1_Acw2p7X"
      },
      "outputs": [],
      "source": [
        "b = np.floor(10*np.random.random((2,2)))\n",
        "b"
      ]
    },
    {
      "cell_type": "code",
      "execution_count": null,
      "metadata": {
        "id": "yGudUPZ52p7X"
      },
      "outputs": [],
      "source": [
        "# np.vstack pide una tupla de ndarrays\n",
        "np.vstack((a,b))"
      ]
    },
    {
      "cell_type": "code",
      "execution_count": null,
      "metadata": {
        "id": "3JXd3r4c2p7X"
      },
      "outputs": [],
      "source": [
        "# np.hstack pide una tupla de ndarrays\n",
        "np.hstack((a,b))"
      ]
    },
    {
      "cell_type": "code",
      "execution_count": null,
      "metadata": {
        "id": "OFf1DSnQ2p7X"
      },
      "outputs": [],
      "source": [
        "np.column_stack((a,b)) # Equivalente a np.hstack para arreglos 2D"
      ]
    },
    {
      "cell_type": "code",
      "execution_count": null,
      "metadata": {
        "id": "fMyrUfFk2p7X"
      },
      "outputs": [],
      "source": [
        "np.hstack((a,b))"
      ]
    },
    {
      "cell_type": "markdown",
      "metadata": {
        "id": "n_cVyzMe2p7X"
      },
      "source": [
        "- Cuando los arreglos son 1D, `np.column_stack()` y `np.hstack()` se comportan diferente"
      ]
    },
    {
      "cell_type": "code",
      "execution_count": null,
      "metadata": {
        "id": "nayrwFx-2p7X"
      },
      "outputs": [],
      "source": [
        "a = np.array([4.,2.])\n",
        "b = np.array([3.,8.])"
      ]
    },
    {
      "cell_type": "code",
      "execution_count": null,
      "metadata": {
        "id": "sohv1RKD2p7X"
      },
      "outputs": [],
      "source": [
        "np.column_stack((a,b))"
      ]
    },
    {
      "cell_type": "code",
      "execution_count": null,
      "metadata": {
        "id": "eUgs6Ihj2p7X"
      },
      "outputs": [],
      "source": [
        "np.hstack((a,b))"
      ]
    },
    {
      "cell_type": "markdown",
      "metadata": {
        "id": "28pKwasK2p7X"
      },
      "source": [
        "- Podemos crear nuevas dimensiones en el arreglo con `np.newaxis` o con `None`"
      ]
    },
    {
      "cell_type": "code",
      "execution_count": null,
      "metadata": {
        "id": "xjV_43WZ2p7X"
      },
      "outputs": [],
      "source": [
        "a[:, np.newaxis]"
      ]
    },
    {
      "cell_type": "code",
      "execution_count": null,
      "metadata": {
        "id": "q6N7Ohz72p7X"
      },
      "outputs": [],
      "source": [
        "a[:, None]"
      ]
    },
    {
      "cell_type": "code",
      "execution_count": null,
      "metadata": {
        "id": "eraizh3D2p7X"
      },
      "outputs": [],
      "source": [
        "np.column_stack((a[:, np.newaxis], b[:, np.newaxis]))"
      ]
    },
    {
      "cell_type": "markdown",
      "metadata": {
        "id": "DyFFQ6RM2p7X"
      },
      "source": [
        "- Por otro lado, la función `row_stack` es equivalente a `vstack` para cualquier arreglo de entrada. De hecho, `row_stack` es un alias para `vstack`"
      ]
    },
    {
      "cell_type": "code",
      "execution_count": null,
      "metadata": {
        "id": "J3LsKjuo2p7Y"
      },
      "outputs": [],
      "source": [
        "np.row_stack is np.vstack"
      ]
    },
    {
      "cell_type": "markdown",
      "metadata": {
        "id": "Cg8t0qls2p7Y"
      },
      "source": [
        "- En general, para arreglos con más de dos dimensiones:\n",
        "    \n",
        "    - `hstack` apila a lo largo del segundo eje,\n",
        "    \n",
        "    - `vstack` apila a lo largo del primer eje y\n",
        "    \n",
        "    - `concatenate` permite argumentos opcionales que dan el número del eje (`axis`) a lo largo del cual debe ocurrir la concatenación."
      ]
    },
    {
      "cell_type": "markdown",
      "metadata": {
        "id": "rDWdCHMC2p7Y"
      },
      "source": [
        "***\n",
        "## Separar un arreglo en varios más pequeños"
      ]
    },
    {
      "cell_type": "code",
      "execution_count": null,
      "metadata": {
        "id": "8lN5807J2p7Y"
      },
      "outputs": [],
      "source": [
        "a = np.floor(10*np.random.random((2,12)))\n",
        "a"
      ]
    },
    {
      "cell_type": "code",
      "execution_count": null,
      "metadata": {
        "id": "HGFUoieB2p7Y"
      },
      "outputs": [],
      "source": [
        "np.hsplit(a,3)   # Split a into 3"
      ]
    },
    {
      "cell_type": "code",
      "execution_count": null,
      "metadata": {
        "id": "yvcF1Zql2p7Y"
      },
      "outputs": [],
      "source": [
        "np.hsplit(a, (3,4))   # Split a after the third and the fourth column"
      ]
    },
    {
      "cell_type": "code",
      "execution_count": null,
      "metadata": {
        "scrolled": true,
        "id": "SMX_RwfD2p7Y"
      },
      "outputs": [],
      "source": [
        "help(np.hsplit)"
      ]
    },
    {
      "cell_type": "markdown",
      "metadata": {
        "id": "KUyn1W352p7Y"
      },
      "source": [
        "***\n",
        "# Mutabilidad y clonado\n",
        "\n",
        "Al operar y manipular arreglos, los datos a veces se copian en un nuevo arreglo y otras no. Esto es a menudo una fuente de confusión para los principiantes.\n",
        "\n",
        "Hay tres casos:"
      ]
    },
    {
      "cell_type": "code",
      "execution_count": null,
      "metadata": {
        "id": "3VDJH8oy2p7Y"
      },
      "outputs": [],
      "source": [
        "a = np.arange( 12 )\n",
        "b = a\n",
        "b is a"
      ]
    },
    {
      "cell_type": "code",
      "execution_count": null,
      "metadata": {
        "id": "fz8L0S7e2p7Y"
      },
      "outputs": [],
      "source": [
        "b.shape = 3, 4\n",
        "a.shape"
      ]
    },
    {
      "cell_type": "markdown",
      "metadata": {
        "id": "-yuu1_2W2p7Y"
      },
      "source": [
        "1. Cortar una matriz devuelve una vista de ella:"
      ]
    },
    {
      "cell_type": "code",
      "execution_count": null,
      "metadata": {
        "id": "byDRSTYE2p7Y"
      },
      "outputs": [],
      "source": [
        "a"
      ]
    },
    {
      "cell_type": "code",
      "execution_count": null,
      "metadata": {
        "id": "DMwfpzX-2p7Y"
      },
      "outputs": [],
      "source": [
        "s = a[:, 1:3]\n",
        "s"
      ]
    },
    {
      "cell_type": "code",
      "execution_count": null,
      "metadata": {
        "id": "55SIJvlV2p7Y"
      },
      "outputs": [],
      "source": [
        "s is a"
      ]
    },
    {
      "cell_type": "markdown",
      "metadata": {
        "id": "Ky4ZMpMZ2p7Y"
      },
      "source": [
        "## Copia profunda\n",
        "\n",
        "El método de copy hace una copia completa de la matriz y sus datos."
      ]
    },
    {
      "cell_type": "code",
      "execution_count": null,
      "metadata": {
        "id": "z-jiyqje2p7Y"
      },
      "outputs": [],
      "source": [
        "# a new array object with new data is created\n",
        "d = a.copy()\n",
        "d"
      ]
    },
    {
      "cell_type": "code",
      "execution_count": null,
      "metadata": {
        "id": "UwR70OOq2p7Y"
      },
      "outputs": [],
      "source": [
        "d is a"
      ]
    },
    {
      "cell_type": "code",
      "execution_count": null,
      "metadata": {
        "id": "TMD6-c-O2p7Y"
      },
      "outputs": [],
      "source": [
        "d == a"
      ]
    },
    {
      "cell_type": "markdown",
      "metadata": {
        "id": "M_Ygjmbe2p7Y"
      },
      "source": [
        "***\n",
        "# Rutinas de NumPy\n",
        "\n",
        "[Rutinas y funcionalidad](https://numpy.org/devdocs/reference/routines.html#routines)"
      ]
    },
    {
      "cell_type": "markdown",
      "metadata": {
        "id": "fmK0s_A22p7Y"
      },
      "source": [
        "***\n",
        "# Para usuarios ***pro*** (como ustedes)"
      ]
    },
    {
      "cell_type": "markdown",
      "metadata": {
        "id": "06nXGYAK2p7Y"
      },
      "source": [
        "## *Broadcasting* (difusión)\n",
        "\n",
        "- Este mecanismo permite que las funciones universales manejen de manera significativa entradas que no tienen exactamente la misma forma.\n",
        "\n",
        "[General Broadcasting Rules](https://numpy.org/devdocs/user/basics.broadcasting.html)"
      ]
    },
    {
      "cell_type": "markdown",
      "metadata": {
        "id": "a43V8Vfs2p7Y"
      },
      "source": [
        "- Un ejemplo:"
      ]
    },
    {
      "cell_type": "code",
      "execution_count": null,
      "metadata": {
        "id": "sM4EKbex2p7Z"
      },
      "outputs": [],
      "source": [
        "x = np.arange(4)\n",
        "x"
      ]
    },
    {
      "cell_type": "code",
      "execution_count": null,
      "metadata": {
        "id": "xbLQ-oWv2p7Z"
      },
      "outputs": [],
      "source": [
        "xx = x.reshape(4,1)\n",
        "xx"
      ]
    },
    {
      "cell_type": "code",
      "execution_count": null,
      "metadata": {
        "scrolled": true,
        "id": "f4B7vPrZ2p7Z"
      },
      "outputs": [],
      "source": [
        "x + xx"
      ]
    },
    {
      "cell_type": "code",
      "execution_count": null,
      "metadata": {
        "id": "eRhJhQhl2p7Z"
      },
      "outputs": [],
      "source": [
        "x.shape"
      ]
    },
    {
      "cell_type": "code",
      "execution_count": null,
      "metadata": {
        "scrolled": true,
        "id": "iQD0lslh2p7Z"
      },
      "outputs": [],
      "source": [
        "xx.shape"
      ]
    },
    {
      "cell_type": "markdown",
      "metadata": {
        "id": "TDu2XwjJ2p7Z"
      },
      "source": [
        "- El *broadcasting* proporciona una forma conveniente de tomar el producto externo (o cualquier otra operación externa) de dos matrices. El siguiente ejemplo muestra una operación de adición externa de dos matrices 1D:"
      ]
    },
    {
      "cell_type": "code",
      "execution_count": null,
      "metadata": {
        "id": "sG650yLf2p7Z"
      },
      "outputs": [],
      "source": [
        "a = np.array([0.0, 10.0, 20.0, 30.0])\n",
        "b = np.array([1.0, 2.0, 3.0])"
      ]
    },
    {
      "cell_type": "code",
      "execution_count": null,
      "metadata": {
        "scrolled": true,
        "id": "2FPMLkDI2p7Z"
      },
      "outputs": [],
      "source": [
        "a[:, None] + b"
      ]
    },
    {
      "cell_type": "markdown",
      "metadata": {
        "id": "ZNjxiFWv2p7Z"
      },
      "source": [
        "Aquí, `None` inserta un nuevo eje en `a`, haciéndolo un arreglo bidimensional de `4x1`. Al combinar este arreglo de `4x1` con `b`, que tiene forma `(3,)`, resulta un arreglo de `4x3`"
      ]
    },
    {
      "cell_type": "markdown",
      "metadata": {
        "id": "Ejz3f8d12p7Z"
      },
      "source": [
        "### ¿Por qué funciona?\n",
        "\n",
        "- Cuando se operan dos arreglos, NumPy compara sus formas (`shape`) elemento a elemento, empezando por la última dimensión y hacia arriba.\n",
        "\n",
        "- Dos dimensiones son compatibles cuando:\n",
        "    \n",
        "    - Son iguales, o\n",
        "    \n",
        "    - Una de ellas es 1\n",
        "    \n",
        "- Cuando alguna de las dos dimensiones es uno, **se utiliza la otra**.\n",
        "\n",
        "    - En otras palabras, las dimensiones con tamaño 1 son \"estiradas\" o \"copiadas\" para ajustarse a la otra."
      ]
    },
    {
      "cell_type": "markdown",
      "metadata": {
        "id": "fu362Mij2p7Z"
      },
      "source": [
        "***\n",
        "## *Fancy indexing* y trucos de indexación\n",
        "\n",
        "- NumPy ofrece más funciones de indexación que las secuencias regulares de Python. Además de la indexación por enteros y sectores, como vimos antes, las matrices se pueden indexar por matrices de enteros y matrices de booleanos."
      ]
    },
    {
      "cell_type": "code",
      "execution_count": null,
      "metadata": {
        "id": "72X7laLf2p7Z"
      },
      "outputs": [],
      "source": [
        "a = np.arange(11)**2\n",
        "a"
      ]
    },
    {
      "cell_type": "code",
      "execution_count": null,
      "metadata": {
        "id": "2f6Hi-m02p7Z"
      },
      "outputs": [],
      "source": [
        "i = np.array( [ 1,1,3,8,5 ] )\n",
        "i"
      ]
    },
    {
      "cell_type": "code",
      "execution_count": null,
      "metadata": {
        "id": "HZZfLKJy2p7Z"
      },
      "outputs": [],
      "source": [
        "a[i]   # the elements of a at the positions i"
      ]
    },
    {
      "cell_type": "code",
      "execution_count": null,
      "metadata": {
        "id": "1vUsjIqh2p7Z"
      },
      "outputs": [],
      "source": [
        "j = np.array([[ 3, 4], [ 9, 7 ]])  # a bidimensional array of indices\n",
        "j"
      ]
    },
    {
      "cell_type": "code",
      "execution_count": null,
      "metadata": {
        "id": "M39RJXDp2p7Z"
      },
      "outputs": [],
      "source": [
        "a[j] # the same shape as j"
      ]
    },
    {
      "cell_type": "markdown",
      "metadata": {
        "id": "AtCWCOni2p7Z"
      },
      "source": [
        "- También podemos dar índices para más de una dimensión. Las matrices de índices para cada dimensión deben tener la misma forma."
      ]
    },
    {
      "cell_type": "code",
      "execution_count": null,
      "metadata": {
        "id": "a9gmmRFl2p7Z"
      },
      "outputs": [],
      "source": [
        "a = np.arange(12).reshape(3,4)\n",
        "a"
      ]
    },
    {
      "cell_type": "code",
      "execution_count": null,
      "metadata": {
        "id": "xv-kdtJp2p7Z"
      },
      "outputs": [],
      "source": [
        "i = np.array([[0,1], [1,2]])\n",
        "j = np.array([[2,1], [3,3]])"
      ]
    },
    {
      "cell_type": "code",
      "execution_count": null,
      "metadata": {
        "id": "x3Xzk19B2p7a"
      },
      "outputs": [],
      "source": [
        "i"
      ]
    },
    {
      "cell_type": "code",
      "execution_count": null,
      "metadata": {
        "id": "U04ei7iz2p7a"
      },
      "outputs": [],
      "source": [
        "j"
      ]
    },
    {
      "cell_type": "code",
      "execution_count": null,
      "metadata": {
        "id": "Bja43-9g2p7a"
      },
      "outputs": [],
      "source": [
        "a[i,j] # i and j must have equal shape"
      ]
    },
    {
      "cell_type": "code",
      "execution_count": null,
      "metadata": {
        "id": "pqs4NPHy2p7a"
      },
      "outputs": [],
      "source": [
        "a[i,2]"
      ]
    },
    {
      "cell_type": "code",
      "execution_count": null,
      "metadata": {
        "id": "rWBqXQEt2p7a"
      },
      "outputs": [],
      "source": [
        "a[:,j]"
      ]
    },
    {
      "cell_type": "markdown",
      "metadata": {
        "id": "2Is1R0HF2p7a"
      },
      "source": [
        "***\n",
        "### Búsqueda del máximo"
      ]
    },
    {
      "cell_type": "code",
      "execution_count": null,
      "metadata": {
        "id": "h47xuyFf2p7a"
      },
      "outputs": [],
      "source": [
        "data = np.sin(np.arange(20)).reshape(5,4)\n",
        "data"
      ]
    },
    {
      "cell_type": "code",
      "execution_count": null,
      "metadata": {
        "id": "qZoOlZYx2p7a"
      },
      "outputs": [],
      "source": [
        "# index of the maxima for each series\n",
        "ind = data.argmax(axis=0)\n",
        "ind"
      ]
    },
    {
      "cell_type": "markdown",
      "metadata": {
        "id": "l9J2ufFP2p7a"
      },
      "source": [
        "***\n",
        "###  Asignación múltiple con indexación"
      ]
    },
    {
      "cell_type": "code",
      "execution_count": null,
      "metadata": {
        "id": "7Zr98KFP2p7a"
      },
      "outputs": [],
      "source": [
        "a = np.arange(5)\n",
        "a"
      ]
    },
    {
      "cell_type": "code",
      "execution_count": null,
      "metadata": {
        "id": "DjW70hZs2p7a"
      },
      "outputs": [],
      "source": [
        "a[[1,3,4]] = 0\n",
        "a"
      ]
    },
    {
      "cell_type": "code",
      "execution_count": null,
      "metadata": {
        "id": "lQIl5EFI2p7a"
      },
      "outputs": [],
      "source": [
        "# Se queda la última asignación\n",
        "a = np.arange(5)\n",
        "a[[0,0,2]] = [1,2,3]\n",
        "a"
      ]
    },
    {
      "cell_type": "markdown",
      "metadata": {
        "id": "XAJlLz_c2p7a"
      },
      "source": [
        "***\n",
        "### Indexado con arreglos booleanos\n",
        "\n",
        "- Cuando indexamos arreglos con otros arreglos de índices (enteros), proporcionamos la lista de índices para elegir. Con los índices booleanos, el enfoque es diferente; **elegimos explícitamente qué elementos de la matriz queremos y cuáles no**.\n",
        "\n",
        "La forma más natural en la que uno puede pensar para la indexación booleana es usar matrices booleanas que tengan la misma forma que la matriz original:"
      ]
    },
    {
      "cell_type": "code",
      "execution_count": null,
      "metadata": {
        "id": "vXNlrA_d2p7a"
      },
      "outputs": [],
      "source": [
        "a = np.arange(12).reshape(3,4)\n",
        "a"
      ]
    },
    {
      "cell_type": "code",
      "execution_count": null,
      "metadata": {
        "id": "DFWRF2Hw2p7a"
      },
      "outputs": [],
      "source": [
        "b = a > 4\n",
        "b"
      ]
    },
    {
      "cell_type": "code",
      "execution_count": null,
      "metadata": {
        "id": "6PklQPpm2p7a"
      },
      "outputs": [],
      "source": [
        "a[b]"
      ]
    },
    {
      "cell_type": "markdown",
      "metadata": {
        "id": "_w7kdyPO2p7a"
      },
      "source": [
        "- También se puede utilizar en asignaciones:"
      ]
    },
    {
      "cell_type": "code",
      "execution_count": null,
      "metadata": {
        "id": "GyMPIYbf2p7a"
      },
      "outputs": [],
      "source": [
        "a[b] = 0\n",
        "a"
      ]
    },
    {
      "cell_type": "markdown",
      "metadata": {
        "id": "a2bNp3LW2p7a"
      },
      "source": [
        "***\n",
        "# Álgebra lineal"
      ]
    },
    {
      "cell_type": "code",
      "execution_count": null,
      "metadata": {
        "id": "tVxal0vW2p7a"
      },
      "outputs": [],
      "source": [
        "a = np.array([[1.0, 2.0], [3.0, 4.0]])\n",
        "a"
      ]
    },
    {
      "cell_type": "code",
      "execution_count": null,
      "metadata": {
        "id": "UfWHolC22p7a"
      },
      "outputs": [],
      "source": [
        "a.transpose()"
      ]
    },
    {
      "cell_type": "code",
      "execution_count": null,
      "metadata": {
        "id": "8dXV2Flo2p7a"
      },
      "outputs": [],
      "source": [
        "np.linalg.inv(a)"
      ]
    },
    {
      "cell_type": "code",
      "execution_count": null,
      "metadata": {
        "id": "nYgt6Lzp2p7b"
      },
      "outputs": [],
      "source": [
        "np.eye(2)"
      ]
    },
    {
      "cell_type": "code",
      "execution_count": null,
      "metadata": {
        "id": "3flNfa1P2p7b"
      },
      "outputs": [],
      "source": [
        "j = np.array([[0.0, -1.0], [1.0, 0.0]])\n",
        "\n",
        "j @ j"
      ]
    },
    {
      "cell_type": "code",
      "execution_count": null,
      "metadata": {
        "id": "PQTY9TGL2p7b"
      },
      "outputs": [],
      "source": [
        "y = np.array([[5.], [7.]])\n",
        "y"
      ]
    },
    {
      "cell_type": "code",
      "execution_count": null,
      "metadata": {
        "id": "x0ndOhtC2p7b"
      },
      "outputs": [],
      "source": [
        "np.linalg.solve(a, y)"
      ]
    },
    {
      "cell_type": "code",
      "execution_count": null,
      "metadata": {
        "id": "9zVeeZZX2p7b"
      },
      "outputs": [],
      "source": [
        "# eigenvalores y eigenvectores\n",
        "np.linalg.eig(a)"
      ]
    },
    {
      "cell_type": "markdown",
      "metadata": {
        "id": "biLpUs1E2p7b"
      },
      "source": [
        "***\n",
        "# Ejercicios propuestos\n",
        "\n",
        "1. De las siguientes secciones, revisa las funciones de NumPy disponibles para darte una idea de lo que es posible hacer.\n",
        "\n",
        "    - [Array creation routines](https://numpy.org/devdocs/reference/routines.array-creation.html)\n",
        "\n",
        "    - [Array manipulation routines](https://numpy.org/devdocs/reference/routines.array-manipulation.html)\n",
        "\n",
        "    - [Binary operations](https://numpy.org/devdocs/reference/routines.bitwise.html)\n",
        "\n",
        "    - [String operations](https://numpy.org/devdocs/reference/routines.char.html)\n",
        "    \n",
        "\n",
        "2. Crear un ejemplo de cómo guardar y cargar arreglos de un archivo binario `.npy` y `.npz`:\n",
        "\n",
        "    - [NumPy binary files (NPY, NPZ)](https://numpy.org/devdocs/reference/routines.io.html#numpy-binary-files-npy-npz)\n",
        "    \n",
        "3. Crear un ejemplo de cómo guardar y cargar arreglos de un archivo de texto `.txt`:\n",
        "\n",
        "    - [NumPy Text files](https://numpy.org/devdocs/reference/routines.io.html#text-files)    \n",
        "    \n",
        "4. Crear una función llamada `estimate` que lea un archivo CSV con 7 columnas, que corresponden a las variables $(x_{1i}, \\ldots, x_{6i})$ y $y_i$.\n",
        "\n",
        "    - La función debe computar matricialmente los parámetros del modelo de regresión lineal: $y = X\\beta$.\n",
        "\n",
        "    - Estos parámetros deben ser devueltos como un arreglo de NumPy.\n",
        "\n",
        "    - Utilice la función de lectura de archivos de NumPy."
      ]
    },
    {
      "cell_type": "code",
      "execution_count": null,
      "metadata": {
        "id": "u_6WhgGA2p7b"
      },
      "outputs": [],
      "source": []
    }
  ],
  "metadata": {
    "kernelspec": {
      "display_name": "base",
      "language": "python",
      "name": "python3"
    },
    "language_info": {
      "codemirror_mode": {
        "name": "ipython",
        "version": 3
      },
      "file_extension": ".py",
      "mimetype": "text/x-python",
      "name": "python",
      "nbconvert_exporter": "python",
      "pygments_lexer": "ipython3",
      "version": "3.13.5"
    },
    "colab": {
      "provenance": []
    }
  },
  "nbformat": 4,
  "nbformat_minor": 0
}
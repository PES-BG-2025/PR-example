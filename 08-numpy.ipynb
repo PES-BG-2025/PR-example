{
  "cells": [
    {
      "cell_type": "markdown",
      "metadata": {
        "id": "DC4Nyu9jpmAt"
      },
      "source": [
        "# Introducción a las ciencias de la computación *y programación en Python*\n",
        "\n",
        "*Banco de Guatemala*  \n",
        "*PES 2025-2026*  \n",
        "*Programación I*  \n",
        "*Septiembre de 2025*  "
      ]
    },
    {
      "cell_type": "markdown",
      "metadata": {
        "id": "5Htj3vIppmAu"
      },
      "source": [
        "## Abstract\n",
        "\n",
        "> \"*I do not fear computers. I fear lack of them.*\" **Isaac Asimov**\n",
        "\n",
        "- Paquete de computación científica NumPy\n",
        "\n",
        "    - Introducción\n",
        "    \n",
        "    - Conceptos básicos de utilización\n",
        "    \n",
        "    - Ejercicios"
      ]
    },
    {
      "cell_type": "markdown",
      "metadata": {
        "id": "YoAAi31ZpmAv"
      },
      "source": [
        "# NumPy\n",
        "\n",
        "- Paquete de Python para **computación científica** de **alto desempeño** sobre vectores, matrices y estructuras de mayores dimensiones (tensores).\n",
        "\n",
        "- Implementado en C y Fortran, por lo que cuando se **vectorizan** las oepraciones, el desempeño es muy bueno.\n",
        "\n",
        "- Ofrece una estructura de datos `ndarray` para procesar de forma **eficiente** datos homogéneos.\n",
        "\n",
        "- Capacidades de algebra lineal, transformada de Fourier y generación de números aleatorios."
      ]
    },
    {
      "cell_type": "markdown",
      "metadata": {
        "id": "xL5TbiQYpmAv"
      },
      "source": [
        "## Pero, ¿y las listas de Python?\n",
        "\n",
        "- Las listas son muy generales, pueden contener cualquier tipo de objeto.\n",
        "\n",
        "    - Implementan tipos dinámicos.\n",
        "    \n",
        "    - No permiten operaciones matemáticas como la *multiplicación matricial* o *producto punto*.\n",
        "    \n",
        "- Los vectores de NumPy son de tipado estático y homogéneo. El tipo del arreglo se determina cuando se crea el vector.\n",
        "\n",
        "    - Son eficientes en memoria.\n",
        "    \n",
        "    - Es posible implementar **funciones universales** (ufuncs).\n",
        "    \n",
        "    - El tipado estático permite implementar operaciones matemáticas de forma eficiente a través de C y Fortran.\n",
        "    "
      ]
    },
    {
      "cell_type": "markdown",
      "metadata": {
        "id": "VM-J5JUhpmAv"
      },
      "source": [
        "### Comparación entre lenguajes de programación"
      ]
    },
    {
      "cell_type": "markdown",
      "metadata": {
        "id": "ryVR8c6hpmAv"
      },
      "source": [
        "![julia-benchmarks.svg](https://github.com/PES-BG-2025/notebooks/blob/main/figs/numpy/julia-benchmarks.svg?raw=1)\n",
        "\n",
        "[5 Razones para aprender NumPy](https://insights.dice.com/2016/09/01/5-reasons-know-numpy/):\n",
        "\n",
        "    It's fast\n",
        "    It works very well with SciPy and other Libraries\n",
        "    It lets you do matrix arithmetic\n",
        "    It has lots of built-in functions\n",
        "    It has universal functions\n"
      ]
    },
    {
      "cell_type": "markdown",
      "metadata": {
        "id": "zPZkBSdepmAw"
      },
      "source": [
        "## Importando NumPy"
      ]
    },
    {
      "cell_type": "code",
      "execution_count": 2,
      "metadata": {
        "id": "X0sOW_FXpmAw"
      },
      "outputs": [],
      "source": [
        "import numpy as np"
      ]
    },
    {
      "cell_type": "markdown",
      "metadata": {
        "id": "a7NuMkenpmAw"
      },
      "source": [
        "- Revisamos la versión de NumPy (importante al ver la documentación)"
      ]
    },
    {
      "cell_type": "code",
      "execution_count": 3,
      "metadata": {
        "colab": {
          "base_uri": "https://localhost:8080/",
          "height": 35
        },
        "id": "aSKSIX_ipmAx",
        "outputId": "8f26387e-576b-4414-de25-34bada7b199a"
      },
      "outputs": [
        {
          "output_type": "execute_result",
          "data": {
            "text/plain": [
              "'2.0.2'"
            ],
            "application/vnd.google.colaboratory.intrinsic+json": {
              "type": "string"
            }
          },
          "metadata": {},
          "execution_count": 3
        }
      ],
      "source": [
        "np.__version__"
      ]
    },
    {
      "cell_type": "markdown",
      "metadata": {
        "id": "cxzfG-nipmAx"
      },
      "source": [
        "### Obteniendo ayuda"
      ]
    },
    {
      "cell_type": "code",
      "execution_count": 2,
      "metadata": {
        "colab": {
          "base_uri": "https://localhost:8080/"
        },
        "id": "gbE4awZBpmAx",
        "outputId": "c8d46ed5-b823-4871-ebc9-b8ce1a840f3e"
      },
      "outputs": [
        {
          "output_type": "stream",
          "name": "stdout",
          "text": [
            "Object `np.ndarray` not found.\n"
          ]
        }
      ],
      "source": [
        "# Obtiene una ventana de ayuda\n",
        "np.ndarray?"
      ]
    },
    {
      "cell_type": "code",
      "execution_count": null,
      "metadata": {
        "id": "kJ2MngsfpmAx"
      },
      "outputs": [],
      "source": [
        "# Función help para una función\n",
        "help(np.array)"
      ]
    },
    {
      "cell_type": "markdown",
      "metadata": {
        "id": "xjs9Dj-FpmAx"
      },
      "source": [
        "***\n",
        "## La clase `ndarray`"
      ]
    },
    {
      "cell_type": "markdown",
      "metadata": {
        "id": "DbPuh5P2pmAx"
      },
      "source": [
        "- La clase básica de NumPy se llama `ndarray` (alias `array`). Sus atributos más importantes son:\n",
        "\n",
        "    - `ndarray.ndim` : número de dimensiones del arreglo.\n",
        "\n",
        "    - `ndarray.shape` : dimensiones del arreglo. Esta es una **tupla de enteros** que indica el tamaño de la matriz en cada dimensión. Para una matriz con $n$ filas y $m$ columnas, la forma será $(n, m)$. La longitud de la tupla de forma es, por lo tanto, el número de ejes, `ndim`.\n",
        "\n",
        "    - `darray.size` : el número total de elementos del arreglo. Es igual al producto de los elementos de la tupla `shape`.\n",
        "\n",
        "    - `ndarray.dtype` : un **objeto** que describe el **tipo** de los elementos en el arreglo. Es posible crear y especificar `dtypes` propios.\n",
        "        - Adicionalmente, NumPy provee algunos tipos propios muy utilizados: `numpy.int32`, `numpy.int16`, and `numpy.float64`.\n",
        "\n",
        "    - `ndarray.itemsize` : el tamaño en bytes de cada elemento en el arreglo. Por ejemplo, un arreglo de tipo `float64` tiene tamaño en bytes de $8 (=64/8)$. Equivalente a `ndarray.dtype.itemsize`.\n",
        "\n",
        "    - `ndarray.data` : el búfer que contiene los elementos del arreglo. Aunque normalmente, no accedemos al atributo directamente, ya que hacemos uso de los elementos con *slicing*.\n",
        "\n"
      ]
    },
    {
      "cell_type": "code",
      "execution_count": null,
      "metadata": {
        "id": "Q9eKoa6wpmAx"
      },
      "outputs": [],
      "source": [
        "a = np.arange(15).reshape(3, 5)\n",
        "a"
      ]
    },
    {
      "cell_type": "code",
      "execution_count": null,
      "metadata": {
        "id": "1VfkaMuqpmAx"
      },
      "outputs": [],
      "source": [
        "a.shape"
      ]
    },
    {
      "cell_type": "code",
      "execution_count": null,
      "metadata": {
        "id": "AWHyHw4IpmAx"
      },
      "outputs": [],
      "source": [
        "a.ndim"
      ]
    },
    {
      "cell_type": "code",
      "execution_count": null,
      "metadata": {
        "id": "1eYwLIj3pmAy"
      },
      "outputs": [],
      "source": [
        "a.dtype"
      ]
    },
    {
      "cell_type": "code",
      "execution_count": null,
      "metadata": {
        "id": "GXHxIYJDpmAy"
      },
      "outputs": [],
      "source": [
        "a.dtype.name"
      ]
    },
    {
      "cell_type": "code",
      "execution_count": null,
      "metadata": {
        "id": "QmDZZreXpmAy"
      },
      "outputs": [],
      "source": [
        "a.itemsize"
      ]
    },
    {
      "cell_type": "code",
      "execution_count": null,
      "metadata": {
        "id": "uvMbmKv0pmAy"
      },
      "outputs": [],
      "source": [
        "a.size"
      ]
    },
    {
      "cell_type": "code",
      "execution_count": null,
      "metadata": {
        "id": "tWSSLAtwpmAy"
      },
      "outputs": [],
      "source": [
        "type(a)"
      ]
    },
    {
      "cell_type": "markdown",
      "metadata": {
        "id": "3dxg9CFcpmAy"
      },
      "source": [
        "***\n",
        "# Creando arreglos N-dimensionales de NumPy\n",
        "\n",
        "- Hay varias formas de inicializar nuevas matrices numpy, por ejemplo desde\n",
        "\n",
        "    - Una lista de Python o tuplas.\n",
        "    \n",
        "    - Utilizando funciones dedicadas a **generar** arreglos de NumPy.\n",
        "\n",
        "      - Es común inicializar vectores de ceros o con valores aleatorios.\n",
        "    \n",
        "    - Leer información de archivos."
      ]
    },
    {
      "cell_type": "code",
      "execution_count": null,
      "metadata": {
        "id": "fkUwDiMNpmAy"
      },
      "outputs": [],
      "source": [
        "a = np.array([2,3,4])\n",
        "a"
      ]
    },
    {
      "cell_type": "code",
      "execution_count": null,
      "metadata": {
        "id": "Lmg2hF-ipmAy"
      },
      "outputs": [],
      "source": [
        "a.dtype"
      ]
    },
    {
      "cell_type": "code",
      "execution_count": null,
      "metadata": {
        "id": "sSJ-2epzpmAy"
      },
      "outputs": [],
      "source": [
        "b = np.array([1.2, 3.5, 5.1])\n",
        "b"
      ]
    },
    {
      "cell_type": "code",
      "execution_count": null,
      "metadata": {
        "id": "nx61aSKrpmAy"
      },
      "outputs": [],
      "source": [
        "b.dtype"
      ]
    },
    {
      "cell_type": "markdown",
      "metadata": {
        "id": "ib52Jm-opmAy"
      },
      "source": [
        "### Error frecuente\n",
        "\n",
        "Crear el arreglo con varios argumentos en vez de proveer una sola lista o secuencia como argumento"
      ]
    },
    {
      "cell_type": "code",
      "execution_count": null,
      "metadata": {
        "id": "CqfcNcY3pmAy"
      },
      "outputs": [],
      "source": [
        "# Error frecuente\n",
        "a = np.array(1,2,3,4)"
      ]
    },
    {
      "cell_type": "markdown",
      "metadata": {
        "id": "r5oZJWT2pmAy"
      },
      "source": [
        "## A partir de listas o tuplas\n",
        "`ndarray` transforma secuencias de secuencias en matrices bidimensionales, secuencias de secuencias de secuencias en matrices tridimensionales, etc."
      ]
    },
    {
      "cell_type": "code",
      "execution_count": null,
      "metadata": {
        "id": "u63JUTKspmAy"
      },
      "outputs": [],
      "source": [
        "b = np.array([[1.5,2,3], [4,5,6]])\n",
        "b"
      ]
    },
    {
      "cell_type": "markdown",
      "metadata": {
        "id": "1HgeZ9SnpmAy"
      },
      "source": [
        "El tipo de matriz también se puede especificar explícitamente en el momento de la creación:"
      ]
    },
    {
      "cell_type": "code",
      "execution_count": null,
      "metadata": {
        "id": "P-huEMQ8pmAy"
      },
      "outputs": [],
      "source": [
        "c = np.array( [ [1,2], [3,4] ], dtype=complex )\n",
        "c"
      ]
    },
    {
      "cell_type": "markdown",
      "metadata": {
        "id": "nUG1VSaqpmAz"
      },
      "source": [
        "## Funciones de generación de arreglos"
      ]
    },
    {
      "cell_type": "code",
      "execution_count": null,
      "metadata": {
        "id": "277x_065pmAz"
      },
      "outputs": [],
      "source": [
        "np.arange(10, 30, 5)"
      ]
    },
    {
      "cell_type": "code",
      "execution_count": null,
      "metadata": {
        "id": "IxwdAwoNpmAz"
      },
      "outputs": [],
      "source": [
        "# A diferencia de range\n",
        "np.arange(0, 2, 0.3)"
      ]
    },
    {
      "cell_type": "markdown",
      "metadata": {
        "id": "DdjpMhllpmAz"
      },
      "source": [
        "#### Evaluación de funciones\n",
        "\n",
        "Notar que la evaluación de funciones es \"vectorizada\", es decir, sobre todos los elementos del arreglo a la vez.\n",
        "\n",
        "- ¡Evitamos los ciclos `for` de Python porque son más lentos!"
      ]
    },
    {
      "cell_type": "code",
      "execution_count": null,
      "metadata": {
        "id": "5uwWOEYjpmAz"
      },
      "outputs": [],
      "source": [
        "x = np.linspace(0, 2*np.pi, 20)\n",
        "x"
      ]
    },
    {
      "cell_type": "code",
      "execution_count": null,
      "metadata": {
        "id": "tQl6RdZRpmA2"
      },
      "outputs": [],
      "source": [
        "y = np.sin(x)\n",
        "y"
      ]
    },
    {
      "cell_type": "markdown",
      "metadata": {
        "id": "CPWI-dqjpmA2"
      },
      "source": [
        "##  Variables aleatorias"
      ]
    },
    {
      "cell_type": "code",
      "execution_count": null,
      "metadata": {
        "id": "Zmh7ywjIpmA2"
      },
      "outputs": [],
      "source": [
        "b = np.random.random((5, 5))\n",
        "b"
      ]
    },
    {
      "cell_type": "markdown",
      "metadata": {
        "id": "qp_RNLzcpmA2"
      },
      "source": [
        "## Unos, ceros"
      ]
    },
    {
      "cell_type": "code",
      "execution_count": 1,
      "metadata": {
        "colab": {
          "base_uri": "https://localhost:8080/",
          "height": 141
        },
        "id": "9guOMgWjpmA2",
        "outputId": "f193d753-a4cd-4d59-8ef5-3a786c2a8b4e"
      },
      "outputs": [
        {
          "output_type": "error",
          "ename": "NameError",
          "evalue": "name 'np' is not defined",
          "traceback": [
            "\u001b[0;31m---------------------------------------------------------------------------\u001b[0m",
            "\u001b[0;31mNameError\u001b[0m                                 Traceback (most recent call last)",
            "\u001b[0;32m/tmp/ipython-input-3224144505.py\u001b[0m in \u001b[0;36m<cell line: 0>\u001b[0;34m()\u001b[0m\n\u001b[0;32m----> 1\u001b[0;31m \u001b[0mnp\u001b[0m\u001b[0;34m.\u001b[0m\u001b[0mzeros\u001b[0m\u001b[0;34m(\u001b[0m\u001b[0;34m[\u001b[0m\u001b[0;36m10\u001b[0m\u001b[0;34m,\u001b[0m \u001b[0;36m10\u001b[0m\u001b[0;34m]\u001b[0m\u001b[0;34m)\u001b[0m\u001b[0;34m\u001b[0m\u001b[0;34m\u001b[0m\u001b[0m\n\u001b[0m",
            "\u001b[0;31mNameError\u001b[0m: name 'np' is not defined"
          ]
        }
      ],
      "source": [
        "np.zeros([10, 10])"
      ]
    },
    {
      "cell_type": "code",
      "execution_count": 3,
      "metadata": {
        "colab": {
          "base_uri": "https://localhost:8080/",
          "height": 141
        },
        "id": "rbpNaVt3pmA2",
        "outputId": "2395918c-e0e3-4c3a-82bb-a017919c86f9"
      },
      "outputs": [
        {
          "output_type": "error",
          "ename": "NameError",
          "evalue": "name 'np' is not defined",
          "traceback": [
            "\u001b[0;31m---------------------------------------------------------------------------\u001b[0m",
            "\u001b[0;31mNameError\u001b[0m                                 Traceback (most recent call last)",
            "\u001b[0;32m/tmp/ipython-input-1242011794.py\u001b[0m in \u001b[0;36m<cell line: 0>\u001b[0;34m()\u001b[0m\n\u001b[0;32m----> 1\u001b[0;31m \u001b[0mnp\u001b[0m\u001b[0;34m.\u001b[0m\u001b[0mones\u001b[0m\u001b[0;34m(\u001b[0m\u001b[0;34m[\u001b[0m\u001b[0;36m5\u001b[0m\u001b[0;34m,\u001b[0m \u001b[0;36m5\u001b[0m\u001b[0;34m]\u001b[0m\u001b[0;34m)\u001b[0m\u001b[0;34m\u001b[0m\u001b[0;34m\u001b[0m\u001b[0m\n\u001b[0m",
            "\u001b[0;31mNameError\u001b[0m: name 'np' is not defined"
          ]
        }
      ],
      "source": [
        "np.ones([5, 5])"
      ]
    },
    {
      "cell_type": "code",
      "execution_count": null,
      "metadata": {
        "id": "mcSbBe36pmA2"
      },
      "outputs": [],
      "source": [
        "# Copiando la forma de x\n",
        "np.ones_like(x)"
      ]
    },
    {
      "cell_type": "code",
      "execution_count": null,
      "metadata": {
        "id": "HNeSf4HtpmA2"
      },
      "outputs": [],
      "source": [
        "np.identity(5)"
      ]
    },
    {
      "cell_type": "markdown",
      "metadata": {
        "id": "jwNXnGOepmA2"
      },
      "source": [
        "## Desde archivos"
      ]
    },
    {
      "cell_type": "code",
      "execution_count": null,
      "metadata": {
        "id": "3Xa_82lPpmA2"
      },
      "outputs": [],
      "source": [
        "data = np.loadtxt(\"data/data.csv\", delimiter=',', skiprows=1)\n",
        "data"
      ]
    },
    {
      "cell_type": "markdown",
      "metadata": {
        "id": "nWGpiXVYpmA2"
      },
      "source": [
        "***\n",
        "# Impresión de arreglos\n",
        "\n",
        "Cuando imprimes una matriz, NumPy la muestra de forma similar a las listas anidadas, pero con el siguiente diseño:\n",
        "\n",
        "- el último eje se imprime de izquierda a derecha,\n",
        "\n",
        "- el penúltimo se imprime de arriba a abajo,\n",
        "\n",
        "- el resto también se imprime de arriba a abajo, con cada corte separado del siguiente por una línea vacía.\n",
        "\n",
        "Las matrices unidimensionales se imprimen como filas, bidimensionales como matrices y tridimensionales como listas de matrices."
      ]
    },
    {
      "cell_type": "code",
      "execution_count": null,
      "metadata": {
        "id": "uQ1RyCwEpmA2"
      },
      "outputs": [],
      "source": [
        "a = np.arange(6)\n",
        "print(a)"
      ]
    },
    {
      "cell_type": "code",
      "execution_count": null,
      "metadata": {
        "id": "hBD5ZHA4pmA3"
      },
      "outputs": [],
      "source": [
        "b = np.arange(12).reshape(4,3)\n",
        "print(b)"
      ]
    },
    {
      "cell_type": "code",
      "execution_count": null,
      "metadata": {
        "id": "e8KsJe09pmA3"
      },
      "outputs": [],
      "source": [
        "c = np.arange(24).reshape(2,3,4)\n",
        "print(c)"
      ]
    },
    {
      "cell_type": "code",
      "execution_count": null,
      "metadata": {
        "id": "2B9zOPk1pmA3"
      },
      "outputs": [],
      "source": [
        "# Si es muy grande, se suprime parte de la salida\n",
        "print(np.arange(10000))"
      ]
    },
    {
      "cell_type": "code",
      "execution_count": null,
      "metadata": {
        "id": "KI55_PnCpmA3"
      },
      "outputs": [],
      "source": [
        "print(np.arange(10000).reshape(100,100))"
      ]
    },
    {
      "cell_type": "markdown",
      "metadata": {
        "id": "K_vrEmzFpmA3"
      },
      "source": [
        "***\n",
        "# Operaciones básicas\n",
        "\n",
        "Las operaciones básicas son aplicadas elemento a elemento (*elementwise*). Se crea un nuevo arreglo lleno con el resultado"
      ]
    },
    {
      "cell_type": "code",
      "execution_count": null,
      "metadata": {
        "id": "0A0gl0R3pmA3"
      },
      "outputs": [],
      "source": [
        "a = np.array( [20,30,40,50] )\n",
        "b = np.arange(4)\n",
        "a, b"
      ]
    },
    {
      "cell_type": "code",
      "execution_count": null,
      "metadata": {
        "id": "-fgVUWUlpmA3"
      },
      "outputs": [],
      "source": [
        "c = a - b\n",
        "c"
      ]
    },
    {
      "cell_type": "markdown",
      "metadata": {
        "id": "_dOtHEFFpmA3"
      },
      "source": [
        "`*` opera en sentido elemento a elemento sobre los arreglos."
      ]
    },
    {
      "cell_type": "code",
      "execution_count": null,
      "metadata": {
        "id": "tM1jvOEFpmA3"
      },
      "outputs": [],
      "source": [
        "# Constante por arreglo\n",
        "10 * np.sin(a)"
      ]
    },
    {
      "cell_type": "code",
      "execution_count": null,
      "metadata": {
        "id": "x9PWUO1xpmA3"
      },
      "outputs": [],
      "source": [
        "# Arreglos lógicos\n",
        "a < 35"
      ]
    },
    {
      "cell_type": "markdown",
      "metadata": {
        "id": "3h_tjr0EpmA3"
      },
      "source": [
        "La multiplicación matricial puede hacerse utilizando `@` o el método `dot`"
      ]
    },
    {
      "cell_type": "code",
      "execution_count": null,
      "metadata": {
        "id": "ZiXO6PAvpmA3"
      },
      "outputs": [],
      "source": [
        "A = np.array( [[1, 1], [0, 1]] )\n",
        "B = np.array( [[2, 0], [3, 4]] )"
      ]
    },
    {
      "cell_type": "code",
      "execution_count": null,
      "metadata": {
        "id": "HtrhWqPApmA3"
      },
      "outputs": [],
      "source": [
        "A * B"
      ]
    },
    {
      "cell_type": "code",
      "execution_count": null,
      "metadata": {
        "id": "T7gnl6YKpmA3"
      },
      "outputs": [],
      "source": [
        "A @ B"
      ]
    },
    {
      "cell_type": "code",
      "execution_count": null,
      "metadata": {
        "id": "0KSyw0o0pmA3"
      },
      "outputs": [],
      "source": [
        "A.dot(B)"
      ]
    },
    {
      "cell_type": "code",
      "execution_count": null,
      "metadata": {
        "scrolled": true,
        "id": "M_39IUHbpmA3"
      },
      "outputs": [],
      "source": [
        "np.matmul(A, B)"
      ]
    },
    {
      "cell_type": "code",
      "execution_count": null,
      "metadata": {
        "id": "Hr-9-F-_pmA3"
      },
      "outputs": [],
      "source": [
        "b = np.random.random((2,3))\n",
        "b"
      ]
    },
    {
      "cell_type": "markdown",
      "metadata": {
        "id": "Hj-T7tzKpmA3"
      },
      "source": [
        "Operadores `+=` y `*=` son válidos para modificar arreglos existentes."
      ]
    },
    {
      "cell_type": "code",
      "execution_count": null,
      "metadata": {
        "id": "HykjpfP1pmA3"
      },
      "outputs": [],
      "source": [
        "a = np.ones((2,3), dtype=int)\n",
        "a *= 3\n",
        "a"
      ]
    },
    {
      "cell_type": "code",
      "execution_count": null,
      "metadata": {
        "id": "rFkhe9mVpmA4"
      },
      "outputs": [],
      "source": [
        "b = np.random.random((2,3))\n",
        "b +=a\n",
        "b"
      ]
    },
    {
      "cell_type": "markdown",
      "metadata": {
        "id": "t5Ji8zoFpmA4"
      },
      "source": [
        "## Métodos útiles"
      ]
    },
    {
      "cell_type": "code",
      "execution_count": null,
      "metadata": {
        "id": "ebE_dq3qpmA4"
      },
      "outputs": [],
      "source": [
        "a = np.random.random((2, 3))\n",
        "a"
      ]
    },
    {
      "cell_type": "code",
      "execution_count": null,
      "metadata": {
        "id": "AeSLg4ywpmA4"
      },
      "outputs": [],
      "source": [
        "a.sum() # equivalente a np.sum(a)"
      ]
    },
    {
      "cell_type": "code",
      "execution_count": null,
      "metadata": {
        "id": "w2MU8BcNpmA4"
      },
      "outputs": [],
      "source": [
        "a.min()"
      ]
    },
    {
      "cell_type": "code",
      "execution_count": null,
      "metadata": {
        "id": "ZTirDQP0pmA4"
      },
      "outputs": [],
      "source": [
        "a.max()"
      ]
    },
    {
      "cell_type": "markdown",
      "metadata": {
        "id": "BV1M6OQUpmA4"
      },
      "source": [
        "Por defecto operan sobre el arreglo como si fueran una lista de números. Es posible especificar el eje sobre el cuál se desea aplicar la operación con el parámetro `axis`"
      ]
    },
    {
      "cell_type": "code",
      "execution_count": null,
      "metadata": {
        "id": "dNxvMTGbpmA4"
      },
      "outputs": [],
      "source": [
        "b = np.arange(12).reshape(3,4)\n",
        "b"
      ]
    },
    {
      "cell_type": "code",
      "execution_count": null,
      "metadata": {
        "id": "rg_T5p7JpmA4"
      },
      "outputs": [],
      "source": [
        "# Suma de las columnas\n",
        "b.sum(axis=0)"
      ]
    },
    {
      "cell_type": "code",
      "execution_count": null,
      "metadata": {
        "id": "wPhc1Ui8pmA4"
      },
      "outputs": [],
      "source": [
        "# Mínimo de cada fila\n",
        "b.min(axis=1)"
      ]
    },
    {
      "cell_type": "code",
      "execution_count": null,
      "metadata": {
        "id": "3j4NvjjepmA4"
      },
      "outputs": [],
      "source": [
        "# Suma acumulada en las columnas\n",
        "b.cumsum(axis=1)"
      ]
    },
    {
      "cell_type": "markdown",
      "metadata": {
        "id": "Yno_3U53pmA4"
      },
      "source": [
        "***\n",
        "## Funciones universales (*ufuncs*)"
      ]
    },
    {
      "cell_type": "code",
      "execution_count": null,
      "metadata": {
        "id": "TpXey0yopmA4"
      },
      "outputs": [],
      "source": [
        "a = np.arange(5)\n",
        "a"
      ]
    },
    {
      "cell_type": "code",
      "execution_count": null,
      "metadata": {
        "id": "dsFkkwcNpmA4"
      },
      "outputs": [],
      "source": [
        "np.exp(a)"
      ]
    },
    {
      "cell_type": "code",
      "execution_count": null,
      "metadata": {
        "id": "-Z9rbQh3pmA4"
      },
      "outputs": [],
      "source": [
        "np.sqrt(a)"
      ]
    },
    {
      "cell_type": "markdown",
      "metadata": {
        "id": "MVGYXF_TpmA4"
      },
      "source": [
        "Podemos definir funciones de usuario que sean universales: $$ f(x) = 2x + e^x - \\sqrt{x} $$"
      ]
    },
    {
      "cell_type": "code",
      "execution_count": null,
      "metadata": {
        "id": "wfJsBd9hpmA4"
      },
      "outputs": [],
      "source": [
        "def f(x):\n",
        "    return 2*x + np.exp(x) - np.sqrt(x)"
      ]
    },
    {
      "cell_type": "code",
      "execution_count": null,
      "metadata": {
        "id": "1SDYG-cbpmA4"
      },
      "outputs": [],
      "source": [
        "f(a)"
      ]
    },
    {
      "cell_type": "markdown",
      "metadata": {
        "id": "2wNjgaRopmA4"
      },
      "source": [
        "***\n",
        "## Indexing, Slicing and Iterating\n",
        "\n",
        "Los arreglos unidimensionales se pueden indexar, dividir e iterar, al igual que las listas y otras secuencias de Python."
      ]
    },
    {
      "cell_type": "code",
      "execution_count": null,
      "metadata": {
        "id": "v0s_t_4VpmA4"
      },
      "outputs": [],
      "source": [
        "a = np.arange(10)**3\n",
        "a"
      ]
    },
    {
      "cell_type": "code",
      "execution_count": null,
      "metadata": {
        "id": "MQEZzGNzpmA4"
      },
      "outputs": [],
      "source": [
        "a[2]"
      ]
    },
    {
      "cell_type": "code",
      "execution_count": null,
      "metadata": {
        "id": "SdPJD9pvpmA5"
      },
      "outputs": [],
      "source": [
        "a[2:5]"
      ]
    },
    {
      "cell_type": "code",
      "execution_count": null,
      "metadata": {
        "id": "VNFInXxapmA5"
      },
      "outputs": [],
      "source": [
        "# Asignación múltiple\n",
        "a[0:6:2] = -1000\n",
        "a"
      ]
    },
    {
      "cell_type": "code",
      "execution_count": null,
      "metadata": {
        "id": "8XZ_49r3pmA5"
      },
      "outputs": [],
      "source": [
        "def f(x,y):\n",
        "    return 10*x + y"
      ]
    },
    {
      "cell_type": "code",
      "execution_count": null,
      "metadata": {
        "id": "jFze4MwLpmA5"
      },
      "outputs": [],
      "source": [
        "b = np.fromfunction(f, (5,4), dtype=int)\n",
        "b"
      ]
    },
    {
      "cell_type": "code",
      "execution_count": null,
      "metadata": {
        "id": "SkZ_krWZpmA5"
      },
      "outputs": [],
      "source": [
        "b[2, 3]"
      ]
    },
    {
      "cell_type": "code",
      "execution_count": null,
      "metadata": {
        "id": "oGDhcQ0ZpmA5"
      },
      "outputs": [],
      "source": [
        "b[0:5, 1]"
      ]
    },
    {
      "cell_type": "code",
      "execution_count": null,
      "metadata": {
        "id": "9UQPFhflpmA5"
      },
      "outputs": [],
      "source": [
        "b[:, 1]"
      ]
    },
    {
      "cell_type": "markdown",
      "metadata": {
        "id": "y4lXyrY2pmA5"
      },
      "source": [
        "Cuando se proporcionan menos índices que el número de ejes, los índices faltantes se consideran segmentos completos `:`"
      ]
    },
    {
      "cell_type": "code",
      "execution_count": null,
      "metadata": {
        "id": "hbqGtoZppmA5"
      },
      "outputs": [],
      "source": [
        "# Ultima fila, todas las columnas\n",
        "b[-1]"
      ]
    },
    {
      "cell_type": "code",
      "execution_count": null,
      "metadata": {
        "id": "5YwyYf-IpmA5"
      },
      "outputs": [],
      "source": [
        "np.ones((4,3,2,1))"
      ]
    },
    {
      "cell_type": "markdown",
      "metadata": {
        "id": "K4hoPTqVpmA5"
      },
      "source": [
        "La iteración sobre arreglos multidimensionales se realiza con respecto al primer eje"
      ]
    },
    {
      "cell_type": "code",
      "execution_count": null,
      "metadata": {
        "id": "N3OEYk06pmA5"
      },
      "outputs": [],
      "source": [
        "for row in b:\n",
        "    print(row)"
      ]
    },
    {
      "cell_type": "markdown",
      "metadata": {
        "id": "FvY8qfd9pmA5"
      },
      "source": [
        "Sin embargo, si se desea realizar una operación en cada elemento de la matriz, se puede usar el atributo `flat` que es un iterador sobre todos los elementos de la matriz:"
      ]
    },
    {
      "cell_type": "code",
      "execution_count": null,
      "metadata": {
        "id": "t1c05j75pmA5"
      },
      "outputs": [],
      "source": [
        "for element in b.flat:\n",
        "    print(element)"
      ]
    },
    {
      "cell_type": "code",
      "execution_count": null,
      "metadata": {
        "id": "fcp_DAQApmA5"
      },
      "outputs": [],
      "source": [
        "b.flatten()"
      ]
    },
    {
      "cell_type": "markdown",
      "metadata": {
        "id": "3bd29R9JpmA5"
      },
      "source": [
        "***\n",
        "## Manipulación del `shape` (forma) del arreglo\n",
        "\n",
        "Una matriz tiene una forma dada por el número de elementos a lo largo de cada eje:"
      ]
    },
    {
      "cell_type": "code",
      "execution_count": null,
      "metadata": {
        "id": "7UuTBUaApmA5"
      },
      "outputs": [],
      "source": [
        "a = np.floor ( 10 * np.random.random (( 3 , 4 )))\n",
        "a"
      ]
    },
    {
      "cell_type": "code",
      "execution_count": null,
      "metadata": {
        "id": "KBUihCShpmA5"
      },
      "outputs": [],
      "source": [
        "a.shape"
      ]
    },
    {
      "cell_type": "markdown",
      "metadata": {
        "id": "acY8_UyzpmA5"
      },
      "source": [
        "La forma de una matriz se puede cambiar con varios comandos. Tenga en cuenta que los siguientes tres comandos devuelven una matriz modificada, pero **no cambian la matriz original**:"
      ]
    },
    {
      "cell_type": "code",
      "execution_count": null,
      "metadata": {
        "id": "oB4H63lFpmA5"
      },
      "outputs": [],
      "source": [
        "a.ravel()  # returns the array, flattened"
      ]
    },
    {
      "cell_type": "code",
      "execution_count": null,
      "metadata": {
        "id": "_T8SNZ0YpmA5"
      },
      "outputs": [],
      "source": [
        "a.flatten()"
      ]
    },
    {
      "cell_type": "code",
      "execution_count": null,
      "metadata": {
        "id": "32hgIYQ1pmA5"
      },
      "outputs": [],
      "source": [
        "a.reshape(6,2)  # returns the array with a modified shape"
      ]
    },
    {
      "cell_type": "code",
      "execution_count": null,
      "metadata": {
        "id": "0z3cQAh2pmA5"
      },
      "outputs": [],
      "source": [
        "a.T"
      ]
    },
    {
      "cell_type": "code",
      "execution_count": null,
      "metadata": {
        "id": "_oGbEVXLpmA6"
      },
      "outputs": [],
      "source": [
        "a.T.shape"
      ]
    },
    {
      "cell_type": "markdown",
      "metadata": {
        "id": "BHhrFj1qpmA6"
      },
      "source": [
        "- El orden de los elementos en la matriz resultante de `ravel()` es normalmente \"estilo `C`\", es decir, el índice de la derecha \"cambia más rápido\", por lo que el elemento después de un `[0,0]` es un `[0,1]`.\n",
        "\n",
        "- Si la matriz se reforma a otra forma, nuevamente la matriz se trata como \"estilo `C`\". NumPy normalmente crea matrices almacenadas en este orden, por lo que `ravel()` generalmente no necesitará copiar su argumento, pero si la matriz se hizo tomando segmentos de otra matriz o se creó con opciones inusuales, es posible que deba copiarse.\n",
        "\n",
        "- Las funciones `ravel()` y `reshape()` también se pueden instruir, utilizando un argumento opcional, para usar matrices de estilo FORTRAN, en las que el índice más a la izquierda cambia más rápido."
      ]
    },
    {
      "cell_type": "markdown",
      "metadata": {
        "id": "V8uvs79dpmA6"
      },
      "source": [
        "La función de `reshape` devuelve su argumento con una forma modificada, mientras que el método `ndarray.resize` modifica la matriz en sí:"
      ]
    },
    {
      "cell_type": "code",
      "execution_count": null,
      "metadata": {
        "id": "YK_j91NYpmA6"
      },
      "outputs": [],
      "source": [
        "a"
      ]
    },
    {
      "cell_type": "code",
      "execution_count": null,
      "metadata": {
        "id": "HUNi0wl9pmA6"
      },
      "outputs": [],
      "source": [
        "a.resize((2, 6))\n",
        "a"
      ]
    },
    {
      "cell_type": "markdown",
      "metadata": {
        "id": "aIpM013GpmA6"
      },
      "source": [
        "***\n",
        "## Concatenación de arreglos\n",
        "Se pueden apilar varios arreglos a lo largo de diferentes ejes:"
      ]
    },
    {
      "cell_type": "code",
      "execution_count": null,
      "metadata": {
        "id": "XZZexYIXpmA6"
      },
      "outputs": [],
      "source": [
        "a = np.floor(10*np.random.random((2,2)))\n",
        "a"
      ]
    },
    {
      "cell_type": "code",
      "execution_count": null,
      "metadata": {
        "id": "XVvxc8MOpmA6"
      },
      "outputs": [],
      "source": [
        "b = np.floor(10*np.random.random((2,2)))\n",
        "b"
      ]
    },
    {
      "cell_type": "code",
      "execution_count": null,
      "metadata": {
        "id": "HcyamU0HpmA6"
      },
      "outputs": [],
      "source": [
        "# np.vstack pide una tupla de ndarrays\n",
        "np.vstack((a,b))"
      ]
    },
    {
      "cell_type": "code",
      "execution_count": null,
      "metadata": {
        "id": "5uu2iWokpmA6"
      },
      "outputs": [],
      "source": [
        "# np.hstack pide una tupla de ndarrays\n",
        "np.hstack((a,b))"
      ]
    },
    {
      "cell_type": "code",
      "execution_count": null,
      "metadata": {
        "id": "dm03m5BApmA6"
      },
      "outputs": [],
      "source": [
        "np.column_stack((a,b)) # Equivalente a np.hstack para arreglos 2D"
      ]
    },
    {
      "cell_type": "code",
      "execution_count": null,
      "metadata": {
        "id": "vJSWdyuxpmA6"
      },
      "outputs": [],
      "source": [
        "np.hstack((a,b))"
      ]
    },
    {
      "cell_type": "markdown",
      "metadata": {
        "id": "uLotOXAPpmA6"
      },
      "source": [
        "- Cuando los arreglos son 1D, `np.column_stack()` y `np.hstack()` se comportan diferente"
      ]
    },
    {
      "cell_type": "code",
      "execution_count": null,
      "metadata": {
        "id": "WTiT4LRHpmA6"
      },
      "outputs": [],
      "source": [
        "a = np.array([4.,2.])\n",
        "b = np.array([3.,8.])"
      ]
    },
    {
      "cell_type": "code",
      "execution_count": null,
      "metadata": {
        "id": "jYgCfpvlpmA6"
      },
      "outputs": [],
      "source": [
        "np.column_stack((a,b))"
      ]
    },
    {
      "cell_type": "code",
      "execution_count": null,
      "metadata": {
        "id": "Ee5gdEhnpmA6"
      },
      "outputs": [],
      "source": [
        "np.hstack((a,b))"
      ]
    },
    {
      "cell_type": "markdown",
      "metadata": {
        "id": "JEwe8Gz1pmA6"
      },
      "source": [
        "- Podemos crear nuevas dimensiones en el arreglo con `np.newaxis` o con `None`"
      ]
    },
    {
      "cell_type": "code",
      "execution_count": null,
      "metadata": {
        "id": "UD1Q5j6KpmA6"
      },
      "outputs": [],
      "source": [
        "a[:, np.newaxis]"
      ]
    },
    {
      "cell_type": "code",
      "execution_count": null,
      "metadata": {
        "id": "yHVOLlPIpmA6"
      },
      "outputs": [],
      "source": [
        "a[:, None]"
      ]
    },
    {
      "cell_type": "code",
      "execution_count": null,
      "metadata": {
        "id": "9TflyFebpmA6"
      },
      "outputs": [],
      "source": [
        "np.column_stack((a[:, np.newaxis], b[:, np.newaxis]))"
      ]
    },
    {
      "cell_type": "markdown",
      "metadata": {
        "id": "l59r4dXppmA7"
      },
      "source": [
        "- Por otro lado, la función `row_stack` es equivalente a `vstack` para cualquier arreglo de entrada. De hecho, `row_stack` es un alias para `vstack`"
      ]
    },
    {
      "cell_type": "code",
      "execution_count": null,
      "metadata": {
        "id": "KftSRX60pmA7"
      },
      "outputs": [],
      "source": [
        "np.row_stack is np.vstack"
      ]
    },
    {
      "cell_type": "markdown",
      "metadata": {
        "id": "ZMkeaS7HpmA7"
      },
      "source": [
        "- En general, para arreglos con más de dos dimensiones:\n",
        "    \n",
        "    - `hstack` apila a lo largo del segundo eje,\n",
        "    \n",
        "    - `vstack` apila a lo largo del primer eje y\n",
        "    \n",
        "    - `concatenate` permite argumentos opcionales que dan el número del eje (`axis`) a lo largo del cual debe ocurrir la concatenación."
      ]
    },
    {
      "cell_type": "markdown",
      "metadata": {
        "id": "1Kc9tgN8pmA7"
      },
      "source": [
        "***\n",
        "## Separar un arreglo en varios más pequeños"
      ]
    },
    {
      "cell_type": "code",
      "execution_count": null,
      "metadata": {
        "id": "Ypjq5aMCpmA7"
      },
      "outputs": [],
      "source": [
        "a = np.floor(10*np.random.random((2,12)))\n",
        "a"
      ]
    },
    {
      "cell_type": "code",
      "execution_count": null,
      "metadata": {
        "id": "fQbxRUt9pmA7"
      },
      "outputs": [],
      "source": [
        "np.hsplit(a,3)   # Split a into 3"
      ]
    },
    {
      "cell_type": "code",
      "execution_count": null,
      "metadata": {
        "id": "7uIUa1KopmA7"
      },
      "outputs": [],
      "source": [
        "np.hsplit(a, (3,4))   # Split a after the third and the fourth column"
      ]
    },
    {
      "cell_type": "code",
      "execution_count": null,
      "metadata": {
        "scrolled": true,
        "id": "JgWdEBThpmA7"
      },
      "outputs": [],
      "source": [
        "help(np.hsplit)"
      ]
    },
    {
      "cell_type": "markdown",
      "metadata": {
        "id": "0-Vi_0QRpmA7"
      },
      "source": [
        "***\n",
        "# Mutabilidad y clonado\n",
        "\n",
        "Al operar y manipular arreglos, los datos a veces se copian en un nuevo arreglo y otras no. Esto es a menudo una fuente de confusión para los principiantes.\n",
        "\n",
        "Hay tres casos:"
      ]
    },
    {
      "cell_type": "code",
      "execution_count": null,
      "metadata": {
        "id": "7D9E_iKApmA7"
      },
      "outputs": [],
      "source": [
        "a = np.arange( 12 )\n",
        "b = a\n",
        "b is a"
      ]
    },
    {
      "cell_type": "code",
      "execution_count": null,
      "metadata": {
        "id": "h2Y9l9EepmA7"
      },
      "outputs": [],
      "source": [
        "b.shape = 3, 4\n",
        "a.shape"
      ]
    },
    {
      "cell_type": "markdown",
      "metadata": {
        "id": "H_LqV2rwpmA7"
      },
      "source": [
        "1. Cortar una matriz devuelve una vista de ella:"
      ]
    },
    {
      "cell_type": "code",
      "execution_count": null,
      "metadata": {
        "id": "e-ZsWu3-pmA7"
      },
      "outputs": [],
      "source": [
        "a"
      ]
    },
    {
      "cell_type": "code",
      "execution_count": null,
      "metadata": {
        "id": "VPKTVFg_pmA7"
      },
      "outputs": [],
      "source": [
        "s = a[:, 1:3]\n",
        "s"
      ]
    },
    {
      "cell_type": "code",
      "execution_count": null,
      "metadata": {
        "id": "_PoQUEDzpmA7"
      },
      "outputs": [],
      "source": [
        "s is a"
      ]
    },
    {
      "cell_type": "markdown",
      "metadata": {
        "id": "oQ5oVtcdpmA7"
      },
      "source": [
        "## Copia profunda\n",
        "\n",
        "El método de copy hace una copia completa de la matriz y sus datos."
      ]
    },
    {
      "cell_type": "code",
      "execution_count": null,
      "metadata": {
        "id": "m73CVe7dpmA7"
      },
      "outputs": [],
      "source": [
        "# a new array object with new data is created\n",
        "d = a.copy()\n",
        "d"
      ]
    },
    {
      "cell_type": "code",
      "execution_count": null,
      "metadata": {
        "id": "Vhr7YWa6pmA7"
      },
      "outputs": [],
      "source": [
        "d is a"
      ]
    },
    {
      "cell_type": "code",
      "execution_count": null,
      "metadata": {
        "id": "I76nsOkgpmA7"
      },
      "outputs": [],
      "source": [
        "d == a"
      ]
    },
    {
      "cell_type": "markdown",
      "metadata": {
        "id": "O8arjreVpmA7"
      },
      "source": [
        "***\n",
        "# Rutinas de NumPy\n",
        "\n",
        "[Rutinas y funcionalidad](https://numpy.org/devdocs/reference/routines.html#routines)"
      ]
    },
    {
      "cell_type": "markdown",
      "metadata": {
        "id": "JG0xCHvUpmA7"
      },
      "source": [
        "***\n",
        "# Para usuarios ***pro*** (como ustedes)"
      ]
    },
    {
      "cell_type": "markdown",
      "metadata": {
        "id": "6dpUv-ktpmA8"
      },
      "source": [
        "## *Broadcasting* (difusión)\n",
        "\n",
        "- Este mecanismo permite que las funciones universales manejen de manera significativa entradas que no tienen exactamente la misma forma.\n",
        "\n",
        "[General Broadcasting Rules](https://numpy.org/devdocs/user/basics.broadcasting.html)"
      ]
    },
    {
      "cell_type": "markdown",
      "metadata": {
        "id": "-WjCzTGqpmA8"
      },
      "source": [
        "- Un ejemplo:"
      ]
    },
    {
      "cell_type": "code",
      "execution_count": null,
      "metadata": {
        "id": "P5WIu0phpmA8"
      },
      "outputs": [],
      "source": [
        "x = np.arange(4)\n",
        "x"
      ]
    },
    {
      "cell_type": "code",
      "execution_count": null,
      "metadata": {
        "id": "eFbPwUm3pmA8"
      },
      "outputs": [],
      "source": [
        "xx = x.reshape(4,1)\n",
        "xx"
      ]
    },
    {
      "cell_type": "code",
      "execution_count": null,
      "metadata": {
        "scrolled": true,
        "id": "DwEDT86QpmA8"
      },
      "outputs": [],
      "source": [
        "x + xx"
      ]
    },
    {
      "cell_type": "code",
      "execution_count": null,
      "metadata": {
        "id": "juIcsn8rpmA8"
      },
      "outputs": [],
      "source": [
        "x.shape"
      ]
    },
    {
      "cell_type": "code",
      "execution_count": null,
      "metadata": {
        "scrolled": true,
        "id": "RFLWnvW9pmA8"
      },
      "outputs": [],
      "source": [
        "xx.shape"
      ]
    },
    {
      "cell_type": "markdown",
      "metadata": {
        "id": "OeZD9fH-pmA8"
      },
      "source": [
        "- El *broadcasting* proporciona una forma conveniente de tomar el producto externo (o cualquier otra operación externa) de dos matrices. El siguiente ejemplo muestra una operación de adición externa de dos matrices 1D:"
      ]
    },
    {
      "cell_type": "code",
      "execution_count": null,
      "metadata": {
        "id": "RuLt8OcxpmA8"
      },
      "outputs": [],
      "source": [
        "a = np.array([0.0, 10.0, 20.0, 30.0])\n",
        "b = np.array([1.0, 2.0, 3.0])"
      ]
    },
    {
      "cell_type": "code",
      "execution_count": null,
      "metadata": {
        "scrolled": true,
        "id": "UZdNGF3jpmA8"
      },
      "outputs": [],
      "source": [
        "a[:, None] + b"
      ]
    },
    {
      "cell_type": "markdown",
      "metadata": {
        "id": "-hP1DseTpmA8"
      },
      "source": [
        "Aquí, `None` inserta un nuevo eje en `a`, haciéndolo un arreglo bidimensional de `4x1`. Al combinar este arreglo de `4x1` con `b`, que tiene forma `(3,)`, resulta un arreglo de `4x3`"
      ]
    },
    {
      "cell_type": "markdown",
      "metadata": {
        "id": "qC5xTSgypmA8"
      },
      "source": [
        "### ¿Por qué funciona?\n",
        "\n",
        "- Cuando se operan dos arreglos, NumPy compara sus formas (`shape`) elemento a elemento, empezando por la última dimensión y hacia arriba.\n",
        "\n",
        "- Dos dimensiones son compatibles cuando:\n",
        "    \n",
        "    - Son iguales, o\n",
        "    \n",
        "    - Una de ellas es 1\n",
        "    \n",
        "- Cuando alguna de las dos dimensiones es uno, **se utiliza la otra**.\n",
        "\n",
        "    - En otras palabras, las dimensiones con tamaño 1 son \"estiradas\" o \"copiadas\" para ajustarse a la otra."
      ]
    },
    {
      "cell_type": "markdown",
      "metadata": {
        "id": "DBMuRiYgpmA8"
      },
      "source": [
        "***\n",
        "## *Fancy indexing* y trucos de indexación\n",
        "\n",
        "- NumPy ofrece más funciones de indexación que las secuencias regulares de Python. Además de la indexación por enteros y sectores, como vimos antes, las matrices se pueden indexar por matrices de enteros y matrices de booleanos."
      ]
    },
    {
      "cell_type": "code",
      "execution_count": null,
      "metadata": {
        "id": "wg686kONpmA8"
      },
      "outputs": [],
      "source": [
        "a = np.arange(11)**2\n",
        "a"
      ]
    },
    {
      "cell_type": "code",
      "execution_count": null,
      "metadata": {
        "id": "VCcTts1OpmA8"
      },
      "outputs": [],
      "source": [
        "i = np.array( [ 1,1,3,8,5 ] )\n",
        "i"
      ]
    },
    {
      "cell_type": "code",
      "execution_count": null,
      "metadata": {
        "id": "rxTEjsmGpmA8"
      },
      "outputs": [],
      "source": [
        "a[i]   # the elements of a at the positions i"
      ]
    },
    {
      "cell_type": "code",
      "execution_count": null,
      "metadata": {
        "id": "Z4Ngv7FupmA8"
      },
      "outputs": [],
      "source": [
        "j = np.array([[ 3, 4], [ 9, 7 ]])  # a bidimensional array of indices\n",
        "j"
      ]
    },
    {
      "cell_type": "code",
      "execution_count": null,
      "metadata": {
        "id": "xpeXExPopmA8"
      },
      "outputs": [],
      "source": [
        "a[j] # the same shape as j"
      ]
    },
    {
      "cell_type": "markdown",
      "metadata": {
        "id": "5OwhA8KfpmA8"
      },
      "source": [
        "- También podemos dar índices para más de una dimensión. Las matrices de índices para cada dimensión deben tener la misma forma."
      ]
    },
    {
      "cell_type": "code",
      "execution_count": null,
      "metadata": {
        "id": "gTJUzfn3pmA8"
      },
      "outputs": [],
      "source": [
        "a = np.arange(12).reshape(3,4)\n",
        "a"
      ]
    },
    {
      "cell_type": "code",
      "execution_count": null,
      "metadata": {
        "id": "_l_AbCtfpmA9"
      },
      "outputs": [],
      "source": [
        "i = np.array([[0,1], [1,2]])\n",
        "j = np.array([[2,1], [3,3]])"
      ]
    },
    {
      "cell_type": "code",
      "execution_count": null,
      "metadata": {
        "id": "IsVBFOxrpmA9"
      },
      "outputs": [],
      "source": [
        "i"
      ]
    },
    {
      "cell_type": "code",
      "execution_count": null,
      "metadata": {
        "id": "pWyXRu_ipmA9"
      },
      "outputs": [],
      "source": [
        "j"
      ]
    },
    {
      "cell_type": "code",
      "execution_count": null,
      "metadata": {
        "id": "hPEA_IGBpmA9"
      },
      "outputs": [],
      "source": [
        "a[i,j] # i and j must have equal shape"
      ]
    },
    {
      "cell_type": "code",
      "execution_count": null,
      "metadata": {
        "id": "7OhCQvhwpmA9"
      },
      "outputs": [],
      "source": [
        "a[i,2]"
      ]
    },
    {
      "cell_type": "code",
      "execution_count": null,
      "metadata": {
        "id": "kwqhdT-spmA9"
      },
      "outputs": [],
      "source": [
        "a[:,j]"
      ]
    },
    {
      "cell_type": "markdown",
      "metadata": {
        "id": "5jr2LPVxpmA9"
      },
      "source": [
        "***\n",
        "### Búsqueda del máximo"
      ]
    },
    {
      "cell_type": "code",
      "execution_count": null,
      "metadata": {
        "id": "8AFw4OGIpmA9"
      },
      "outputs": [],
      "source": [
        "data = np.sin(np.arange(20)).reshape(5,4)\n",
        "data"
      ]
    },
    {
      "cell_type": "code",
      "execution_count": null,
      "metadata": {
        "id": "-Anmm6w6pmA9"
      },
      "outputs": [],
      "source": [
        "# index of the maxima for each series\n",
        "ind = data.argmax(axis=0)\n",
        "ind"
      ]
    },
    {
      "cell_type": "markdown",
      "metadata": {
        "id": "d7VI1b03pmA9"
      },
      "source": [
        "***\n",
        "###  Asignación múltiple con indexación"
      ]
    },
    {
      "cell_type": "code",
      "execution_count": null,
      "metadata": {
        "id": "0TSJF6aLpmA9"
      },
      "outputs": [],
      "source": [
        "a = np.arange(5)\n",
        "a"
      ]
    },
    {
      "cell_type": "code",
      "execution_count": null,
      "metadata": {
        "id": "QBjRo1bRpmA9"
      },
      "outputs": [],
      "source": [
        "a[[1,3,4]] = 0\n",
        "a"
      ]
    },
    {
      "cell_type": "code",
      "execution_count": null,
      "metadata": {
        "id": "NskviTCrpmA9"
      },
      "outputs": [],
      "source": [
        "# Se queda la última asignación\n",
        "a = np.arange(5)\n",
        "a[[0,0,2]] = [1,2,3]\n",
        "a"
      ]
    },
    {
      "cell_type": "markdown",
      "metadata": {
        "id": "xiDHmMJapmA9"
      },
      "source": [
        "***\n",
        "### Indexado con arreglos booleanos\n",
        "\n",
        "- Cuando indexamos arreglos con otros arreglos de índices (enteros), proporcionamos la lista de índices para elegir. Con los índices booleanos, el enfoque es diferente; **elegimos explícitamente qué elementos de la matriz queremos y cuáles no**.\n",
        "\n",
        "La forma más natural en la que uno puede pensar para la indexación booleana es usar matrices booleanas que tengan la misma forma que la matriz original:"
      ]
    },
    {
      "cell_type": "code",
      "execution_count": null,
      "metadata": {
        "id": "eS5bFUpUpmA9"
      },
      "outputs": [],
      "source": [
        "a = np.arange(12).reshape(3,4)\n",
        "a"
      ]
    },
    {
      "cell_type": "code",
      "execution_count": null,
      "metadata": {
        "id": "HLYouxUgpmA9"
      },
      "outputs": [],
      "source": [
        "b = a > 4\n",
        "b"
      ]
    },
    {
      "cell_type": "code",
      "execution_count": null,
      "metadata": {
        "id": "8FAf1b_hpmA9"
      },
      "outputs": [],
      "source": [
        "a[b]"
      ]
    },
    {
      "cell_type": "markdown",
      "metadata": {
        "id": "MCe-b64ipmA9"
      },
      "source": [
        "- También se puede utilizar en asignaciones:"
      ]
    },
    {
      "cell_type": "code",
      "execution_count": null,
      "metadata": {
        "id": "uZmufTHBpmA9"
      },
      "outputs": [],
      "source": [
        "a[b] = 0\n",
        "a"
      ]
    },
    {
      "cell_type": "markdown",
      "metadata": {
        "id": "C1E9b30lpmA9"
      },
      "source": [
        "***\n",
        "# Álgebra lineal"
      ]
    },
    {
      "cell_type": "code",
      "execution_count": null,
      "metadata": {
        "id": "RgN_R-XfpmA9"
      },
      "outputs": [],
      "source": [
        "a = np.array([[1.0, 2.0], [3.0, 4.0]])\n",
        "a"
      ]
    },
    {
      "cell_type": "code",
      "execution_count": null,
      "metadata": {
        "id": "8Ji4o7dupmA9"
      },
      "outputs": [],
      "source": [
        "a.transpose()"
      ]
    },
    {
      "cell_type": "code",
      "execution_count": null,
      "metadata": {
        "id": "Edtx7hahpmA9"
      },
      "outputs": [],
      "source": [
        "np.linalg.inv(a)"
      ]
    },
    {
      "cell_type": "code",
      "execution_count": null,
      "metadata": {
        "id": "AKQjAMjMpmA-"
      },
      "outputs": [],
      "source": [
        "np.eye(2)"
      ]
    },
    {
      "cell_type": "code",
      "execution_count": null,
      "metadata": {
        "id": "-Cd5w7LppmA-"
      },
      "outputs": [],
      "source": [
        "j = np.array([[0.0, -1.0], [1.0, 0.0]])\n",
        "\n",
        "j @ j"
      ]
    },
    {
      "cell_type": "code",
      "execution_count": null,
      "metadata": {
        "id": "nr7Zs93ipmA-"
      },
      "outputs": [],
      "source": [
        "y = np.array([[5.], [7.]])\n",
        "y"
      ]
    },
    {
      "cell_type": "code",
      "execution_count": null,
      "metadata": {
        "id": "zqKMXwftpmA-"
      },
      "outputs": [],
      "source": [
        "np.linalg.solve(a, y)"
      ]
    },
    {
      "cell_type": "code",
      "execution_count": null,
      "metadata": {
        "id": "nQzdUS7-pmA-"
      },
      "outputs": [],
      "source": [
        "# eigenvalores y eigenvectores\n",
        "np.linalg.eig(a)"
      ]
    },
    {
      "cell_type": "code",
      "source": [],
      "metadata": {
        "id": "EO1k46N2rpJs"
      },
      "execution_count": null,
      "outputs": []
    },
    {
      "cell_type": "markdown",
      "metadata": {
        "id": "8K-ET7PppmA-"
      },
      "source": [
        "***\n",
        "# Ejercicios propuestos\n",
        "\n",
        "1. De las siguientes secciones, revisa las funciones de NumPy disponibles para darte una idea de lo que es posible hacer.\n",
        "\n",
        "    - [Array creation routines](https://numpy.org/devdocs/reference/routines.array-creation.html)\n",
        "\n",
        "    - [Array manipulation routines](https://numpy.org/devdocs/reference/routines.array-manipulation.html)\n",
        "\n",
        "    - [Binary operations](https://numpy.org/devdocs/reference/routines.bitwise.html)\n",
        "\n",
        "    - [String operations](https://numpy.org/devdocs/reference/routines.char.html)\n",
        "    \n",
        "\n",
        "2. Crear un ejemplo de cómo guardar y cargar arreglos de un archivo binario `.npy` y `.npz`:\n",
        "\n",
        "    - [NumPy binary files (NPY, NPZ)](https://numpy.org/devdocs/reference/routines.io.html#numpy-binary-files-npy-npz)\n",
        "    \n",
        "3. Crear un ejemplo de cómo guardar y cargar arreglos de un archivo de texto `.txt`:\n",
        "\n",
        "    - [NumPy Text files](https://numpy.org/devdocs/reference/routines.io.html#text-files)    \n",
        "    \n",
        "4. Crear una función llamada `estimate` que lea un archivo CSV con 7 columnas, que corresponden a las variables $(x_{1i}, \\ldots, x_{6i})$ y $y_i$.\n",
        "\n",
        "    - La función debe computar matricialmente los parámetros del modelo de regresión lineal: $y = X\\beta$.\n",
        "\n",
        "    - Estos parámetros deben ser devueltos como un arreglo de NumPy.\n",
        "\n",
        "    - Utilice la función de lectura de archivos de NumPy."
      ]
    },
    {
      "cell_type": "code",
      "execution_count": null,
      "metadata": {
        "id": "M2Ef6-0YpmA-"
      },
      "outputs": [],
      "source": []
    },
    {
      "cell_type": "code",
      "source": [
        "T=100000\n",
        "x=2*np.random.rand(T)-1\n",
        "y=2*np.random.rand(T)-1\n",
        "\n",
        "dentro=(x**2 + y**2 < 1**2).sum()\n",
        "prop=dentro/T\n",
        "prop\n",
        "\n",
        "pi_approx = 4* prop\n",
        "pi_approx"
      ],
      "metadata": {
        "colab": {
          "base_uri": "https://localhost:8080/"
        },
        "id": "bWGBc8J5yoxL",
        "outputId": "966e0671-0f75-48d2-e284-58e1be0c32ff"
      },
      "execution_count": 7,
      "outputs": [
        {
          "output_type": "execute_result",
          "data": {
            "text/plain": [
              "np.float64(3.14244)"
            ]
          },
          "metadata": {},
          "execution_count": 7
        }
      ]
    }
  ],
  "metadata": {
    "kernelspec": {
      "display_name": "base",
      "language": "python",
      "name": "python3"
    },
    "language_info": {
      "codemirror_mode": {
        "name": "ipython",
        "version": 3
      },
      "file_extension": ".py",
      "mimetype": "text/x-python",
      "name": "python",
      "nbconvert_exporter": "python",
      "pygments_lexer": "ipython3",
      "version": "3.13.5"
    },
    "colab": {
      "provenance": []
    }
  },
  "nbformat": 4,
  "nbformat_minor": 0
}
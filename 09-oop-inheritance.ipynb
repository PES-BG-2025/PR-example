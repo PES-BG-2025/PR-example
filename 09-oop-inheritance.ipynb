{
  "cells": [
    {
      "cell_type": "markdown",
      "metadata": {
        "id": "DuoQM82KK6QH"
      },
      "source": [
        "# Introducción a las ciencias de la computación *y programación en Python*\n",
        "\n",
        "*Banco de Guatemala*  \n",
        "*PES 2025-2026*  \n",
        "*Programación I*  \n",
        "*Septiembre de 2025*  "
      ]
    },
    {
      "cell_type": "markdown",
      "metadata": {
        "id": "mTvlm0NgK6QJ"
      },
      "source": [
        "## Abstract\n",
        "\n",
        "> \"*I'm not a great programmer*; *I'm just a good programmer with great habits.*\" **Kent Beck**\n",
        "\n",
        "- Programación orientada a objetos.  \n",
        "    - Profundizaremos en un concepto de programación orientada a objetos.  \n",
        "    - Veremos el proceso de **ocultado de información y detalles**.\n",
        "    - Veremos las **variables de clase**.  \n",
        "- Herencia de clases\n",
        "    - Conoceremos el concepto de herencia y cómo puede aplicarse."
      ]
    },
    {
      "cell_type": "markdown",
      "metadata": {
        "id": "67lBZvNwK6QJ"
      },
      "source": [
        "## Implementación vs. utilización\n",
        "\n",
        "* Hemos visto cómo escribir código desde dos perspectivas diferentes:  \n",
        "\n",
        "    - **Implementar** un nuevo tipo de objeto con una clase:\n",
        "        - **Definir** la clase.\n",
        "        \n",
        "        - Definir los **atributos** de la clase. ¿Qué es el objeto?\n",
        "        \n",
        "        - Definir los **métodos** de la clase. ¿Cómo se usa el objeto?\n",
        "        \n",
        "    - **Utilizar** el nuevo tipo de objeto en el código.\n",
        "        - Crear **instancias** del nuevo tipo.\n",
        "        \n",
        "        - Realizar **operaciones** con los objetos.\n",
        "    "
      ]
    },
    {
      "cell_type": "markdown",
      "metadata": {
        "id": "RdRAqqpBK6QJ"
      },
      "source": [
        "## Definición del clase\n",
        "\n",
        "- El nombre de la clase es el **tipo**:\n",
        "> `class Coordinate(object)`\n",
        "\n",
        "- La clase está definida genéricamente:\n",
        "    \n",
        "    - Utilizamos `self` para referirnos a una instancia al definir la clase.\n",
        "    > `(self.x–self.y)**2`\n",
        "    \n",
        "    - `self` es un **parámetro** para los métodos en la definición.\n",
        "    \n",
        "- La clase define datos y métodos comunes a través de todas las instancias."
      ]
    },
    {
      "cell_type": "markdown",
      "metadata": {
        "id": "8lNp8gHzK6QK"
      },
      "source": [
        "## Instancia de una clase\n",
        "\n",
        "- La instancia es **un objeto específico** de una clase:\n",
        "> `coord = Coordinate(1,2)`\n",
        "\n",
        "- Los atributos de datos varían entre instancias:\n",
        "    > `c1 = Coordinate(1,2)`  \n",
        "    `c2 = Coordinate(3,4)`\n",
        "    \n",
        "    - `c1` y `c2` ¡tienen diferentes coordenadas!\n",
        "    \n",
        "- La instancia **posee la estructura de la clase**."
      ]
    },
    {
      "cell_type": "markdown",
      "metadata": {
        "id": "odiH8WRmK6QK"
      },
      "source": [
        "# Por qué utilizar OOP y clases de objetos\n",
        "\n",
        "- La idea es copiar el comportamiento de la vida real.\n",
        "\n",
        "- Agrupamos diferentes objetos que son del mismo tipo.\n",
        "\n",
        "![Tipos de animales](https://github.com/PES-BG-2025/notebooks/blob/main/figs/oop/animals.png?raw=1)"
      ]
    },
    {
      "cell_type": "markdown",
      "metadata": {
        "id": "2olgGwaNK6QK"
      },
      "source": [
        "![Tipos de personas](https://github.com/PES-BG-2025/notebooks/blob/main/figs/oop/person-prototype.png?raw=1)"
      ]
    },
    {
      "cell_type": "markdown",
      "metadata": {
        "id": "0oQMbR-NK6QK"
      },
      "source": [
        "## Grupos de objetos con atributos\n",
        "\n",
        "* **Atributos de datos**\n",
        "    \n",
        "    - ¿Qué son?\n",
        "    \n",
        "    - Para un `Coordinate`: valores $x$ e $y$.\n",
        "    \n",
        "    - Para un `Animal`: *nombre* y *edad*.\n",
        "\n",
        "* **Métodos**\n",
        "    \n",
        "    - ¿Cómo puede alguien interactuar con el objeto?\n",
        "    \n",
        "    - ¿Qué hace?\n",
        "    \n",
        "    - Para un `Coordinate`: *encontrar la distancia entre dos coordenadas*.\n",
        "    \n",
        "    - Para un `Animal`: *hacer un sonido*.\n"
      ]
    },
    {
      "cell_type": "markdown",
      "metadata": {
        "id": "TmlaoeyMK6QK"
      },
      "source": [
        "## ¿Cómo definir una clase?\n",
        "\n",
        "Recordemos la sintaxis para definir una clase:"
      ]
    },
    {
      "cell_type": "code",
      "execution_count": 1,
      "metadata": {
        "id": "E_KuCNY4K6QK"
      },
      "outputs": [],
      "source": [
        "class Animal(object):\n",
        "    def __init__(self, age):\n",
        "        self.age = age\n",
        "        self.name = None\n",
        "\n",
        "myanimal = Animal(3)"
      ]
    },
    {
      "cell_type": "markdown",
      "metadata": {
        "id": "q-aVoAVZK6QL"
      },
      "source": [
        "***Señalemos cada una de las partes de este código***"
      ]
    },
    {
      "cell_type": "code",
      "execution_count": 2,
      "metadata": {
        "colab": {
          "base_uri": "https://localhost:8080/"
        },
        "id": "IUPiDpQbK6QL",
        "outputId": "9f5882a9-fcf6-4929-faac-c5a2cb5e4d3a"
      },
      "outputs": [
        {
          "output_type": "execute_result",
          "data": {
            "text/plain": [
              "<__main__.Animal at 0x7e65efa49520>"
            ]
          },
          "metadata": {},
          "execution_count": 2
        }
      ],
      "source": [
        "myanimal"
      ]
    },
    {
      "cell_type": "code",
      "execution_count": 3,
      "metadata": {
        "colab": {
          "base_uri": "https://localhost:8080/"
        },
        "id": "_WJbZS0VK6QL",
        "outputId": "fc178fa9-4901-4be9-8c41-5e8f61ffb966"
      },
      "outputs": [
        {
          "output_type": "stream",
          "name": "stdout",
          "text": [
            "3\n"
          ]
        }
      ],
      "source": [
        "print(myanimal.age)"
      ]
    },
    {
      "cell_type": "code",
      "execution_count": 4,
      "metadata": {
        "colab": {
          "base_uri": "https://localhost:8080/"
        },
        "id": "eb8IM603K6QL",
        "outputId": "2bfd1cd1-30a5-42d5-86f4-c4cb259cc454"
      },
      "outputs": [
        {
          "output_type": "stream",
          "name": "stdout",
          "text": [
            "None\n"
          ]
        }
      ],
      "source": [
        "print(myanimal.name)"
      ]
    },
    {
      "cell_type": "markdown",
      "metadata": {
        "id": "SNjTQi9SK6QL"
      },
      "source": [
        "## Métodos *getter* y *setter*\n",
        "\n",
        "Es una *buena práctica* utilizar métodos para **modificar** y **obtener** los atributos de datos de una clase.\n",
        "\n",
        "* Estos métodos deben utilizarse **fuera** de la clase para acceder a los atributos."
      ]
    },
    {
      "cell_type": "code",
      "execution_count": 27,
      "metadata": {
        "id": "4uys0gA5K6QL"
      },
      "outputs": [],
      "source": [
        "class Animal(object):\n",
        "    def __init__(self, age):\n",
        "        self.age = age\n",
        "        self.name = None\n",
        "    # Getters\n",
        "    def get_age(self):\n",
        "        return self.age\n",
        "    def get_name(self):\n",
        "        return self.name\n",
        "\n",
        "    # Setters\n",
        "    def set_age(self, newage):\n",
        "        self.age = newage\n",
        "    def set_name(self, newname=\"\"):\n",
        "        self.name = newname\n",
        "\n",
        "    def __str__(self):\n",
        "        return \"animal:\"+str(self.name)+\":\"+str(self.age)"
      ]
    },
    {
      "cell_type": "code",
      "execution_count": 28,
      "metadata": {
        "colab": {
          "base_uri": "https://localhost:8080/"
        },
        "id": "4es7LagRK6QM",
        "outputId": "cebb4bf9-c2a8-4cad-f3fc-ccc82bb37132"
      },
      "outputs": [
        {
          "output_type": "stream",
          "name": "stdout",
          "text": [
            "animal:None:4\n"
          ]
        }
      ],
      "source": [
        "a = Animal(4)\n",
        "print(a)"
      ]
    },
    {
      "cell_type": "code",
      "execution_count": 30,
      "metadata": {
        "colab": {
          "base_uri": "https://localhost:8080/"
        },
        "id": "0CmKhCRzK6QM",
        "outputId": "f314bbf5-2fb9-4fe1-b41a-efb9ddccb283"
      },
      "outputs": [
        {
          "output_type": "stream",
          "name": "stdout",
          "text": [
            "4\n"
          ]
        }
      ],
      "source": [
        "print(a.get_age())"
      ]
    },
    {
      "cell_type": "code",
      "source": [
        "\n",
        "s = a.get_name()\n",
        "print(s)"
      ],
      "metadata": {
        "colab": {
          "base_uri": "https://localhost:8080/"
        },
        "id": "rjik1LSMLoyw",
        "outputId": "d092cac7-e848-4cd5-b8d4-9be4e7e5c076"
      },
      "execution_count": 31,
      "outputs": [
        {
          "output_type": "stream",
          "name": "stdout",
          "text": [
            "None\n"
          ]
        }
      ]
    },
    {
      "cell_type": "code",
      "execution_count": 32,
      "metadata": {
        "colab": {
          "base_uri": "https://localhost:8080/"
        },
        "id": "Yjpt3wyIK6QM",
        "outputId": "8df5c504-8ce9-4b6d-d25c-8abb1650bd27"
      },
      "outputs": [
        {
          "output_type": "stream",
          "name": "stdout",
          "text": [
            "animal:fluffy:4\n"
          ]
        }
      ],
      "source": [
        "# Cambiamos el nombre\n",
        "a.set_name(\"fluffy\")\n",
        "print(a)"
      ]
    },
    {
      "cell_type": "code",
      "source": [
        "#ejemplos de como manejar los datos de una clase en alto nivel\n",
        "#minegame = minesweeper(size=(10,10))\n",
        "#minegame.opencell(2,2)\n",
        "#minegame.setflag(2,2)\n",
        "#minegame.opencell(2,2)\n",
        "#minegame.islost()\n",
        "#minegame.isover()\n",
        "\n",
        "#acceder directamente no esta tan bien\n",
        "minegame.board[2][3]\n",
        "\n",
        "#metodos para obtener a alto nivel\n",
        "minegame.get_board()\n",
        "minegame.get_size()"
      ],
      "metadata": {
        "id": "uZVOOgtUNSym"
      },
      "execution_count": null,
      "outputs": []
    },
    {
      "cell_type": "markdown",
      "metadata": {
        "id": "VPv7YHWZK6QM"
      },
      "source": [
        "## Notación `.`\n",
        "\n",
        "- La instanciación crea una **instancia** de un objeto:"
      ]
    },
    {
      "cell_type": "code",
      "execution_count": 33,
      "metadata": {
        "id": "Fph_2osXK6QM"
      },
      "outputs": [],
      "source": [
        "a = Animal(3)"
      ]
    },
    {
      "cell_type": "markdown",
      "metadata": {
        "id": "FJmBk9MYK6QM"
      },
      "source": [
        "- La notación `.` permite acceder a los atributos (datos y métodos), aunque es **mejor práctica** utilizar métodos para obtener y ajustar estos parámetros."
      ]
    },
    {
      "cell_type": "code",
      "execution_count": 34,
      "metadata": {
        "colab": {
          "base_uri": "https://localhost:8080/"
        },
        "id": "HBba30QrK6QM",
        "outputId": "d3a6e49f-9cd3-4d42-fc83-2f4d04c6e5ea"
      },
      "outputs": [
        {
          "output_type": "execute_result",
          "data": {
            "text/plain": [
              "3"
            ]
          },
          "metadata": {},
          "execution_count": 34
        }
      ],
      "source": [
        "a.age"
      ]
    },
    {
      "cell_type": "code",
      "execution_count": 35,
      "metadata": {
        "colab": {
          "base_uri": "https://localhost:8080/"
        },
        "id": "BPZ2baeZK6QM",
        "outputId": "3321def0-38f8-42d1-ddc5-6122f794141e"
      },
      "outputs": [
        {
          "output_type": "execute_result",
          "data": {
            "text/plain": [
              "3"
            ]
          },
          "metadata": {},
          "execution_count": 35
        }
      ],
      "source": [
        "a.get_age()"
      ]
    },
    {
      "cell_type": "markdown",
      "metadata": {
        "id": "O4Pm7LURK6QM"
      },
      "source": [
        "# Ocultando los detalles: ¿por qué es mejor práctica?\n",
        "\n",
        "- El autor de la definición de la clase **podría querer cambiar el nombre de los atributos**"
      ]
    },
    {
      "cell_type": "code",
      "execution_count": 57,
      "metadata": {
        "id": "WrRXOEgXK6QM"
      },
      "outputs": [],
      "source": [
        "class Animal(object):\n",
        "    def __init__(self, age):\n",
        "        self.years = age\n",
        "    def get_age(self):\n",
        "        return self.years"
      ]
    },
    {
      "cell_type": "markdown",
      "metadata": {
        "id": "-kd6yj_BK6QM"
      },
      "source": [
        "**Note la utilización de `self.years` en lugar de `self.age`**\n",
        "\n",
        "- Si se ha cambiado la definición de la clase, al acceder **fuera de la clase** a los atributos, se **podrían obtener errores**.\n",
        "\n",
        "- Es mejor utilizar métodos ***setters*** y ***getters*** como `a.get_age()` y **no** `a.age`\n",
        "    - Mejor estilo.\n",
        "    - Es más fácil mantener el código.\n",
        "    - Previene *bugs*."
      ]
    },
    {
      "cell_type": "markdown",
      "metadata": {
        "id": "9kbSQRoDK6QM"
      },
      "source": [
        "## Ocultando los detalles: Python no es bueno en esto\n",
        "\n",
        "- Python permite **acceder a los datos** fuera de la clase:"
      ]
    },
    {
      "cell_type": "code",
      "source": [
        "a = Animal(4)"
      ],
      "metadata": {
        "id": "8UOfJUhCOaHs"
      },
      "execution_count": 39,
      "outputs": []
    },
    {
      "cell_type": "code",
      "execution_count": 40,
      "metadata": {
        "colab": {
          "base_uri": "https://localhost:8080/"
        },
        "id": "28rbAdzqK6QM",
        "outputId": "2072972d-97ab-4168-eb96-33e8cdab3095"
      },
      "outputs": [
        {
          "output_type": "stream",
          "name": "stdout",
          "text": [
            "4\n"
          ]
        }
      ],
      "source": [
        "print(a.age)"
      ]
    },
    {
      "cell_type": "markdown",
      "metadata": {
        "id": "ytgNV0yAK6QM"
      },
      "source": [
        "- Permite **escribir los atributos** fuera de la clase directamente:"
      ]
    },
    {
      "cell_type": "code",
      "execution_count": null,
      "metadata": {
        "id": "QwA5G2t9K6QM"
      },
      "outputs": [],
      "source": [
        "a.age = 'infinito'"
      ]
    },
    {
      "cell_type": "markdown",
      "metadata": {
        "id": "WbJnceOJK6QN"
      },
      "source": [
        "- Permite **crear atributos de datos** de una instancia, fuera de la definición de la clase."
      ]
    },
    {
      "cell_type": "code",
      "execution_count": null,
      "metadata": {
        "id": "hn5PWssDK6QN"
      },
      "outputs": [],
      "source": [
        "a.size = \"tiny\""
      ]
    },
    {
      "cell_type": "markdown",
      "metadata": {
        "id": "kWQx39NOK6QN"
      },
      "source": [
        "- Sin embargo, ¡**no es buena práctica** hacer cualquiera de estas!"
      ]
    },
    {
      "cell_type": "markdown",
      "metadata": {
        "id": "slueO5QDK6QN"
      },
      "source": [
        "## Argumentos por defecto\n",
        "\n",
        "- Permiten proveer un **valor por defecto** a los parámetros formales si no se pasa ningún parámetro."
      ]
    },
    {
      "cell_type": "code",
      "execution_count": 58,
      "metadata": {
        "id": "ikFQ6eqmK6QN"
      },
      "outputs": [],
      "source": [
        "class Animal(object):\n",
        "    def __init__(self, age, name=\"Laura\"):\n",
        "        self.age = age\n",
        "        self.name = None\n",
        "    # Getters\n",
        "    def get_age(self):\n",
        "        return self.age\n",
        "    def get_name(self):\n",
        "        return self.name\n",
        "\n",
        "    # Setters\n",
        "    def set_age(self, newage):\n",
        "        self.age = newage\n",
        "    def set_name(self, newname=\"\"):\n",
        "        self.name = newname\n",
        "\n",
        "    def __str__(self):\n",
        "        return \"animal:\"+str(self.name)+\":\"+str(self.age)"
      ]
    },
    {
      "cell_type": "code",
      "execution_count": 59,
      "metadata": {
        "id": "Ev3YYaCmK6QN"
      },
      "outputs": [],
      "source": [
        "def set_name(self, newname=\"j\"):\n",
        "    self.name = newname"
      ]
    },
    {
      "cell_type": "markdown",
      "metadata": {
        "id": "Ptb1t_SqK6QN"
      },
      "source": [
        "- Al utilizar el argumento por defecto, podríamos no pasar ningún parámetro."
      ]
    },
    {
      "cell_type": "code",
      "execution_count": 60,
      "metadata": {
        "colab": {
          "base_uri": "https://localhost:8080/"
        },
        "id": "0O-qnNLGK6QN",
        "outputId": "2e257187-fdf7-48f7-c89c-9a581bf8edb5"
      },
      "outputs": [
        {
          "output_type": "stream",
          "name": "stdout",
          "text": [
            "\n"
          ]
        }
      ],
      "source": [
        "a = Animal(3)\n",
        "a.set_name()\n",
        "print(a.get_name())\n",
        "# Imprime \"\""
      ]
    },
    {
      "cell_type": "markdown",
      "metadata": {
        "id": "qq18VMrMK6QW"
      },
      "source": [
        "- Acá un ejemplo con argumento:"
      ]
    },
    {
      "cell_type": "code",
      "execution_count": 61,
      "metadata": {
        "colab": {
          "base_uri": "https://localhost:8080/"
        },
        "id": "fV5yIBZaK6QW",
        "outputId": "3bc024d6-3992-4838-c69c-02d383ce0e23"
      },
      "outputs": [
        {
          "output_type": "stream",
          "name": "stdout",
          "text": [
            "fluffy\n"
          ]
        }
      ],
      "source": [
        "a = Animal(3)\n",
        "a.set_name(\"fluffy\")\n",
        "print(a.get_name())"
      ]
    },
    {
      "cell_type": "markdown",
      "metadata": {
        "id": "h9T5D1YEK6QW"
      },
      "source": [
        "- Acá un ejemplo con el parámetro por defecto"
      ]
    },
    {
      "cell_type": "code",
      "execution_count": null,
      "metadata": {
        "id": "HvPGBuJ3K6QW",
        "outputId": "4ed8a8cb-89d9-4551-fccd-01c582b5b6f7"
      },
      "outputs": [
        {
          "name": "stdout",
          "output_type": "stream",
          "text": [
            "\n"
          ]
        }
      ],
      "source": [
        "a.set_name()\n",
        "print(a.get_name())"
      ]
    },
    {
      "cell_type": "markdown",
      "metadata": {
        "id": "hePO0Xg1K6QW"
      },
      "source": [
        "# Jerarquías\n",
        "\n",
        "![Jerarquías de la clase `Animal`](https://github.com/PES-BG-2025/notebooks/blob/main/figs/oop/jerarquias.png?raw=1)"
      ]
    },
    {
      "cell_type": "markdown",
      "metadata": {
        "id": "Bvz13VDLK6QW"
      },
      "source": [
        "![Tipos de vehículos](https://github.com/PES-BG-2025/notebooks/blob/main/figs/oop/vehicle-class.jpeg?raw=1)"
      ]
    },
    {
      "cell_type": "markdown",
      "metadata": {
        "id": "TCdpMFPpK6QW"
      },
      "source": [
        "## Jerarquías\n",
        "\n",
        "Las jerarquías definen:  \n",
        "\n",
        "- Una **clase padre**: *superclase*.\n",
        "\n",
        "- Una **clase hija**: *subclase*.\n",
        "    \n",
        "    - **Hereda** todos los atributos y métodos de la clase padre.\n",
        "    \n",
        "    - Es posible **añadir** más atributos.\n",
        "    \n",
        "    - También **más comportamiento**.\n",
        "    \n",
        "    - Es posible **modificar** el comportamiento (*override of methods*).\n",
        "    \n",
        "![Jerarquías de animales](https://github.com/PES-BG-2025/notebooks/blob/main/jerarquias-animales.png?raw=1)"
      ]
    },
    {
      "cell_type": "markdown",
      "metadata": {
        "id": "z97giMMSK6QW"
      },
      "source": [
        "## Herencia: la clase padre\n",
        "\n",
        "- Todo es un objeto.\n",
        "\n",
        "- Hereda de la clase `object`.\n",
        "    \n",
        "    - Permite implementar operaciones básicas de Python."
      ]
    },
    {
      "cell_type": "code",
      "execution_count": 62,
      "metadata": {
        "id": "Dz8vD5a6K6QW"
      },
      "outputs": [],
      "source": [
        "# Clase Animal completa\n",
        "class Animal(object):\n",
        "    def __init__(self, age):\n",
        "        self.age = age\n",
        "        self.name = None\n",
        "    def get_age(self):\n",
        "        return self.age\n",
        "    def get_name(self):\n",
        "        return self.name\n",
        "    def set_age(self, newage):\n",
        "        self.age = newage\n",
        "    def set_name(self, newname=\"\"):\n",
        "        self.name = newname\n",
        "    def __str__(self):\n",
        "        return \"animal:\"+str(self.name)+\":\"+str(self.age)"
      ]
    },
    {
      "cell_type": "markdown",
      "metadata": {
        "id": "rWqboBteK6QX"
      },
      "source": [
        "## Herencia: la clase hija\n",
        "\n",
        "- Agrega funcionalidad con el método `speak()`.\n",
        "    \n",
        "    - Instancia de tipo `Cat` puede ser llamada con nuevos métodos.\n",
        "    \n",
        "    - Instancia de tipo `Animal` **arroja un error** si se llama con el núevo método de `Cat`.\n",
        "    \n",
        "- El método `__init__` no falta, **utiliza** la versión de la clase `Animal`."
      ]
    },
    {
      "cell_type": "code",
      "execution_count": 63,
      "metadata": {
        "id": "N4LHOJyxK6QX"
      },
      "outputs": [],
      "source": [
        "class Cat(Animal):\n",
        "    def speak(self):\n",
        "        print(\"meow\")\n",
        "    def __str__(self):\n",
        "        return \"cat:\"+str(self.name)+\":\"+str(self.age)"
      ]
    },
    {
      "cell_type": "markdown",
      "metadata": {
        "id": "UN-V_5_bK6QX"
      },
      "source": [
        "***Note cómo se modifica el método `__str__`***."
      ]
    },
    {
      "cell_type": "code",
      "execution_count": 67,
      "metadata": {
        "colab": {
          "base_uri": "https://localhost:8080/"
        },
        "id": "k6_iN7SlK6QX",
        "outputId": "220d995e-6a73-4262-de6d-16f4cf3062e0"
      },
      "outputs": [
        {
          "output_type": "stream",
          "name": "stdout",
          "text": [
            "cat:fluffy:5\n"
          ]
        }
      ],
      "source": [
        "c = Cat(5)\n",
        "c.set_name(\"fluffy\")\n",
        "print(c)"
      ]
    },
    {
      "cell_type": "code",
      "execution_count": 68,
      "metadata": {
        "colab": {
          "base_uri": "https://localhost:8080/"
        },
        "id": "xyepZN9eK6QX",
        "outputId": "245171dc-9109-41c5-f248-ae743a959baa"
      },
      "outputs": [
        {
          "output_type": "stream",
          "name": "stdout",
          "text": [
            "meow\n"
          ]
        }
      ],
      "source": [
        "c.speak()"
      ]
    },
    {
      "cell_type": "code",
      "source": [
        "print(a)"
      ],
      "metadata": {
        "colab": {
          "base_uri": "https://localhost:8080/"
        },
        "id": "rr2CeGsqRgoh",
        "outputId": "b5c25a5e-87b5-485d-99f1-1ec81b05cf8f"
      },
      "execution_count": 76,
      "outputs": [
        {
          "output_type": "stream",
          "name": "stdout",
          "text": [
            "animal:fluffy:3\n"
          ]
        }
      ]
    },
    {
      "cell_type": "code",
      "execution_count": null,
      "metadata": {
        "id": "z15o4CvtK6QX",
        "outputId": "12708844-fd71-49a4-e699-81260badf7e3"
      },
      "outputs": [
        {
          "name": "stdout",
          "output_type": "stream",
          "text": [
            "5\n"
          ]
        }
      ],
      "source": [
        "print(c.get_age())"
      ]
    },
    {
      "cell_type": "markdown",
      "metadata": {
        "id": "OPM224V0K6QX"
      },
      "source": [
        "## ¿Qué método utilizar?\n",
        "\n",
        "- La subclase puede tener **métodos con el mismo nombre** que la superclase.\n",
        "\n",
        "- Una instancia busca el método en la definición de su **clase actual**.\n",
        "\n",
        "- Si no encuentra el método, busca **hacia arriba en la jerarquía**.\n",
        "    - En la clase padre, clase \"abuelo\", etc.\n",
        "\n",
        "- Utiliza el **primer método** en la jerarquía que contenga el nombre invocado."
      ]
    },
    {
      "cell_type": "code",
      "execution_count": 71,
      "metadata": {
        "id": "BQuDU32FK6QX"
      },
      "outputs": [],
      "source": [
        "class Person(Animal):\n",
        "    #ahora tiene dos argumentos el costructur de \"Person\"\n",
        "    def __init__(self, name, age):\n",
        "        Animal.__init__(self, age)\n",
        "        self.set_name(name)\n",
        "        self.friends = [] #Se crea un lista de amigos\n",
        "    #metodo friends que devuelve la lista de amigo\n",
        "    def get_friends(self):\n",
        "        return self.friends\n",
        "    #creamos metodo speak\n",
        "    def speak(self):\n",
        "        print(\"hello\")\n",
        "    #metodo para agregar amigos\n",
        "    def add_friend(self, fname):\n",
        "        if fname not in self.friends:\n",
        "            self.friends.append(fname)\n",
        "    #metodo para comparar diferencia de edad\n",
        "    def age_diff(self, other):\n",
        "        diff = self.age - other.age\n",
        "        print(abs(diff), \"year difference\")\n",
        "    #redefiniumos el metodo __srt__\n",
        "    def __str__(self):\n",
        "        return \"person:\"+str(self.name)+\":\"+str(self.age) #del padre: \"return \"animal:\"+str(self.name)+\":\"+str(self.age)\""
      ]
    },
    {
      "cell_type": "markdown",
      "metadata": {
        "id": "tAFUqYDHK6QX"
      },
      "source": [
        "- ***¿Cuál es la diferencia en el método constructor?***\n",
        "\n",
        "- ***¿Cuáles son los nuevos métodos de esta clase?***\n",
        "\n",
        "- ***¿Se sobreescribe (modifica) algún método?***"
      ]
    },
    {
      "cell_type": "code",
      "execution_count": 78,
      "metadata": {
        "colab": {
          "base_uri": "https://localhost:8080/"
        },
        "id": "G_inlBjJK6QX",
        "outputId": "e304d99a-599b-466d-f031-3778087c403e"
      },
      "outputs": [
        {
          "output_type": "stream",
          "name": "stdout",
          "text": [
            "5 year difference\n",
            "None\n"
          ]
        }
      ],
      "source": [
        "# Pruebas de Person\n",
        "p1 = Person(\"jack\", 30)\n",
        "p2 = Person(\"jill\", 25)\n",
        "\n",
        "#print(p1.get_name(), p1.get_age())\n",
        "#print(p2.get_name(), p2.get_age())\n",
        "#print(p1.age_diff(p2))"
      ]
    },
    {
      "cell_type": "code",
      "execution_count": 79,
      "metadata": {
        "colab": {
          "base_uri": "https://localhost:8080/"
        },
        "id": "oOxlq5EhK6QX",
        "outputId": "0c6cfc32-266f-4063-e150-e18ccb3ec3b4"
      },
      "outputs": [
        {
          "output_type": "stream",
          "name": "stdout",
          "text": [
            "person:jack:30\n"
          ]
        }
      ],
      "source": [
        "print(p1)"
      ]
    },
    {
      "cell_type": "code",
      "execution_count": 80,
      "metadata": {
        "colab": {
          "base_uri": "https://localhost:8080/"
        },
        "id": "LQ_L4s98K6QX",
        "outputId": "64c9a721-07f2-4c25-dfc3-09e2e8606584"
      },
      "outputs": [
        {
          "output_type": "stream",
          "name": "stdout",
          "text": [
            "hello\n"
          ]
        }
      ],
      "source": [
        "p1.speak()"
      ]
    },
    {
      "cell_type": "code",
      "execution_count": 81,
      "metadata": {
        "colab": {
          "base_uri": "https://localhost:8080/"
        },
        "id": "hteRHVHQK6QX",
        "outputId": "490c30d8-dce1-492b-b0be-c46cb121e125"
      },
      "outputs": [
        {
          "output_type": "stream",
          "name": "stdout",
          "text": [
            "5 year difference\n"
          ]
        }
      ],
      "source": [
        "p1.age_diff(p2)"
      ]
    },
    {
      "cell_type": "markdown",
      "metadata": {
        "id": "jiyldDeQK6QY"
      },
      "source": [
        "## Ejemplo: clase nieto"
      ]
    },
    {
      "cell_type": "code",
      "execution_count": 82,
      "metadata": {
        "id": "YA3a2BLCK6QY"
      },
      "outputs": [],
      "source": [
        "import random\n",
        "\n",
        "class Student(Person):\n",
        "    def __init__(self, name, age, major=None):\n",
        "        Person.__init__(self, name, age)\n",
        "        self.major = major\n",
        "    def __str__(self):\n",
        "        return \"student:\"+str(self.name)+\":\"+str(self.age)+\":\"+str(self.major)\n",
        "    def change_major(self, major):\n",
        "        self.major = major\n",
        "    def speak(self):\n",
        "        r = random.random()\n",
        "        if r < 0.25:\n",
        "            print(\"i have homework\")\n",
        "        elif 0.25 <= r < 0.5:\n",
        "            print(\"i need sleep\")\n",
        "        elif 0.5 <= r < 0.75:\n",
        "            print(\"i should eat\")\n",
        "        else:\n",
        "            print(\"i am watching tv\")"
      ]
    },
    {
      "cell_type": "markdown",
      "metadata": {
        "id": "5HClxvG0K6QY"
      },
      "source": [
        "- ***¿De qué clase hereda ahora `Student`?***\n",
        "\n",
        "- ***¿Por qué se realiza `import random`?***\n",
        "\n",
        "- ***¿Se agrega algún atributo?***\n",
        "\n",
        "- ***¿Se sobreescribe (modifica) algún método?***"
      ]
    },
    {
      "cell_type": "code",
      "execution_count": 84,
      "metadata": {
        "colab": {
          "base_uri": "https://localhost:8080/"
        },
        "id": "oLWToJinK6QY",
        "outputId": "818087f1-0fb9-454c-fa4e-e46c50e9fd37"
      },
      "outputs": [
        {
          "output_type": "stream",
          "name": "stdout",
          "text": [
            "student:alice:20:CS\n",
            "student:beth:18:None\n"
          ]
        }
      ],
      "source": [
        "# Pruebas de Student\n",
        "s1 = Student('alice', age=20, major=\"CS\")\n",
        "s2 = Student('beth', age=18)\n",
        "\n",
        "print(s1)\n",
        "print(s2)"
      ]
    },
    {
      "cell_type": "code",
      "execution_count": 85,
      "metadata": {
        "colab": {
          "base_uri": "https://localhost:8080/"
        },
        "id": "AwgQJtqrK6QY",
        "outputId": "4324eb21-5a18-4c4b-ae5f-a0b9057b7798"
      },
      "outputs": [
        {
          "output_type": "stream",
          "name": "stdout",
          "text": [
            "alice says: i should eat\n"
          ]
        }
      ],
      "source": [
        "print(s1.get_name(),\"says:\", end=\" \")\n",
        "s1.speak()"
      ]
    },
    {
      "cell_type": "code",
      "execution_count": null,
      "metadata": {
        "id": "2mwmS6psK6QY",
        "outputId": "47b03e21-9809-4325-8871-b796089aac39"
      },
      "outputs": [
        {
          "name": "stdout",
          "output_type": "stream",
          "text": [
            "beth says: i am watching tv\n"
          ]
        }
      ],
      "source": [
        "print(s2.get_name(),\"says:\", end=\" \")\n",
        "s2.speak()"
      ]
    },
    {
      "cell_type": "code",
      "source": [],
      "metadata": {
        "id": "oaI8toAlVLuQ"
      },
      "execution_count": null,
      "outputs": []
    },
    {
      "cell_type": "markdown",
      "metadata": {
        "id": "CmbLkXepK6QY"
      },
      "source": [
        "# Variables de clase\n",
        "\n",
        "- Sus valores se **comparten** entre todas las instancias de una clase."
      ]
    },
    {
      "cell_type": "code",
      "execution_count": 86,
      "metadata": {
        "id": "kbZWIhs7K6QY"
      },
      "outputs": [],
      "source": [
        "class Rabbit(Animal):\n",
        "    # a class variable, tag, shared across all instances\n",
        "    #variable de clase, atributo compartidos para todas las intancias\n",
        "    tag = 1\n",
        "    def __init__(self, age, parent1=None, parent2=None):\n",
        "        Animal.__init__(self, age)\n",
        "        #variable de instancia, atributos particulares\n",
        "        self.parent1 = parent1\n",
        "        self.parent2 = parent2\n",
        "        self.rid = Rabbit.tag\n",
        "        Rabbit.tag += 1"
      ]
    },
    {
      "cell_type": "markdown",
      "metadata": {
        "id": "kZ4kGAC0K6QY"
      },
      "source": [
        "- Utilizamos `tag` para dar un **identificador único** a cada instancia de `Rabbit`.\n",
        "- ¿Cuál es la diferencia entre una **variable de instancia** y una **variable de clase**?\n",
        "    - Al incrementar la variable de clase, cambia para **todas las instancias** de la clase."
      ]
    },
    {
      "cell_type": "code",
      "execution_count": null,
      "metadata": {
        "id": "fFQXA7YtK6QY",
        "outputId": "d645514d-e5c4-4692-da7f-424f6e1a7058"
      },
      "outputs": [
        {
          "name": "stdout",
          "output_type": "stream",
          "text": [
            "r1: animal:None:3\n",
            "r2: animal:None:4\n"
          ]
        }
      ],
      "source": [
        "# Prueba de conejos\n",
        "r1 = Rabbit(3)\n",
        "r2 = Rabbit(4)\n",
        "\n",
        "print(\"r1:\", r1)\n",
        "print(\"r2:\", r2)"
      ]
    },
    {
      "cell_type": "code",
      "execution_count": null,
      "metadata": {
        "id": "IUqHoBF0K6QY",
        "outputId": "d844658e-9e41-4fc5-df26-b5b8d467917d"
      },
      "outputs": [
        {
          "data": {
            "text/plain": [
              "3"
            ]
          },
          "execution_count": 73,
          "metadata": {},
          "output_type": "execute_result"
        }
      ],
      "source": [
        "#tag se queda en el valor\n",
        "r1.tag"
      ]
    },
    {
      "cell_type": "code",
      "execution_count": null,
      "metadata": {
        "id": "3ScZRq2MK6QY",
        "outputId": "080cb83a-cea9-4d42-c8c9-0fa38e05d27a"
      },
      "outputs": [
        {
          "data": {
            "text/plain": [
              "3"
            ]
          },
          "execution_count": 75,
          "metadata": {},
          "output_type": "execute_result"
        }
      ],
      "source": [
        "# de forma global\n",
        "r2.tag"
      ]
    },
    {
      "cell_type": "markdown",
      "metadata": {
        "id": "-Kqo1hz5K6QY"
      },
      "source": [
        "## Métodos *getter* para `Rabbit`\n",
        "- `get_rid()`: devuelve el ID del conejo.\n",
        "- `get_parent1()` y `get_parent2()` devuelven a los padres del conejo."
      ]
    },
    {
      "cell_type": "code",
      "execution_count": 88,
      "metadata": {
        "id": "RgBETbAlK6QZ"
      },
      "outputs": [],
      "source": [
        "class Rabbit(Animal):\n",
        "    # a class variable, tag, shared across all instances\n",
        "    tag = 1\n",
        "    def __init__(self, age, parent1=None, parent2=None):\n",
        "        Animal.__init__(self, age)\n",
        "        self.parent1 = parent1\n",
        "        self.parent2 = parent2\n",
        "        self.rid = Rabbit.tag\n",
        "        Rabbit.tag += 1\n",
        "    #obtenemos codigo de conejos\n",
        "    def get_rid(self):\n",
        "        # zfill used to add leading zeroes 001 instead of 1\n",
        "        return str(self.rid).zfill(3)\n",
        "    def get_parent1(self):\n",
        "        return self.parent1\n",
        "    def get_parent2(self):\n",
        "        return self.parent2"
      ]
    },
    {
      "cell_type": "markdown",
      "metadata": {
        "id": "dpKzsEWVK6QZ"
      },
      "source": [
        "- Recordemos que `get_name()` y `get_age()` fueron heredados de la clase `Animal`."
      ]
    },
    {
      "cell_type": "markdown",
      "metadata": {
        "id": "WIDxi9wwK6QZ"
      },
      "source": [
        "## Creando un operador para `Rabbit`\n",
        "- Definimos el operador `+` entre dos instancias de `Rabbit`.\n",
        "    \n",
        "    - Si `r1` y `r2` son instancias de `Rabbit`: `r4 = r1 + r2` definen un conejo con padres `r1` y `r2`.\n",
        "    \n",
        "    - Se define al conejo `r4` con edad inicial cero.\n",
        "    \n",
        "    - Un padre es `self` y el otro es `other`.\n",
        "    \n",
        "    - Recordemos que en `__init__`, `parent1` y `parent2` son de tipo `Rabbit`."
      ]
    },
    {
      "cell_type": "code",
      "execution_count": 89,
      "metadata": {
        "id": "vzT_UuvKK6QZ"
      },
      "outputs": [],
      "source": [
        "def __add__(self, other):\n",
        "    # returning object of same type as this class\n",
        "    return Rabbit(0, self, other)"
      ]
    },
    {
      "cell_type": "code",
      "execution_count": 90,
      "metadata": {
        "id": "gd569qD9K6QZ"
      },
      "outputs": [],
      "source": [
        "# Esta es parcial, para probar la clase Rabbit con el método __add__\n",
        "class Rabbit(Animal):\n",
        "    # a class variable, tag, shared across all instances\n",
        "    tag = 1\n",
        "    def __init__(self, age, parent1=None, parent2=None):\n",
        "        Animal.__init__(self, age)\n",
        "        self.parent1 = parent1\n",
        "        self.parent2 = parent2\n",
        "        self.rid = Rabbit.tag\n",
        "        Rabbit.tag += 1\n",
        "    def get_rid(self):\n",
        "        # zfill used to add leading zeroes 001 instead of 1\n",
        "        return str(self.rid).zfill(3)\n",
        "    def get_parent1(self):\n",
        "        return self.parent1\n",
        "    def get_parent2(self):\n",
        "        return self.parent2\n",
        "    def __add__(self, other):\n",
        "        # returning object of same type as this class\n",
        "        return Rabbit(0, self, other)"
      ]
    },
    {
      "cell_type": "code",
      "execution_count": null,
      "metadata": {
        "id": "tT2wL81uK6QZ"
      },
      "outputs": [],
      "source": [
        "# Prueba de conejos\n",
        "r1 = Rabbit(3)\n",
        "r2 = Rabbit(4)"
      ]
    },
    {
      "cell_type": "code",
      "execution_count": null,
      "metadata": {
        "id": "1bXNw7MSK6QZ"
      },
      "outputs": [],
      "source": [
        "r4 = r1 + r2"
      ]
    },
    {
      "cell_type": "code",
      "execution_count": null,
      "metadata": {
        "id": "jPaWMXZ2K6QZ",
        "outputId": "f57d3dbe-3e4f-4edf-fc24-aa158874f74d"
      },
      "outputs": [
        {
          "data": {
            "text/plain": [
              "<__main__.Rabbit at 0x26808d3d4c8>"
            ]
          },
          "execution_count": 85,
          "metadata": {},
          "output_type": "execute_result"
        }
      ],
      "source": [
        "r4.get_parent1()"
      ]
    },
    {
      "cell_type": "code",
      "execution_count": null,
      "metadata": {
        "id": "QSYLsOHbK6QZ",
        "outputId": "b9556754-9009-45da-fc26-614a537ec20d"
      },
      "outputs": [
        {
          "data": {
            "text/plain": [
              "<__main__.Rabbit at 0x26808d3d488>"
            ]
          },
          "execution_count": 86,
          "metadata": {},
          "output_type": "execute_result"
        }
      ],
      "source": [
        "r4.get_parent2()"
      ]
    },
    {
      "cell_type": "markdown",
      "metadata": {
        "id": "kwsZfYPeK6QZ"
      },
      "source": [
        "## Método para comparar dos `Rabbit`\n",
        "\n",
        "- Vamos a decidir que dos conejos son iguales si **tienen a los mismos padres**."
      ]
    },
    {
      "cell_type": "code",
      "execution_count": 92,
      "metadata": {
        "id": "P89fAfyyK6QZ"
      },
      "outputs": [],
      "source": [
        "def __eq__(self, other):\n",
        "    # compare the ids of self and other's parents\n",
        "    # don't care about the order of the parents\n",
        "    # the backslash tells python I want to break up my line\n",
        "    parents_same = self.parent1.rid == other.parent1.rid \\\n",
        "                   and self.parent2.rid == other.parent2.rid\n",
        "\n",
        "    parents_opposite = self.parent2.rid == other.parent1.rid \\\n",
        "                       and self.parent1.rid == other.parent2.rid\n",
        "\n",
        "    return parents_same or parents_opposite"
      ]
    },
    {
      "cell_type": "markdown",
      "metadata": {
        "id": "w-2rfSMtK6QZ"
      },
      "source": [
        "- Comparamos los IDs de los padres, ya que estos son únicos debido a **las variables de clase**.\n",
        "\n",
        "- Notar que no es posible comparar a los objetos padres directamente.\n",
        "    - Por ejemplo: `self.parent1 == other.parent1`\n",
        "    - Esto llamaría a `__eq__` hacia los padres de los conejos, hasta eventualmente obtener `None`, lo cual provocaría `AtributeError` al intentar hacer `None.parent1`."
      ]
    },
    {
      "cell_type": "code",
      "execution_count": 93,
      "metadata": {
        "id": "1y1ydojWK6QZ"
      },
      "outputs": [],
      "source": [
        "# Clase completa de Rabbit y ejemplos\n",
        "class Rabbit(Animal):\n",
        "    # a class variable, tag, shared across all instances\n",
        "    tag = 1\n",
        "    def __init__(self, age, parent1=None, parent2=None):\n",
        "        Animal.__init__(self, age)\n",
        "        self.parent1 = parent1\n",
        "        self.parent2 = parent2\n",
        "        self.rid = Rabbit.tag\n",
        "        Rabbit.tag += 1\n",
        "    def get_rid(self):\n",
        "        # zfill used to add leading zeroes 001 instead of 1\n",
        "        return str(self.rid).zfill(3)\n",
        "    def get_parent1(self):\n",
        "        return self.parent1\n",
        "    def get_parent2(self):\n",
        "        return self.parent2\n",
        "    def __add__(self, other):\n",
        "        # returning object of same type as this class\n",
        "        return Rabbit(0, self, other)\n",
        "    def __eq__(self, other):\n",
        "        # compare the ids of self and other's parents\n",
        "        # don't care about the order of the parents\n",
        "        # the backslash tells python I want to break up my line\n",
        "        parents_same = self.parent1.rid == other.parent1.rid \\\n",
        "                       and self.parent2.rid == other.parent2.rid\n",
        "        parents_opposite = self.parent2.rid == other.parent1.rid \\\n",
        "                           and self.parent1.rid == other.parent2.rid\n",
        "        return parents_same or parents_opposite\n",
        "    def __str__(self):\n",
        "        return \"rabbit:\"+ self.get_rid()"
      ]
    },
    {
      "cell_type": "code",
      "execution_count": 94,
      "metadata": {
        "id": "F_63-rEpK6QZ"
      },
      "outputs": [],
      "source": [
        "# Creando instancias de Rabbit\n",
        "r1 = Rabbit(3)\n",
        "r2 = Rabbit(4)\n",
        "r3 = Rabbit(5)"
      ]
    },
    {
      "cell_type": "code",
      "execution_count": 95,
      "metadata": {
        "colab": {
          "base_uri": "https://localhost:8080/"
        },
        "id": "4OgpxI0ZK6Qa",
        "outputId": "bea7bf75-affb-4973-835b-10fe05257a0f"
      },
      "outputs": [
        {
          "output_type": "stream",
          "name": "stdout",
          "text": [
            "r1: rabbit:001\n",
            "r2: rabbit:002\n",
            "r3: rabbit:003\n"
          ]
        }
      ],
      "source": [
        "print(\"r1:\", r1)\n",
        "print(\"r2:\", r2)\n",
        "print(\"r3:\", r3)"
      ]
    },
    {
      "cell_type": "code",
      "execution_count": 96,
      "metadata": {
        "colab": {
          "base_uri": "https://localhost:8080/"
        },
        "id": "k3tYvHF_K6Qa",
        "outputId": "0bb43bec-fb89-4c98-bc2f-ca33fc89f2c9"
      },
      "outputs": [
        {
          "output_type": "stream",
          "name": "stdout",
          "text": [
            "r1 parent1: None\n",
            "r1 parent2: None\n"
          ]
        }
      ],
      "source": [
        "print(\"r1 parent1:\", r1.get_parent1())\n",
        "print(\"r1 parent2:\", r1.get_parent2())"
      ]
    },
    {
      "cell_type": "code",
      "execution_count": 97,
      "metadata": {
        "colab": {
          "base_uri": "https://localhost:8080/"
        },
        "id": "_LOqhwQ2K6Qa",
        "outputId": "9c988335-527a-4a23-9ec4-db0f33b7e2f6"
      },
      "outputs": [
        {
          "output_type": "stream",
          "name": "stdout",
          "text": [
            "r4 parent1: rabbit:001\n",
            "r4 parent2: rabbit:002\n"
          ]
        }
      ],
      "source": [
        "r4 = r1+r2\n",
        "print(\"r4 parent1:\", r4.get_parent1())\n",
        "print(\"r4 parent2:\", r4.get_parent2())"
      ]
    },
    {
      "cell_type": "code",
      "execution_count": null,
      "metadata": {
        "id": "7Y2TxyqlK6Qa",
        "outputId": "3f77a055-56c8-4a68-9464-b3da809624c3"
      },
      "outputs": [
        {
          "name": "stdout",
          "output_type": "stream",
          "text": [
            "r5 parent1: rabbit:003\n",
            "r5 parent2: rabbit:004\n",
            "r6 parent1: rabbit:004\n",
            "r6 parent2: rabbit:003\n"
          ]
        }
      ],
      "source": [
        "# Probando igualdad de conejos\n",
        "r5 = r3+r4\n",
        "r6 = r4+r3\n",
        "\n",
        "print(\"r5 parent1:\", r5.get_parent1())\n",
        "print(\"r5 parent2:\", r5.get_parent2())\n",
        "print(\"r6 parent1:\", r6.get_parent1())\n",
        "print(\"r6 parent2:\", r6.get_parent2())"
      ]
    },
    {
      "cell_type": "code",
      "execution_count": null,
      "metadata": {
        "id": "M3xnEaCpK6Qa",
        "outputId": "bccaab8d-112d-430a-d4b3-2c912b7cdb3c"
      },
      "outputs": [
        {
          "name": "stdout",
          "output_type": "stream",
          "text": [
            "r5 and r6 have same parents? True\n",
            "r4 and r6 have same parents? False\n"
          ]
        }
      ],
      "source": [
        "print(\"r5 and r6 have same parents?\", r5 == r6)\n",
        "print(\"r4 and r6 have same parents?\", r4 == r6)"
      ]
    },
    {
      "cell_type": "markdown",
      "metadata": {
        "id": "tCr1D6TZK6Qa"
      },
      "source": [
        "## Programación orientada a objetos (OOP)\n",
        "\n",
        "- Permite crear una **colección** y **organización** de datos personalizada.\n",
        "- **Divide** el trabajo entre varios objetos similares.\n",
        "- Permite acceder a la información de una manera **consistente**.\n",
        "- Permite añadir la complejidad por **capas**.\n",
        "- Como las funciones:\n",
        "    - Permiten crear **descomposición** y **abstracción**.\n",
        "    - **Modularizar** los programas."
      ]
    },
    {
      "cell_type": "markdown",
      "metadata": {
        "id": "xhKeFIJRK6Qa"
      },
      "source": [
        "## Fin\n",
        "\n",
        "![OOP](https://github.com/PES-BG-2025/notebooks/blob/main/figs/oop/oop-logo.png?raw=1)"
      ]
    }
  ],
  "metadata": {
    "celltoolbar": "Slideshow",
    "kernelspec": {
      "display_name": "base",
      "language": "python",
      "name": "python3"
    },
    "language_info": {
      "codemirror_mode": {
        "name": "ipython",
        "version": 3
      },
      "file_extension": ".py",
      "mimetype": "text/x-python",
      "name": "python",
      "nbconvert_exporter": "python",
      "pygments_lexer": "ipython3",
      "version": "3.13.5"
    },
    "colab": {
      "provenance": []
    }
  },
  "nbformat": 4,
  "nbformat_minor": 0
}
{
  "cells": [
    {
      "cell_type": "markdown",
      "metadata": {
        "id": "view-in-github",
        "colab_type": "text"
      },
      "source": [
        "<a href=\"https://colab.research.google.com/github/diego10jerry-cpu/PR-example/blob/main/05-tuples-lists.ipynb\" target=\"_parent\"><img src=\"https://colab.research.google.com/assets/colab-badge.svg\" alt=\"Open In Colab\"/></a>"
      ]
    },
    {
      "cell_type": "markdown",
      "id": "ad2fa1d9",
      "metadata": {
        "id": "ad2fa1d9"
      },
      "source": [
        "# Introducción a las ciencias de la computación *y programación en Python*\n",
        "\n",
        "*Banco de Guatemala*  \n",
        "*PES 2025-2026*  \n",
        "*Programación I*  \n",
        "*Septiembre de 2025*  "
      ]
    },
    {
      "cell_type": "markdown",
      "id": "edcc4115",
      "metadata": {
        "id": "edcc4115"
      },
      "source": [
        "## Abstract\n",
        "\n",
        "> \"**La simplicidad es un prerrequisito para la confiabilidad**\" *Edsger W. Dijkstra*\n",
        "\n",
        "- Veremos dos tipos nuevos compuestos en Python: tuplas y listas.\n",
        "\n",
        "- Hablaremos de los conceptos de *alias*, mutabilidad y clonado."
      ]
    },
    {
      "cell_type": "markdown",
      "id": "737b7470",
      "metadata": {
        "id": "737b7470"
      },
      "source": [
        "# Tuplas\n",
        "\n",
        "-   Secuencia ordenada de elementos, que pueden ser de diferentes tipos.\n",
        "\n",
        "-   No es posible alterar sus elementos, son **inmutables**.\n",
        "\n",
        "-   Se representan con paréntesis"
      ]
    },
    {
      "cell_type": "code",
      "execution_count": 2,
      "id": "15409510",
      "metadata": {
        "id": "15409510"
      },
      "outputs": [],
      "source": [
        "# Tupla vacia\n",
        "te = ()"
      ]
    },
    {
      "cell_type": "code",
      "execution_count": 3,
      "id": "3236f82a",
      "metadata": {
        "id": "3236f82a"
      },
      "outputs": [],
      "source": [
        "# Tupla de ejemplo\n",
        "t = (2, \"pes\", 3.2)"
      ]
    },
    {
      "cell_type": "code",
      "execution_count": 5,
      "id": "d34e36b6",
      "metadata": {
        "id": "d34e36b6",
        "outputId": "2e65732a-9356-4bfe-e704-4c9099f1d9d8",
        "colab": {
          "base_uri": "https://localhost:8080/"
        }
      },
      "outputs": [
        {
          "output_type": "execute_result",
          "data": {
            "text/plain": [
              "2"
            ]
          },
          "metadata": {},
          "execution_count": 5
        }
      ],
      "source": [
        "t[0]"
      ]
    },
    {
      "cell_type": "markdown",
      "id": "4d39dc0d",
      "metadata": {
        "id": "4d39dc0d"
      },
      "source": [
        "Podemos concatenar tuplas:"
      ]
    },
    {
      "cell_type": "code",
      "execution_count": 7,
      "id": "88982813",
      "metadata": {
        "id": "88982813",
        "outputId": "7b2acc89-0167-4cde-f922-5b77cc71e220",
        "colab": {
          "base_uri": "https://localhost:8080/"
        }
      },
      "outputs": [
        {
          "output_type": "execute_result",
          "data": {
            "text/plain": [
              "(2, 'pes', 3.2, 5, 6)"
            ]
          },
          "metadata": {},
          "execution_count": 7
        }
      ],
      "source": [
        "t + (5,6)"
      ]
    },
    {
      "cell_type": "markdown",
      "id": "e6048b28",
      "metadata": {
        "id": "e6048b28"
      },
      "source": [
        "*Slicing*:"
      ]
    },
    {
      "cell_type": "code",
      "execution_count": 9,
      "id": "7190c839",
      "metadata": {
        "id": "7190c839",
        "outputId": "4ab0e664-cdc2-4e67-f0d6-57eb3d1767b6",
        "colab": {
          "base_uri": "https://localhost:8080/"
        }
      },
      "outputs": [
        {
          "output_type": "execute_result",
          "data": {
            "text/plain": [
              "('pes',)"
            ]
          },
          "metadata": {},
          "execution_count": 9
        }
      ],
      "source": [
        "t[1:2]"
      ]
    },
    {
      "cell_type": "code",
      "execution_count": 15,
      "id": "aed6276c",
      "metadata": {
        "id": "aed6276c",
        "outputId": "6522ac36-21ba-450e-a4b2-4249cc71932f",
        "colab": {
          "base_uri": "https://localhost:8080/"
        }
      },
      "outputs": [
        {
          "output_type": "execute_result",
          "data": {
            "text/plain": [
              "('pes', 3.2)"
            ]
          },
          "metadata": {},
          "execution_count": 15
        }
      ],
      "source": [
        "t[1:3]"
      ]
    },
    {
      "cell_type": "code",
      "execution_count": 12,
      "id": "4af3fee1",
      "metadata": {
        "id": "4af3fee1",
        "outputId": "3d6540df-bc22-4edf-e342-1c0e33731bf9",
        "colab": {
          "base_uri": "https://localhost:8080/"
        }
      },
      "outputs": [
        {
          "output_type": "execute_result",
          "data": {
            "text/plain": [
              "3"
            ]
          },
          "metadata": {},
          "execution_count": 12
        }
      ],
      "source": [
        "len(t)"
      ]
    },
    {
      "cell_type": "code",
      "execution_count": 17,
      "id": "e0284b2c",
      "metadata": {
        "id": "e0284b2c",
        "outputId": "e9aca0b5-bd6f-4e25-f130-ad4ab2d26de0",
        "colab": {
          "base_uri": "https://localhost:8080/",
          "height": 146
        }
      },
      "outputs": [
        {
          "output_type": "error",
          "ename": "TypeError",
          "evalue": "'tuple' object does not support item assignment",
          "traceback": [
            "\u001b[0;31m---------------------------------------------------------------------------\u001b[0m",
            "\u001b[0;31mTypeError\u001b[0m                                 Traceback (most recent call last)",
            "\u001b[0;32m/tmp/ipython-input-1264195825.py\u001b[0m in \u001b[0;36m<cell line: 0>\u001b[0;34m()\u001b[0m\n\u001b[0;32m----> 1\u001b[0;31m \u001b[0mt\u001b[0m\u001b[0;34m[\u001b[0m\u001b[0;36m1\u001b[0m\u001b[0;34m]\u001b[0m \u001b[0;34m=\u001b[0m \u001b[0;36m4\u001b[0m \u001b[0;31m# error, inmutable\u001b[0m\u001b[0;34m\u001b[0m\u001b[0;34m\u001b[0m\u001b[0m\n\u001b[0m",
            "\u001b[0;31mTypeError\u001b[0m: 'tuple' object does not support item assignment"
          ]
        }
      ],
      "source": [
        "t[1] = 4 # error, inmutable"
      ]
    },
    {
      "cell_type": "markdown",
      "id": "abe180c2",
      "metadata": {
        "id": "abe180c2"
      },
      "source": [
        "## Iteración sobre tuplas\n",
        "\n",
        "-   Es posible iterar sobre los elementos de una tupla:"
      ]
    },
    {
      "cell_type": "code",
      "execution_count": 19,
      "id": "7281aeb9",
      "metadata": {
        "id": "7281aeb9",
        "outputId": "457a25e6-d6dc-4640-ba29-6247d6f4bc8e",
        "colab": {
          "base_uri": "https://localhost:8080/"
        }
      },
      "outputs": [
        {
          "output_type": "stream",
          "name": "stdout",
          "text": [
            "2 es de tipo <class 'int'>\n",
            "pes es de tipo <class 'str'>\n",
            "3.2 es de tipo <class 'float'>\n"
          ]
        }
      ],
      "source": [
        "t = (2, \"pes\", 3.2)\n",
        "\n",
        "for elem in t:\n",
        "    print(elem, \"es de tipo\", type(elem))"
      ]
    },
    {
      "cell_type": "markdown",
      "id": "4c84854f",
      "metadata": {
        "id": "4c84854f"
      },
      "source": [
        "## Tuplas de tuplas"
      ]
    },
    {
      "cell_type": "code",
      "execution_count": 20,
      "id": "4d68f3a1",
      "metadata": {
        "id": "4d68f3a1",
        "outputId": "1bae6c73-76a4-4b6c-f47d-c482ee0c9cc6",
        "colab": {
          "base_uri": "https://localhost:8080/"
        }
      },
      "outputs": [
        {
          "output_type": "execute_result",
          "data": {
            "text/plain": [
              "((1, 'a'), (2, 'b'), (3, 'c'))"
            ]
          },
          "metadata": {},
          "execution_count": 20
        }
      ],
      "source": [
        "aTuple = ((1, 'a'), (2, 'b'), (3, 'c'))\n",
        "aTuple"
      ]
    },
    {
      "cell_type": "code",
      "execution_count": 25,
      "id": "230d4812",
      "metadata": {
        "id": "230d4812",
        "outputId": "9bf6ab37-81c6-450c-c8b9-5ae8f9cde921",
        "colab": {
          "base_uri": "https://localhost:8080/"
        }
      },
      "outputs": [
        {
          "output_type": "stream",
          "name": "stdout",
          "text": [
            "(1, 3, 3)\n"
          ]
        }
      ],
      "source": [
        "def get_data(aTuple):\n",
        "    \"Gets the min and max of the numbers and the number of unique words\"\n",
        "    nums= ()\n",
        "    words = ()\n",
        "\n",
        "    # Iterate over every tuple\n",
        "    for t in aTuple:\n",
        "        nums = nums + (t[0],)       # saves numbers in a tuple\n",
        "        if t[1] not in words:\n",
        "            words = words + (t[1],) # saves unique words\n",
        "\n",
        "    # Min and max of numbers\n",
        "    min_n = min(nums)\n",
        "    max_n = max(nums)\n",
        "    # el número de palabras únicas\n",
        "    unique_words = len(words)\n",
        "\n",
        "    return (min_n, max_n, unique_words)\n",
        "    # return min_n, max_n, unique_words     # Equivalent return\n",
        "\n",
        "aTuple = ((1, 'a'), (2, 'b'), (3, 'c'))\n",
        "# print (get_data(aTuple))\n",
        "print(get_data(aTuple))"
      ]
    },
    {
      "cell_type": "markdown",
      "id": "491e0d77",
      "metadata": {
        "id": "491e0d77"
      },
      "source": [
        "# Listas\n",
        "\n",
        "-   **Secuencia ordenada** de elementos, accesibles a través de un\n",
        "    índice.\n",
        "\n",
        "-   Se denotan utilizando corchetes, `[]`\n",
        "\n",
        "-   Los elementos:\n",
        "\n",
        "    -   Son usualmente homogéneos\n",
        "    -   Pero pueden ser de diferentes tipos (práctica poco común, pero\n",
        "        válida).\n",
        "\n",
        "-   Los elementos pueden ser **alterados**, por lo que la lista es\n",
        "    **mutable**."
      ]
    },
    {
      "cell_type": "markdown",
      "id": "c016dd7f",
      "metadata": {
        "id": "c016dd7f"
      },
      "source": [
        "##  Lista e índices"
      ]
    },
    {
      "cell_type": "code",
      "execution_count": null,
      "id": "1af33233",
      "metadata": {
        "id": "1af33233"
      },
      "outputs": [],
      "source": [
        "L = []\n"
      ]
    },
    {
      "cell_type": "code",
      "execution_count": null,
      "id": "22ccd5ee",
      "metadata": {
        "id": "22ccd5ee"
      },
      "outputs": [],
      "source": [
        "L = [2, 'a', 4, [1,2]]\n",
        "len(L)"
      ]
    },
    {
      "cell_type": "code",
      "execution_count": null,
      "id": "1f0ca4bf",
      "metadata": {
        "id": "1f0ca4bf"
      },
      "outputs": [],
      "source": [
        "L[0]"
      ]
    },
    {
      "cell_type": "code",
      "execution_count": null,
      "id": "c0592f25",
      "metadata": {
        "id": "c0592f25"
      },
      "outputs": [],
      "source": [
        "L[2]+1"
      ]
    },
    {
      "cell_type": "code",
      "execution_count": null,
      "id": "c441ffd1",
      "metadata": {
        "id": "c441ffd1"
      },
      "outputs": [],
      "source": [
        "L[3]   # returns another list!"
      ]
    },
    {
      "cell_type": "code",
      "execution_count": null,
      "id": "6e97f388",
      "metadata": {
        "id": "6e97f388"
      },
      "outputs": [],
      "source": [
        "L[4]   # gives an error"
      ]
    },
    {
      "cell_type": "code",
      "execution_count": null,
      "id": "bd88e0ea",
      "metadata": {
        "id": "bd88e0ea"
      },
      "outputs": [],
      "source": [
        "i = 2\n",
        "L[i-1] # evaluates to 'a' since L[1]='a' above"
      ]
    },
    {
      "cell_type": "markdown",
      "id": "19931913",
      "metadata": {
        "id": "19931913"
      },
      "source": [
        "## Otras operaciones sobre listas\n",
        "\n",
        "-   Funciones para ordenar: `sort()` y `sorted()`\n",
        "\n",
        "-   Operación de reversa: `reverse()`\n",
        "\n",
        "-   Otras operaciones más: <https://docs.python.org/3/tutorial/datastructures.html>"
      ]
    },
    {
      "cell_type": "markdown",
      "id": "5f06665e",
      "metadata": {
        "id": "5f06665e"
      },
      "source": [
        "**¡Ojo!** algunas son funciones y otras son métodos."
      ]
    },
    {
      "cell_type": "code",
      "execution_count": null,
      "id": "cf7f757f",
      "metadata": {
        "id": "cf7f757f"
      },
      "outputs": [],
      "source": [
        "L = [9,6,0,3]"
      ]
    },
    {
      "cell_type": "code",
      "execution_count": null,
      "id": "8d28b02b",
      "metadata": {
        "id": "8d28b02b"
      },
      "outputs": [],
      "source": [
        "sorted(L)   # devuelve lista ordenada sin cambiar L"
      ]
    },
    {
      "cell_type": "code",
      "execution_count": null,
      "id": "b97da18b",
      "metadata": {
        "id": "b97da18b"
      },
      "outputs": [],
      "source": [
        "L.sort()    # cambia L = [0, 3, 6, 9]\n",
        "L"
      ]
    },
    {
      "cell_type": "code",
      "execution_count": null,
      "id": "0f6a2fb3",
      "metadata": {
        "id": "0f6a2fb3"
      },
      "outputs": [],
      "source": [
        "L.reverse() # cambia L = [9, 6, 3, 0]\n",
        "L"
      ]
    },
    {
      "cell_type": "markdown",
      "id": "f383e490",
      "metadata": {
        "id": "f383e490"
      },
      "source": [
        "# Mutabilidad y clonado\n",
        "\n"
      ]
    },
    {
      "cell_type": "markdown",
      "id": "ae1608ea",
      "metadata": {
        "id": "ae1608ea"
      },
      "source": [
        "## Listas en memoria\n",
        "\n",
        "-   Las listas son objetos **mutables**.\n",
        "\n",
        "-   Se comportan de forma diferente a los tipos inmutables.\n",
        "\n",
        "-   Representan objetos en memoria.\n",
        "\n",
        "-   Distintos nombres de variables pueden apuntar al mismo objeto en\n",
        "    memoria.\n",
        "\n",
        "-   Cualquier variable que **apunte** a un objeto es afectada."
      ]
    },
    {
      "cell_type": "markdown",
      "id": "b6b8dbb5",
      "metadata": {
        "id": "b6b8dbb5"
      },
      "source": [
        "## Alias para listas\n",
        "\n",
        "-   `hot` es un alias para `warm`: al cambiar uno, cambia el otro.\n",
        "\n",
        "-   La función `append()` tiene un efecto secundario."
      ]
    },
    {
      "cell_type": "code",
      "execution_count": null,
      "id": "a2ab1f48",
      "metadata": {
        "id": "a2ab1f48"
      },
      "outputs": [],
      "source": [
        "a = 1\n",
        "b = a\n",
        "print(a)\n",
        "print(b)"
      ]
    },
    {
      "cell_type": "code",
      "execution_count": null,
      "id": "3a90d13a",
      "metadata": {
        "id": "3a90d13a"
      },
      "outputs": [],
      "source": [
        "warm = ['red', 'yellow', 'orange']\n",
        "hot = warm\n",
        "hot.append('pink')\n",
        "print(hot)\n",
        "print(warm)"
      ]
    },
    {
      "cell_type": "markdown",
      "id": "4009d289",
      "metadata": {
        "id": "4009d289"
      },
      "source": [
        "-   [Ver en Python\n",
        "    Tutor](http://pythontutor.com/visualize.html#code=a%20%3D%201%0Ab%20%3D%20a%0Aprint%28a%29%0Aprint%28b%29%0A%0Awarm%20%3D%20%5B'red',%20'yellow',%20'orange'%5D%0Ahot%20%3D%20warm%0Ahot.append%28'pink'%29%0Aprint%28hot%29%0Aprint%28warm%29&cumulative=false&curInstr=0&heapPrimitives=nevernest&mode=display&origin=opt-frontend.js&py=3&rawInputLstJSON=%5B%5D&textReferences=false)"
      ]
    },
    {
      "cell_type": "markdown",
      "id": "25ff26af",
      "metadata": {
        "id": "25ff26af"
      },
      "source": [
        "## Clonando una lista\n",
        "\n",
        "-   Para crear una nueva lista podemos **copiar cada elemento**\n",
        "    utilizando *slicing*.\n",
        "\n",
        "-   [Ver en Python\n",
        "    Tutor](http://pythontutor.com/visualize.html#code=cool%20%3D%20%5B'blue',%20'green',%20'grey'%5D%0Achill%20%3D%20cool%5B%3A%5D%0Achill.append%28'black'%29%0Aprint%28chill%29%0Aprint%28cool%29&cumulative=false&heapPrimitives=nevernest&mode=edit&origin=opt-frontend.js&py=3&rawInputLstJSON=%5B%5D&textReferences=false)\n"
      ]
    },
    {
      "cell_type": "code",
      "execution_count": null,
      "id": "f00a4a74",
      "metadata": {
        "id": "f00a4a74"
      },
      "outputs": [],
      "source": [
        "cool = ['blue', 'green', 'grey']\n",
        "chill = cool[:]\n",
        "chill.append('black')\n",
        "print(chill)\n",
        "print(cool)"
      ]
    },
    {
      "cell_type": "markdown",
      "id": "e0f12e7a",
      "metadata": {
        "id": "e0f12e7a"
      },
      "source": [
        "## Ordenando listas\n",
        "\n",
        "-   Utilizar `sort()` altera la lista, devuelve `None`.\n",
        "\n",
        "-   Utilizar `sorted()` no altera la lista, devuelve la lista ordenada.\n"
      ]
    },
    {
      "cell_type": "code",
      "execution_count": null,
      "id": "815f0a68",
      "metadata": {
        "id": "815f0a68"
      },
      "outputs": [],
      "source": [
        "warm = ['red', 'yellow', 'orange']\n",
        "sortedwarm = warm.sort()\n",
        "print(warm)\n",
        "print(sortedwarm)\n",
        "\n",
        "cool = ['grey', 'green', 'blue']\n",
        "sortedcool = sorted(cool)\n",
        "print(cool)\n",
        "print(sortedcool)"
      ]
    },
    {
      "cell_type": "markdown",
      "id": "352c3c51",
      "metadata": {
        "id": "352c3c51"
      },
      "source": [
        "-   [Ver en Python\n",
        "    Tutor](http://pythontutor.com/visualize.html#code=warm%20%3D%20%5B'red',%20'yellow',%20'orange'%5D%0Asortedwarm%20%3D%20warm.sort%28%29%0Aprint%28warm%29%0Aprint%28sortedwarm%29%0A%0Acool%20%3D%20%5B'grey',%20'green',%20'blue'%5D%0Asortedcool%20%3D%20sorted%28cool%29%0Aprint%28cool%29%0Aprint%28sortedcool%29&cumulative=false&heapPrimitives=nevernest&mode=edit&origin=opt-frontend.js&py=3&rawInputLstJSON=%5B%5D&textReferences=false)"
      ]
    },
    {
      "cell_type": "markdown",
      "id": "7098ed59",
      "metadata": {
        "id": "7098ed59"
      },
      "source": [
        "# Listas de listas de listas de \\...\n",
        "\n",
        "-   Es posible **agrupar** una lista dentro de otra.\n",
        "\n",
        "-   Cuidado con los **efectos secundarios** (*side effects*)."
      ]
    },
    {
      "cell_type": "code",
      "execution_count": null,
      "id": "62ae4fe1",
      "metadata": {
        "id": "62ae4fe1"
      },
      "outputs": [],
      "source": [
        "warm = ['yellow', 'orange']\n",
        "hot = ['red']\n",
        "brightcolors = [warm]\n",
        "brightcolors.append(hot)\n",
        "print(brightcolors)\n",
        "\n",
        "hot.append('pink')\n",
        "print(hot)\n",
        "print(brightcolors)"
      ]
    },
    {
      "cell_type": "markdown",
      "id": "1d4fc65a",
      "metadata": {
        "id": "1d4fc65a"
      },
      "source": [
        "-   [Ver en Python\n",
        "    Tutor](http://pythontutor.com/visualize.html#code=warm%20%3D%20%5B'yellow',%20'orange'%5D%0Ahot%20%3D%20%5B'red'%5D%0Abrightcolors%20%3D%20%5Bwarm%5D%0Abrightcolors.append%28hot%29%0Aprint%28brightcolors%29%0A%0Ahot.append%28'pink'%29%0Aprint%28hot%29%0Aprint%28brightcolors%29&cumulative=false&heapPrimitives=nevernest&mode=edit&origin=opt-frontend.js&py=3&rawInputLstJSON=%5B%5D&textReferences=false)"
      ]
    },
    {
      "cell_type": "markdown",
      "id": "566716d8",
      "metadata": {
        "id": "566716d8"
      },
      "source": [
        "-   Como **buena práctica, evitar mutar una lista al iterar sobre ella**. Veamos un ejemplo:\n",
        "\n"
      ]
    },
    {
      "cell_type": "code",
      "execution_count": null,
      "id": "87287f8d",
      "metadata": {
        "id": "87287f8d"
      },
      "outputs": [],
      "source": [
        "def remove_dups(L1, L2):\n",
        "    for e in L1:\n",
        "        if e in L2:\n",
        "            L1.remove(e)\n",
        "\n",
        "L1 = [1, 2, 3, 4]\n",
        "L2 = [1, 2, 5, 6]\n",
        "remove_dups(L1, L2)\n",
        "print(L1, L2)"
      ]
    },
    {
      "cell_type": "markdown",
      "id": "71abd677",
      "metadata": {
        "id": "71abd677"
      },
      "source": [
        "-   [Ver en Python\n",
        "    Tutor](http://pythontutor.com/visualize.html#code=def%20remove_dups%28L1,%20L2%29%3A%0A%20%20%20%20for%20e%20in%20L1%3A%0A%20%20%20%20%20%20%20%20if%20e%20in%20L2%3A%0A%20%20%20%20%20%20%20%20%20%20%20%20L1.remove%28e%29%0A%0AL1%20%3D%20%5B1,%202,%203,%204%5D%0AL2%20%3D%20%5B1,%202,%205,%206%5D%0Aremove_dups%28L1,%20L2%29%0Aprint%28L1,%20L2%29&cumulative=false&curInstr=15&heapPrimitives=nevernest&mode=display&origin=opt-frontend.js&py=3&rawInputLstJSON=%5B%5D&textReferences=false)\n",
        "\n",
        "-   ¿Por qué `L1 = [2,3,4]` y no `[3,4]`? ¿Cómo se puede corregir este\n",
        "    código?"
      ]
    },
    {
      "cell_type": "markdown",
      "id": "bb2e99db",
      "metadata": {
        "id": "bb2e99db"
      },
      "source": [
        "-   *Solución*:\n",
        "  "
      ]
    },
    {
      "cell_type": "code",
      "execution_count": null,
      "id": "53022ebe",
      "metadata": {
        "id": "53022ebe"
      },
      "outputs": [],
      "source": [
        "def remove_dups_new(L1, L2):\n",
        "    L1_copy = L1[:]\n",
        "    for e in L1_copy:\n",
        "        if e in L2:\n",
        "            L1.remove(e)\n",
        "\n",
        "L1 = [1, 2, 3, 4]\n",
        "L2 = [1, 2, 5, 6]\n",
        "remove_dups_new(L1, L2)\n",
        "print(L1, L2)"
      ]
    }
  ],
  "metadata": {
    "kernelspec": {
      "display_name": "base",
      "language": "python",
      "name": "python3"
    },
    "language_info": {
      "codemirror_mode": {
        "name": "ipython",
        "version": 3
      },
      "file_extension": ".py",
      "mimetype": "text/x-python",
      "name": "python",
      "nbconvert_exporter": "python",
      "pygments_lexer": "ipython3",
      "version": "3.13.5"
    },
    "colab": {
      "provenance": [],
      "include_colab_link": true
    }
  },
  "nbformat": 4,
  "nbformat_minor": 5
}
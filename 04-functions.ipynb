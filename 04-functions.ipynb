{
  "cells": [
    {
      "cell_type": "markdown",
      "id": "af206e97",
      "metadata": {
        "id": "af206e97"
      },
      "source": [
        "# Introducción a las ciencias de la computación *y programación en Python*\n",
        "\n",
        "*Banco de Guatemala*  \n",
        "*PES 2025-2026*  \n",
        "*Programación I*  \n",
        "*Septiembre de 2025*  "
      ]
    },
    {
      "cell_type": "markdown",
      "id": "50037431",
      "metadata": {
        "id": "50037431"
      },
      "source": [
        "## Introducción\n",
        "\n",
        "> \"*Programs must be written for people to read, and only incidentally for machines to execute.*\" **Harold Abelson, Structure and Interpretation of Computer Programs**\n",
        "\n",
        "- Veremos cómo estructurar programas en funciones para practicar el concepto de abstracción.\n",
        "\n",
        "- Hablaremos de los conceptos de alcance (*scope*) y espacio de nombres\n",
        "(*name space*) en Python."
      ]
    },
    {
      "cell_type": "markdown",
      "id": "b4a6ee5d",
      "metadata": {
        "id": "b4a6ee5d"
      },
      "source": [
        "# Descomposición y abstracción\n",
        "\n",
        "¿Cómo escribimos código?\n",
        "\n",
        "-   Hasta ahora:\n",
        "\n",
        "    -   Hemos visto algunos mecanismos del lenguaje.\n",
        "\n",
        "    -   Código en un bloque (celda) representa algún cómputo.\n",
        "\n",
        "    -   Cada archivo (celda) es una pieza de código.\n",
        "\n",
        "        -   Cada código es una secuencia de instrucciones.\n"
      ]
    },
    {
      "cell_type": "markdown",
      "id": "a6850383",
      "metadata": {
        "id": "a6850383"
      },
      "source": [
        "\n",
        "-   Algunos problemas:\n",
        "\n",
        "    -   Es fácil para problemas a *pequeña escala*.\n",
        "\n",
        "    -   Es **muy desordenado** para problemas más grandes.\n",
        "\n",
        "    -   Es difícil **seguir** los detalles.\n",
        "\n",
        "    -   Información correcta $\\Rightarrow$ parte código del código."
      ]
    },
    {
      "cell_type": "markdown",
      "id": "1863c133",
      "metadata": {
        "id": "1863c133"
      },
      "source": [
        "## Buenas prácticas\n",
        "\n",
        "-   Más código **no** es necesariamente algo bueno.\n",
        "\n",
        "-   Cantidad de *funcionalidad* $\\Rightarrow$ buenos programadores.\n",
        "\n",
        "-   Necesitamos un mecanismo para **descomponer** el código y\n",
        "    **abstraer** la funcionalidad.\n",
        "\n",
        "-   Para esto, introducimos las **funciones**.\n"
      ]
    },
    {
      "cell_type": "markdown",
      "id": "ad8e7768",
      "metadata": {
        "id": "ad8e7768"
      },
      "source": [
        "## Abstracción\n",
        "\n",
        "-   Un proyector es una caja negra --- no sabemos cómo funciona.\n",
        "\n",
        "-   Sabemos cómo se utiliza y para qué sirve.\n",
        "\n",
        "-   Conocemos la entrada: cualquier dispositivo electrónico que se pueda\n",
        "    conectar.\n",
        "\n",
        "-   Y la salida que produce.\n",
        "\n",
        "-   Es una caja negra que convierte y magnifica imágenes de la entrada\n",
        "    hacia una pantalla (pared).\n"
      ]
    },
    {
      "cell_type": "markdown",
      "id": "b3389cea",
      "metadata": {
        "id": "b3389cea"
      },
      "source": [
        "## Descomposición\n",
        "\n",
        "-   Supongamos que queremos proyectar imágenes para las Olimpiadas con\n",
        "    varios proyectores.\n",
        "\n",
        "-   Cada proyector recibe una entrada y produce una salida individual.\n",
        "\n",
        "-   Todos producen una imagen más grande.\n"
      ]
    },
    {
      "cell_type": "markdown",
      "id": "1a715c90",
      "metadata": {
        "id": "1a715c90"
      },
      "source": [
        "\n",
        "## Crear estructura con la descomposición\n",
        "\n",
        "-   En programación, el código se divide en **módulos**:\n",
        "\n",
        "    -   autocontenidos\n",
        "\n",
        "    -   permiten **separar** el código,\n",
        "\n",
        "    -   **reutilizarlo**,\n",
        "\n",
        "    -   mantenerlo **organizado** y\n",
        "\n",
        "    -   **coherente**."
      ]
    },
    {
      "cell_type": "markdown",
      "id": "4654cb53",
      "metadata": {
        "id": "4654cb53"
      },
      "source": [
        "## Omitir detalles con la abstracción\n",
        "\n",
        "-   En programación, puede pensarse en una **caja negra**:\n",
        "\n",
        "    -   No se quieren/necesitan ver los detalles.\n",
        "\n",
        "    -   Esconder detalles tediosos en el código.\n",
        "\n",
        "-   Esto lo lograremos con la **especificación adecuada** de una\n",
        "    función:\n",
        "\n",
        "    -   ¿Qué recibe como entradas y qué devuelve como salidas?.\n",
        "\n",
        "-   También será útil definir un **docstring**.\n"
      ]
    },
    {
      "cell_type": "markdown",
      "id": "8ccf5857",
      "metadata": {
        "id": "8ccf5857"
      },
      "source": [
        "# Funciones\n",
        "\n",
        "-   **Piezas** de código reutilizables.\n",
        "\n",
        "-   No se ejecutan hasta ser **llamadas** o **\"invocadas\"**.\n",
        "\n",
        "-   Características:\n",
        "\n",
        "    -   Nombre\n",
        "\n",
        "    -   Parámetros (0 o más)\n",
        "\n",
        "    -   *docstring*\n",
        "\n",
        "    -   cuerpo\n",
        "\n",
        "    -   devuelven un resultado (opcionalmente)\n",
        "\n"
      ]
    },
    {
      "cell_type": "markdown",
      "id": "d6a6fe33",
      "metadata": {
        "id": "d6a6fe33"
      },
      "source": [
        "## Ejemplo\n",
        "\n",
        "-   Veamos una función sencilla"
      ]
    },
    {
      "cell_type": "code",
      "execution_count": 4,
      "id": "5dcaeb36",
      "metadata": {
        "id": "5dcaeb36"
      },
      "outputs": [],
      "source": [
        "  # Def. de funcion par\n",
        "  def esPar(i):\n",
        "      \"\"\"\n",
        "      Input: i, entero positivo\n",
        "      Devuelve True si i es par, si no, False\n",
        "      \"\"\"\n",
        "      remainder = i % 2\n",
        "      return remainder == 0"
      ]
    },
    {
      "cell_type": "markdown",
      "id": "fe7521e6",
      "metadata": {
        "id": "fe7521e6"
      },
      "source": [
        "## Alcance (*s*cope) de las variables\n",
        "\n",
        "-   Una función crea un nuevo ambiente/marco/*scope* **cuando se\n",
        "    ejecuta**.\n",
        "\n",
        "-   **scope** se refiere al mapeo de nombres a objetos.\n",
        "\n",
        "-   El parámetro formal recibe el valor del parámetro real."
      ]
    },
    {
      "cell_type": "code",
      "execution_count": null,
      "id": "20074e1a",
      "metadata": {
        "id": "20074e1a"
      },
      "outputs": [],
      "source": [
        "def f(x):\n",
        "        x = x + 1\n",
        "        print('dentro de f(x): x =', x)\n",
        "        return x\n",
        "\n",
        "x = 3\n",
        "z = f( x )"
      ]
    },
    {
      "cell_type": "markdown",
      "id": "2985af2d",
      "metadata": {
        "id": "2985af2d"
      },
      "source": [
        "[Ver en Python Tutor](http://www.pythontutor.com/visualize.html#code=def%20f%28x%29%3A%0A%20%20%20%20x%20%3D%20x%20%2B%201%0A%20%20%20%20print%28'in%20f%28x%29%3A%20x%20%3D',%20x%29%0A%20%20%20%20return%20x%0A%0Ax%20%3D%203%0Az%20%3D%20f%28%20x%20%3D%20x%20%29&cumulative=false&curInstr=0&heapPrimitives=nevernest&mode=display&origin=opt-frontend.js&py=3&rawInputLstJSON=%5B%5D&textReferences=false)"
      ]
    },
    {
      "cell_type": "markdown",
      "id": "50a4a205",
      "metadata": {
        "id": "50a4a205"
      },
      "source": [
        "## Funciones sin `return`\n",
        "\n",
        "-   También llamadas procedimientos.\n",
        "\n",
        "-   En Python, devuelven `None` (ausencia de valor)."
      ]
    },
    {
      "cell_type": "code",
      "execution_count": 11,
      "id": "09661fce",
      "metadata": {
        "id": "09661fce"
      },
      "outputs": [],
      "source": [
        "# Def. de funcion par\n",
        "def esPar(i):\n",
        "    \"\"\"\n",
        "    Input: i, entero positivo\n",
        "    Imprime True si i es par, si no, False\n",
        "    \"\"\"\n",
        "    remainder = i % 2\n",
        "    print(remainder == 0)\n",
        "    return remainder ==0"
      ]
    },
    {
      "cell_type": "markdown",
      "id": "f185a4f1",
      "metadata": {
        "id": "f185a4f1"
      },
      "source": [
        "## `return` vs. `print`\n",
        "\n",
        "### `return`:\n",
        "\n",
        "-   Significado dentro de una función.\n",
        "-   Se ejecuta **solo uno**.\n",
        "-   Después de `return`, código es ignorado.\n",
        "-   Tiene valor asociado, devuelto a quién invoca la función.\n",
        "\n",
        "### `print`\n",
        "-   Puede ser utilizado fuera de una función.\n",
        "-   Pueden ejecutarse **varios**.\n",
        "-   Después de `print`, código es ejecutado.\n",
        "-   Devuelve `None`, pero su salida es hacia la **consola**."
      ]
    },
    {
      "cell_type": "markdown",
      "id": "c1929b93",
      "metadata": {
        "id": "c1929b93"
      },
      "source": [
        "## Scope (ambiente/alcance)\n",
        "\n",
        "-   Dentro de una función, **se puede acceder** a una variable definida\n",
        "    afuera."
      ]
    },
    {
      "cell_type": "code",
      "source": [],
      "metadata": {
        "id": "Uw1JGprsvHij"
      },
      "id": "Uw1JGprsvHij",
      "execution_count": null,
      "outputs": []
    },
    {
      "cell_type": "code",
      "execution_count": 24,
      "id": "bd8443f9",
      "metadata": {
        "colab": {
          "base_uri": "https://localhost:8080/"
        },
        "id": "bd8443f9",
        "outputId": "b29cc618-d1c6-47e4-af13-aa5360557109"
      },
      "outputs": [
        {
          "output_type": "stream",
          "name": "stdout",
          "text": [
            "5\n",
            "10\n",
            "5\n"
          ]
        }
      ],
      "source": [
        "def g(y):\n",
        "        print(x)\n",
        "        print(x+y)\n",
        "\n",
        "x = 5\n",
        "g(x)\n",
        "print(x)"
      ]
    },
    {
      "cell_type": "markdown",
      "id": "8368fb35",
      "metadata": {
        "id": "8368fb35"
      },
      "source": [
        "-   Otro ejemplo:"
      ]
    },
    {
      "cell_type": "code",
      "execution_count": 31,
      "id": "9813cf69",
      "metadata": {
        "colab": {
          "base_uri": "https://localhost:8080/"
        },
        "id": "9813cf69",
        "outputId": "8d6cf628-b9b2-4bb4-983d-fd38306d5c27"
      },
      "outputs": [
        {
          "output_type": "stream",
          "name": "stdout",
          "text": [
            "5\n",
            "5\n"
          ]
        }
      ],
      "source": [
        "def g(y):\n",
        "    print(x)\n",
        "\n",
        "x = 5\n",
        "g(x)\n",
        "print(x)"
      ]
    },
    {
      "cell_type": "markdown",
      "id": "148cb143",
      "metadata": {
        "id": "148cb143"
      },
      "source": [
        "[Ver en Python Tutor](https://pythontutor.com/render.html#code=def%20g%28y%29%3A%0A%20%20%20%20print%28x%29%0A%0Ax%20%3D%205%0Ag%28x%29%0Aprint%28x%29&cumulative=false&curInstr=0&heapPrimitives=nevernest&mode=display&origin=opt-frontend.js&py=311&rawInputLstJSON=%5B%5D&textReferences=false)"
      ]
    },
    {
      "cell_type": "markdown",
      "id": "be827bc5",
      "metadata": {
        "id": "be827bc5"
      },
      "source": [
        "## Scope (ambiente/alcance)\n",
        "\n",
        "-   Dentro de una función, **no se puede modificar una variable definida afuera.**\n",
        "\n",
        "-   La excepción es cuando la variable es mutable, por ejemplo, una lista o un diccionario.\n"
      ]
    },
    {
      "cell_type": "code",
      "execution_count": 35,
      "id": "039bf4e6",
      "metadata": {
        "colab": {
          "base_uri": "https://localhost:8080/",
          "height": 347
        },
        "id": "039bf4e6",
        "outputId": "b91c7851-7cd8-4ce0-925e-19058cc0b2d9"
      },
      "outputs": [
        {
          "output_type": "error",
          "ename": "UnboundLocalError",
          "evalue": "cannot access local variable 'x' where it is not associated with a value",
          "traceback": [
            "\u001b[0;31m---------------------------------------------------------------------------\u001b[0m",
            "\u001b[0;31mUnboundLocalError\u001b[0m                         Traceback (most recent call last)",
            "\u001b[0;32m/tmp/ipython-input-200257164.py\u001b[0m in \u001b[0;36m<cell line: 0>\u001b[0;34m()\u001b[0m\n\u001b[1;32m      3\u001b[0m \u001b[0;34m\u001b[0m\u001b[0m\n\u001b[1;32m      4\u001b[0m \u001b[0mx\u001b[0m \u001b[0;34m=\u001b[0m \u001b[0;36m5\u001b[0m\u001b[0;34m\u001b[0m\u001b[0;34m\u001b[0m\u001b[0m\n\u001b[0;32m----> 5\u001b[0;31m \u001b[0mh\u001b[0m\u001b[0;34m(\u001b[0m\u001b[0mx\u001b[0m\u001b[0;34m)\u001b[0m\u001b[0;34m\u001b[0m\u001b[0;34m\u001b[0m\u001b[0m\n\u001b[0m\u001b[1;32m      6\u001b[0m \u001b[0mprint\u001b[0m\u001b[0;34m(\u001b[0m\u001b[0mx\u001b[0m\u001b[0;34m)\u001b[0m\u001b[0;34m\u001b[0m\u001b[0;34m\u001b[0m\u001b[0m\n\u001b[1;32m      7\u001b[0m \u001b[0;34m\u001b[0m\u001b[0m\n",
            "\u001b[0;32m/tmp/ipython-input-200257164.py\u001b[0m in \u001b[0;36mh\u001b[0;34m(y)\u001b[0m\n\u001b[1;32m      1\u001b[0m \u001b[0;32mdef\u001b[0m \u001b[0mh\u001b[0m\u001b[0;34m(\u001b[0m\u001b[0my\u001b[0m\u001b[0;34m)\u001b[0m\u001b[0;34m:\u001b[0m\u001b[0;34m\u001b[0m\u001b[0;34m\u001b[0m\u001b[0m\n\u001b[0;32m----> 2\u001b[0;31m     \u001b[0mx\u001b[0m \u001b[0;34m+=\u001b[0m  \u001b[0;36m1\u001b[0m\u001b[0;34m\u001b[0m\u001b[0;34m\u001b[0m\u001b[0m\n\u001b[0m\u001b[1;32m      3\u001b[0m \u001b[0;34m\u001b[0m\u001b[0m\n\u001b[1;32m      4\u001b[0m \u001b[0mx\u001b[0m \u001b[0;34m=\u001b[0m \u001b[0;36m5\u001b[0m\u001b[0;34m\u001b[0m\u001b[0;34m\u001b[0m\u001b[0m\n\u001b[1;32m      5\u001b[0m \u001b[0mh\u001b[0m\u001b[0;34m(\u001b[0m\u001b[0mx\u001b[0m\u001b[0;34m)\u001b[0m\u001b[0;34m\u001b[0m\u001b[0;34m\u001b[0m\u001b[0m\n",
            "\u001b[0;31mUnboundLocalError\u001b[0m: cannot access local variable 'x' where it is not associated with a value"
          ]
        }
      ],
      "source": [
        "def h(y):\n",
        "    x +=  1\n",
        "\n",
        "x = 5\n",
        "h(x)\n",
        "print(x)\n",
        "\n",
        "del x # para eliminar la varibale y no arrastrar valor"
      ]
    },
    {
      "cell_type": "markdown",
      "id": "a7655e6b",
      "metadata": {
        "id": "a7655e6b"
      },
      "source": [
        "\n",
        "-   [¿Cómo funcionan los argumentos en\n",
        "    Python?](https://www.python-course.eu/python3_passing_arguments.php)"
      ]
    },
    {
      "cell_type": "markdown",
      "id": "dfc4d8c9",
      "metadata": {
        "id": "dfc4d8c9"
      },
      "source": [
        "## Detalles en el *scope*\n",
        "\n",
        "-   Veamos un ejemplo más detallado:"
      ]
    },
    {
      "cell_type": "code",
      "execution_count": 36,
      "id": "f750b5e4",
      "metadata": {
        "colab": {
          "base_uri": "https://localhost:8080/"
        },
        "id": "f750b5e4",
        "outputId": "1ca14940-3b52-449a-817d-8ba12ef021e8"
      },
      "outputs": [
        {
          "output_type": "stream",
          "name": "stdout",
          "text": [
            "in g(x): x = 4\n"
          ]
        },
        {
          "output_type": "execute_result",
          "data": {
            "text/plain": [
              "4"
            ]
          },
          "metadata": {},
          "execution_count": 36
        }
      ],
      "source": [
        "def g(x):\n",
        "    def h():\n",
        "        x = 'abc'\n",
        "    x = x + 1\n",
        "    print('in g(x): x =', x)\n",
        "    h()\n",
        "    return x\n",
        "\n",
        "x = 3\n",
        "z = g(x)\n",
        "z"
      ]
    },
    {
      "cell_type": "markdown",
      "id": "0dbe4879",
      "metadata": {
        "id": "0dbe4879"
      },
      "source": [
        "-   [Ver en Python Tutor](https://pythontutor.com/render.html#code=def%20g%28x%29%3A%0A%20%20%20%20def%20h%28%29%3A%0A%20%20%20%20%20%20%20%20x%20%3D%20'abc'%0A%20%20%20%20x%20%3D%20x%20%2B%201%0A%20%20%20%20print%28'in%20g%28x%29%3A%20x%20%3D',%20x%29%0A%20%20%20%20h%28%29%0A%20%20%20%20return%20x%0A%0Ax%20%3D%203%0Az%20%3D%20g%28x%29&cumulative=false&curInstr=0&heapPrimitives=nevernest&mode=display&origin=opt-frontend.js&py=311&rawInputLstJSON=%5B%5D&textReferences=false)"
      ]
    },
    {
      "cell_type": "markdown",
      "id": "e468ddce",
      "metadata": {
        "id": "e468ddce"
      },
      "source": [
        "## Descomposición y abstracción\n",
        "\n",
        "-   Concepto **poderoso**.\n",
        "\n",
        "-   El código es **REUTILIZABLE** y solamente tiene que ser **depurado**\n",
        "    una vez."
      ]
    },
    {
      "cell_type": "markdown",
      "source": [
        "# Python Extras"
      ],
      "metadata": {
        "id": "bAPXZ7n46xcA"
      },
      "id": "bAPXZ7n46xcA"
    },
    {
      "cell_type": "code",
      "source": [
        "def f(x,y=1,z=1):\n",
        "  return x+y+z\n",
        "\n",
        "f(1, z=2, y=3)"
      ],
      "metadata": {
        "colab": {
          "base_uri": "https://localhost:8080/"
        },
        "id": "Gce2CuXC63hq",
        "outputId": "33d1843f-87bf-42bc-fe27-c3dd3af5df79"
      },
      "id": "Gce2CuXC63hq",
      "execution_count": 42,
      "outputs": [
        {
          "output_type": "execute_result",
          "data": {
            "text/plain": [
              "6"
            ]
          },
          "metadata": {},
          "execution_count": 42
        }
      ]
    },
    {
      "cell_type": "code",
      "source": [
        "def g(x, y, *z):\n",
        "  res = x + y + sum(z)\n",
        "  return res\n",
        "\n",
        "g(2,3,1,2,5,4,5,4)"
      ],
      "metadata": {
        "colab": {
          "base_uri": "https://localhost:8080/"
        },
        "id": "qUzyq1dz7RWJ",
        "outputId": "e2983af4-e871-42f8-fe24-e1e8a66f190c"
      },
      "id": "qUzyq1dz7RWJ",
      "execution_count": 43,
      "outputs": [
        {
          "output_type": "execute_result",
          "data": {
            "text/plain": [
              "26"
            ]
          },
          "metadata": {},
          "execution_count": 43
        }
      ]
    }
  ],
  "metadata": {
    "kernelspec": {
      "display_name": "base",
      "language": "python",
      "name": "python3"
    },
    "language_info": {
      "codemirror_mode": {
        "name": "ipython",
        "version": 3
      },
      "file_extension": ".py",
      "mimetype": "text/x-python",
      "name": "python",
      "nbconvert_exporter": "python",
      "pygments_lexer": "ipython3",
      "version": "3.13.5"
    },
    "colab": {
      "provenance": []
    }
  },
  "nbformat": 4,
  "nbformat_minor": 5
}
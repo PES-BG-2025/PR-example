{
  "cells": [
    {
      "cell_type": "markdown",
      "metadata": {
        "id": "view-in-github",
        "colab_type": "text"
      },
      "source": [
        "<a href=\"https://colab.research.google.com/github/diego10jerry-cpu/PR-example/blob/main/06-dictionaries.ipynb\" target=\"_parent\"><img src=\"https://colab.research.google.com/assets/colab-badge.svg\" alt=\"Open In Colab\"/></a>"
      ]
    },
    {
      "cell_type": "markdown",
      "metadata": {
        "id": "merdNldgXe25"
      },
      "source": [
        "# Introducción a las ciencias de la computación *y programación en Python*\n",
        "\n",
        "*Banco de Guatemala*  \n",
        "*PES 2025-2026*  \n",
        "*Programación I*  \n",
        "*Septiembre de 2025*  "
      ]
    },
    {
      "cell_type": "markdown",
      "metadata": {
        "id": "R1XffmNNXe25"
      },
      "source": [
        "## Abstract\n",
        "> \"**Talk is cheap. Show me the code.**\" *Linus Torvalds*\n",
        "\n",
        "- Veremos un nuevo tipo compuesto en Python: los diccionarios."
      ]
    },
    {
      "cell_type": "markdown",
      "metadata": {
        "id": "lAaQ1njLXe26"
      },
      "source": [
        "# Diccionarios\n",
        "\n",
        "-   Supongamos que queremos guardar información de estudiantes de esta\n",
        "    forma:"
      ]
    },
    {
      "cell_type": "code",
      "execution_count": 5,
      "metadata": {
        "id": "8RCLfILUXe26"
      },
      "outputs": [],
      "source": [
        "names = ['Ana', 'John', 'Denise', 'Katy']\n",
        "grade = ['B', 'A+', 'A', 'A']\n",
        "course = [2.00, 6.0001, 20.002, 9.01]"
      ]
    },
    {
      "cell_type": "markdown",
      "metadata": {
        "id": "U9-vsL38Xe26"
      },
      "source": [
        "-   Utilizamos una lista diferente para cada elemento.\n",
        "\n",
        "    -   Cada lista debe ser del mismo largo.\n",
        "\n",
        "-   Cada índice se refiere a la información de la misma persona."
      ]
    },
    {
      "cell_type": "markdown",
      "metadata": {
        "id": "wDoWdBkxXe26"
      },
      "source": [
        "## Diccionarios - consultar información\n",
        "\n",
        "-   Veamos esta función para obtener la información de `student`:"
      ]
    },
    {
      "cell_type": "code",
      "execution_count": 6,
      "metadata": {
        "id": "xJ6yTKjLXe26"
      },
      "outputs": [],
      "source": [
        "def get_grade(student, name_list, grade_list, course_list):\n",
        "    i = name_list.index(student)\n",
        "    grade = grade_list[i]\n",
        "    course = course_list[i]\n",
        "    return (course, grade)\n"
      ]
    },
    {
      "cell_type": "code",
      "source": [],
      "metadata": {
        "id": "ISyvye_jfRRP"
      },
      "execution_count": null,
      "outputs": []
    },
    {
      "cell_type": "markdown",
      "metadata": {
        "id": "INBMjHTHXe27"
      },
      "source": [
        "¡Este método tiene varias desventajas!\n",
        "\n",
        "-   Es **enmarañado** si se debe registrar mucha información diferente.\n",
        "\n",
        "-   Se deben mantener muchas listas.\n",
        "\n",
        "-   Siempre deben ser índices enteros.\n",
        "\n",
        "-   Se debe recordar actualizar múltiples listas."
      ]
    },
    {
      "cell_type": "markdown",
      "metadata": {
        "id": "57Sy_RmcXe27"
      },
      "source": [
        "## Operaciones de diccionarios\n",
        "\n",
        "-   `grades.keys()` devuelve un iterable que actúa como una tupla de\n",
        "    todas las llaves.\n",
        "\n",
        "-   `grades.values()` devuelve un iterable que actúa como una tupla de\n",
        "    los elementos almacenados."
      ]
    },
    {
      "cell_type": "code",
      "execution_count": 7,
      "metadata": {
        "id": "dTlFbv22Xe27"
      },
      "outputs": [],
      "source": [
        "grades = {'Ana':'B', 'John':'A+', 'Denise':'A', 'Katy':'A'}"
      ]
    },
    {
      "cell_type": "code",
      "source": [
        "# acceder al valor almacenado en la llave ana\n",
        "grades[\"Ana\"]"
      ],
      "metadata": {
        "id": "AJKrKjXGf_1j",
        "outputId": "523ecf42-334b-4d93-9dab-83b4caf1c6c1",
        "colab": {
          "base_uri": "https://localhost:8080/",
          "height": 36
        }
      },
      "execution_count": 8,
      "outputs": [
        {
          "output_type": "execute_result",
          "data": {
            "text/plain": [
              "'B'"
            ],
            "application/vnd.google.colaboratory.intrinsic+json": {
              "type": "string"
            }
          },
          "metadata": {},
          "execution_count": 8
        }
      ]
    },
    {
      "cell_type": "code",
      "source": [
        "i = name.index(\"Ana\")\n",
        "grade[i]"
      ],
      "metadata": {
        "id": "rzflw_ncgPOS",
        "outputId": "941c3d73-4896-4d69-bb24-1aa50943e188",
        "colab": {
          "base_uri": "https://localhost:8080/",
          "height": 165
        }
      },
      "execution_count": 12,
      "outputs": [
        {
          "output_type": "error",
          "ename": "NameError",
          "evalue": "name 'name' is not defined",
          "traceback": [
            "\u001b[0;31m---------------------------------------------------------------------------\u001b[0m",
            "\u001b[0;31mNameError\u001b[0m                                 Traceback (most recent call last)",
            "\u001b[0;32m/tmp/ipython-input-2574388090.py\u001b[0m in \u001b[0;36m<cell line: 0>\u001b[0;34m()\u001b[0m\n\u001b[0;32m----> 1\u001b[0;31m \u001b[0mi\u001b[0m \u001b[0;34m=\u001b[0m \u001b[0mname\u001b[0m\u001b[0;34m.\u001b[0m\u001b[0mindex\u001b[0m\u001b[0;34m(\u001b[0m\u001b[0;34m\"Ana\"\u001b[0m\u001b[0;34m)\u001b[0m\u001b[0;34m\u001b[0m\u001b[0;34m\u001b[0m\u001b[0m\n\u001b[0m\u001b[1;32m      2\u001b[0m \u001b[0mgrade\u001b[0m\u001b[0;34m[\u001b[0m\u001b[0mi\u001b[0m\u001b[0;34m]\u001b[0m\u001b[0;34m\u001b[0m\u001b[0;34m\u001b[0m\u001b[0m\n",
            "\u001b[0;31mNameError\u001b[0m: name 'name' is not defined"
          ]
        }
      ]
    },
    {
      "cell_type": "code",
      "source": [
        "# ejempo\n",
        "dx = 0.5\n",
        "x = [dx*i for i in range(1000)]\n",
        "evals = {xi : 2*xi for xi in x}\n",
        "#evals"
      ],
      "metadata": {
        "id": "eB89yy4_g4Vc"
      },
      "execution_count": 17,
      "outputs": []
    },
    {
      "cell_type": "code",
      "execution_count": null,
      "metadata": {
        "id": "zlwJZK-BXe27"
      },
      "outputs": [],
      "source": [
        "grades.keys()"
      ]
    },
    {
      "cell_type": "code",
      "execution_count": 18,
      "metadata": {
        "id": "r_dbneoMXe27",
        "outputId": "b257cccb-1f27-4528-a558-078641a5a978",
        "colab": {
          "base_uri": "https://localhost:8080/"
        }
      },
      "outputs": [
        {
          "output_type": "execute_result",
          "data": {
            "text/plain": [
              "dict_values(['B', 'A+', 'A', 'A'])"
            ]
          },
          "metadata": {},
          "execution_count": 18
        }
      ],
      "source": [
        "grades.values() # ['A', 'A', 'A+', 'B']"
      ]
    },
    {
      "cell_type": "code",
      "source": [
        "# diccionario son mutables, ejercicio para cambiar notas de un estudiante\n",
        "grades['Ana'] = [\"B\", \"A+\"]\n",
        "grades ['Ana']\n",
        "\n",
        "# agrego una nota\n",
        "grades['Ana'].append(\"C\")\n",
        "grades\n",
        "\n",
        "# cambiar la mala nota\n",
        "\n",
        "#grades['Ana'] = [\"B\", \"A+\"]\n",
        "#grades['Ana'].append(\"A\")\n",
        "#grades"
      ],
      "metadata": {
        "id": "Y5RvF4O3iqex",
        "outputId": "a74a96c3-2e70-46e0-9f87-e513386789bb",
        "colab": {
          "base_uri": "https://localhost:8080/"
        }
      },
      "execution_count": 30,
      "outputs": [
        {
          "output_type": "execute_result",
          "data": {
            "text/plain": [
              "{'Ana': ['B', 'A+', 'C'], 'John': 'A+', 'Denise': 'A', 'Katy': 'A'}"
            ]
          },
          "metadata": {},
          "execution_count": 30
        }
      ]
    },
    {
      "cell_type": "markdown",
      "metadata": {
        "id": "6jC_UmnOXe27"
      },
      "source": [
        "## Llaves y valores\n",
        "\n",
        "-   Valores:\n",
        "    -   De cualquier tipo (mutables e inmutables).\n",
        "    -   Pueden ser duplicados.\n",
        "    -   Pueden ser listas o incluso otros diccionarios.\n",
        "\n",
        "-   Llaves:\n",
        "    -   Deben ser **únicas**.\n",
        "    -   Deben ser de tipos **inmutables**.\n",
        "        -   Cuidado con el tipo `float` utilizado como llave.\n",
        "\n",
        "-   ¡**No hay un orden** en las llaves o valores!"
      ]
    },
    {
      "cell_type": "code",
      "execution_count": null,
      "metadata": {
        "id": "55H49ss9Xe27"
      },
      "outputs": [],
      "source": [
        "d = {4:{1:0}, (1,3):\"twelve\", 'const':[3.14,2.7,8.44]}"
      ]
    },
    {
      "cell_type": "markdown",
      "metadata": {
        "id": "GpX8E02gXe28"
      },
      "source": [
        "## Listas vs. Diccionarios\n",
        "\n",
        "- **Listas:**\n",
        "    -   Secuencia ordenada de elementos.\n",
        "    -   Búsqueda de elementos por índice entero.\n",
        "    -   Los índices tienen orden.\n",
        "    -   Índice o llave de tipo `int`.\n",
        "\n",
        "- **Diccionarios:**\n",
        "    -   **Asocian** una llave con un valor.\n",
        "    -   Búsqueda de elementos a través de otros elementos.\n",
        "    -   No existe un orden asociado.\n",
        "    -   Llave o índice de tipo **inmutable**."
      ]
    },
    {
      "cell_type": "markdown",
      "metadata": {
        "id": "Ftw1wag9Xe28"
      },
      "source": [
        "## Ejemplo: letras de canciones\n",
        "\n",
        "1.  Crearemos un diccionario de frecuencias, es decir, una estructura de\n",
        "    `str:int`\n",
        "\n",
        "2.  Encontraremos la palabra que más ocurre y cuántas veces.\n",
        "\n",
        "    -   Utilizamos una lista, por si hay más de una palabra.\n",
        "\n",
        "    -   Devolvemos una tupla `(list, int)`.\n",
        "\n",
        "3.  Encontraremos las palabras que ocurren al menos $X$ veces.\n",
        "\n",
        "    -   Permitimos al usuario escoger $X$ como parámetro.\n",
        "\n",
        "    -   Devolvemos una listsa de tuplas, donde cada tupla es\n",
        "        `(list, int)`, conteniendo la lista de palabras ordenadas por\n",
        "        frecuencia.\n",
        "\n",
        "    -   Del diccionario, obtenemos la palabra más frecuente y borramos\n",
        "        la entrada. Repetimos. Esto funciona porque estamos mutando el\n",
        "        diccionario de frecuencias."
      ]
    },
    {
      "cell_type": "markdown",
      "metadata": {
        "id": "TPS-cijxXe28"
      },
      "source": [
        "### Diccionario de frecuencias"
      ]
    },
    {
      "cell_type": "code",
      "execution_count": 70,
      "metadata": {
        "id": "w6MnAB0wXe28"
      },
      "outputs": [],
      "source": [
        "def lyrics_to_frequencies(lyrics):\n",
        "    myDict = {}\n",
        "    for word in lyrics:\n",
        "        if word in myDict:\n",
        "            myDict[word] += 1\n",
        "        else:\n",
        "            myDict[word] = 1\n",
        "    return myDict\n",
        "freqs = lyrics_to_frequencies(lyrics)"
      ]
    },
    {
      "cell_type": "markdown",
      "metadata": {
        "id": "KimeRD2EXe28"
      },
      "source": [
        "### Utilizando el diccionario"
      ]
    },
    {
      "cell_type": "code",
      "execution_count": 93,
      "metadata": {
        "id": "JGw3wWbUXe28",
        "outputId": "f947fb8e-13e4-4e57-ced3-18d8ff77dff4",
        "colab": {
          "base_uri": "https://localhost:8080/"
        }
      },
      "outputs": [
        {
          "output_type": "stream",
          "name": "stdout",
          "text": [
            "La palabra que más:  [' ']\n"
          ]
        }
      ],
      "source": [
        "# guia para resolver el ejercicio de vocales que más se repite\n",
        "def most_common_words(freqs):\n",
        "    values = freqs.values()\n",
        "    best = max(freqs.values())\n",
        "    words = []\n",
        "    for k in freqs:\n",
        "        if freqs[k] == best:\n",
        "            words.append(k)\n",
        "    return (words, best)\n",
        "\n",
        "results= most_common_words(freqs)\n",
        "\n",
        "print(f\"La palabra que más:  {results[0]}\")"
      ]
    },
    {
      "cell_type": "code",
      "source": [
        "most_common_words(freqs)[0]"
      ],
      "metadata": {
        "id": "BfbgVbGBpuM1",
        "outputId": "306f8186-69db-473d-821d-95946befb8b4",
        "colab": {
          "base_uri": "https://localhost:8080/"
        }
      },
      "execution_count": 82,
      "outputs": [
        {
          "output_type": "execute_result",
          "data": {
            "text/plain": [
              "[' ']"
            ]
          },
          "metadata": {},
          "execution_count": 82
        }
      ]
    },
    {
      "cell_type": "markdown",
      "metadata": {
        "id": "VQTtp3U7Xe28"
      },
      "source": [
        "### Aprovechando el uso de diccionario"
      ]
    },
    {
      "cell_type": "code",
      "execution_count": 89,
      "metadata": {
        "id": "fc6TtZAYXe28"
      },
      "outputs": [],
      "source": [
        "def words_often(freqs, minTimes):\n",
        "    result = []\n",
        "    done = False\n",
        "    while not done:\n",
        "        temp = most_common_words(freqs)\n",
        "        if temp[1] >= minTimes:\n",
        "            result.append(temp)\n",
        "            for w in temp[0]:\n",
        "                #remove word from dict\n",
        "                del(freqs[w])\n",
        "        else:\n",
        "            done = True\n",
        "    return result"
      ]
    },
    {
      "cell_type": "code",
      "execution_count": 64,
      "metadata": {
        "id": "6PiTFA_IXe28"
      },
      "outputs": [],
      "source": [
        "lyrics = \"\"\"\n",
        "Y soy el verbo que da acción a una buena conversación\n",
        "Cuando tu me nombras siente ganas soy\n",
        "La nueva alternativa contra contaminación\n",
        "Tú eres la energía que me carga soy\n",
        "Una arboleda que da sombra a tu casa\n",
        "Un viento suave que te soba la cara\n",
        "De todos tus sueños negra, soy la manifestación\n",
        "Y tú eres esa libertad soñada\n",
        "Soy la serenidad que lleva a la meditación\n",
        "Tú eres ese tan sagrado mantra soy\n",
        "Ese juguito 'e parcha que te baja la presión\n",
        "Siempre que te sube tú me llamas, ya\n",
        "Tira la sábana sal de la cama\n",
        "Vamos a conquistar toda la casa\n",
        "De todo lo que tu acostumbras soy contradicción\n",
        "Creo que eso es lo que a ti te llama\n",
        "chorus\n",
        "La complicidad es tanta\n",
        "Que nuestras vibraciones se complementan\n",
        "Lo que tienes me hace falta\n",
        "Y lo que tengo te hace ser más completa\n",
        "La afinidad es tanta\n",
        "Miro a tus ojos y ya sé lo que piensas\n",
        "Te quiero porque eres tantas\n",
        "Cositas bellas que me hacen creer que soy\n",
        "verse\n",
        "La levadura que te hace crecer el corazón\n",
        "Y tú la vitamina que me falta soy\n",
        "Ese rocío que se posa en tu vegetación\n",
        "Y tú esa tierra fértil que está escasa soy\n",
        "La blanca arena que alfombra tu playa\n",
        "Todo el follaje que da vida a tu mapa\n",
        "De toda idea creativa soy la gestación\n",
        "Tú eres la utopía deseada\n",
        "chorus\n",
        "La complicidad es tanta\n",
        "Que nuestras vibraciones se complementan\n",
        "Lo que tienes me hace falta\n",
        "Y lo que tengo te hace ser más completa\n",
        "La afinidad es tanta\n",
        "Miro a tus ojos y ya sé lo que piensas\n",
        "Te quiero porque eres tantas\n",
        "Cositas bellas que me hacen sentir muy bien\n",
        "verse\n",
        "Soy la locura que estremece soy tu adicción\n",
        "Tú eres mi felicidad mi calma, soy\n",
        "Una colonia que va en busca de liberación\n",
        "Tú eres esa dosis de esperanza soy\n",
        "La cordillera que en la distancia\n",
        "Te cura la visión con su elegancia\n",
        "De todo loco que lo intenta soy la frustración\n",
        "Tú eres ese reto que me encanta\"\"\""
      ]
    },
    {
      "cell_type": "code",
      "execution_count": 94,
      "metadata": {
        "id": "E3oCdLs_Xe28"
      },
      "outputs": [],
      "source": [
        "# lyrics.replace(\"\\n\", \" \").split(\" \")"
      ]
    },
    {
      "cell_type": "code",
      "execution_count": 98,
      "metadata": {
        "id": "EgCY462vXe28",
        "outputId": "9c800915-3089-4632-cdf2-b64d609128bd",
        "colab": {
          "base_uri": "https://localhost:8080/"
        }
      },
      "outputs": [
        {
          "output_type": "execute_result",
          "data": {
            "text/plain": [
              "(['que'], 30)"
            ]
          },
          "metadata": {},
          "execution_count": 98
        }
      ],
      "source": [
        "words = lyrics.replace(\"\\n\", \" \").split(' ')\n",
        "freqs = lyrics_to_frequencies(words)\n",
        "most_common_words(freqs)"
      ]
    },
    {
      "cell_type": "code",
      "execution_count": null,
      "metadata": {
        "id": "BTOyFWe_Xe28"
      },
      "outputs": [],
      "source": [
        "words_often(freqs, 5)"
      ]
    },
    {
      "cell_type": "markdown",
      "metadata": {
        "id": "9L6N5VNTXe28"
      },
      "source": [
        "## Counter"
      ]
    },
    {
      "cell_type": "code",
      "execution_count": 100,
      "metadata": {
        "id": "SzvO2pWbXe28"
      },
      "outputs": [],
      "source": [
        "from collections import Counter\n",
        "\n",
        "dc = Counter(words)"
      ]
    },
    {
      "cell_type": "code",
      "execution_count": 101,
      "metadata": {
        "id": "U1d4OvyQXe28",
        "outputId": "fcb70d9a-d3b3-47ae-f7e2-65d7dc68fbe0",
        "colab": {
          "base_uri": "https://localhost:8080/"
        }
      },
      "outputs": [
        {
          "output_type": "execute_result",
          "data": {
            "text/plain": [
              "[('que', 30), ('la', 16), ('soy', 14), ('me', 9), ('eres', 9)]"
            ]
          },
          "metadata": {},
          "execution_count": 101
        }
      ],
      "source": [
        "dc.most_common(5)"
      ]
    }
  ],
  "metadata": {
    "kernelspec": {
      "display_name": "base",
      "language": "python",
      "name": "python3"
    },
    "language_info": {
      "codemirror_mode": {
        "name": "ipython",
        "version": 3
      },
      "file_extension": ".py",
      "mimetype": "text/x-python",
      "name": "python",
      "nbconvert_exporter": "python",
      "pygments_lexer": "ipython3",
      "version": "3.13.5"
    },
    "colab": {
      "provenance": [],
      "include_colab_link": true
    }
  },
  "nbformat": 4,
  "nbformat_minor": 0
}